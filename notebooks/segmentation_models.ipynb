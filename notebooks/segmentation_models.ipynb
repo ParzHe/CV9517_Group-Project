{
 "cells": [
  {
   "cell_type": "markdown",
   "id": "eefe3629",
   "metadata": {},
   "source": [
    "# **COMP9517 - Group Project (Segmentation Models Pytorch)**"
   ]
  },
  {
   "cell_type": "markdown",
   "id": "bb76af11",
   "metadata": {},
   "source": [
    "## **0. Add Imports**"
   ]
  },
  {
   "cell_type": "code",
   "execution_count": 1,
   "id": "16f037ca",
   "metadata": {},
   "outputs": [],
   "source": [
    "# !conda env create -f environment.yaml"
   ]
  },
  {
   "cell_type": "code",
   "execution_count": 2,
   "id": "45474d93",
   "metadata": {},
   "outputs": [],
   "source": [
    "import os\n",
    "import sys\n",
    "sys.path.append(os.path.join(os.getcwd(), \"..\"))\n",
    "\n",
    "import lightning as L\n",
    "from lightning.pytorch.callbacks import ModelCheckpoint, LearningRateMonitor, EarlyStopping, RichProgressBar, RichModelSummary\n",
    "from lightning.pytorch.loggers import TensorBoardLogger, WandbLogger\n",
    "\n",
    "from data import AerialDeadTreeSegDataModule, download_dataset\n",
    "from lightning.pytorch.tuner import Tuner\n",
    "from lightning_modules import SMPLitModule\n",
    "from models import FreezeSMPEncoderUtils\n",
    "from utils import paths,TimerCallback\n",
    "import segmentation_models_pytorch as smp\n"
   ]
  },
  {
   "cell_type": "code",
   "execution_count": 3,
   "id": "6bfcd838",
   "metadata": {},
   "outputs": [],
   "source": [
    "ARCH = \"UNet\"\n",
    "ENCODER_NAME = \"mit_b5\"\n",
    "VERSION = \"val_transform_test2\"\n",
    "TARGET_SIZE = 256\n",
    "LOSS1 = smp.losses.JaccardLoss(mode='binary', from_logits=True)\n",
    "LOSS2 = smp.losses.FocalLoss(mode='binary')"
   ]
  },
  {
   "cell_type": "markdown",
   "id": "bfbd7cde",
   "metadata": {},
   "source": [
    "## **1. Simple Summary of the Dattaset**"
   ]
  },
  {
   "cell_type": "code",
   "execution_count": 4,
   "id": "8ed9f2b4",
   "metadata": {},
   "outputs": [
    {
     "name": "stdout",
     "output_type": "stream",
     "text": [
      "Max RGB resolution: (652, 636), Min RGB resolution: (317, 294)\n",
      "Max NRG resolution: (652, 636), Min NRG resolution: (317, 294)\n"
     ]
    }
   ],
   "source": [
    "from PIL import Image\n",
    "# Get the data folder\n",
    "data_folder = download_dataset()\n",
    "\n",
    "rgb_dir = os.path.join(data_folder, \"RGB_images\")\n",
    "nrg_dir = os.path.join(data_folder, \"NRG_images\")\n",
    "mask_dir = os.path.join(data_folder, \"masks\")\n",
    "\n",
    "# Get the max and min resolution of the images\n",
    "def get_max_min_resolution(image_dir):\n",
    "    max_res = (0, 0)\n",
    "    min_res = (float('inf'), float('inf'))\n",
    "    for filename in os.listdir(image_dir):\n",
    "        if filename.endswith(\".png\"):\n",
    "            filepath = os.path.join(image_dir, filename)\n",
    "            with open(filepath, 'rb') as f:\n",
    "                img = Image.open(f)\n",
    "                height, width = img.size\n",
    "                max_res = (max(max_res[0], height), max(max_res[1], width))\n",
    "                min_res = (min(min_res[0], height), min(min_res[1], width))\n",
    "    return max_res, min_res\n",
    "max_rgb_res, min_rgb_res = get_max_min_resolution(rgb_dir)\n",
    "max_nrg_res, min_nrg_res = get_max_min_resolution(nrg_dir)\n",
    "print(f\"Max RGB resolution: {max_rgb_res}, Min RGB resolution: {min_rgb_res}\")\n",
    "print(f\"Max NRG resolution: {max_nrg_res}, Min NRG resolution: {min_nrg_res}\")"
   ]
  },
  {
   "cell_type": "markdown",
   "id": "b7db092b",
   "metadata": {},
   "source": [
    "## **1. Find Suggested Learning Rate**"
   ]
  },
  {
   "cell_type": "code",
   "execution_count": 5,
   "id": "2df12677",
   "metadata": {},
   "outputs": [],
   "source": [
    "data_module = AerialDeadTreeSegDataModule(\n",
    "    val_split=0.1, test_split=0.2, seed=42,\n",
    "    modality=\"merged\", # in_channels=4. If modality is \"merged\", it will use 4 channels (RGB + NIR); Otherwise, it will use 3 channels (RGB).\n",
    "    batch_size=32,\n",
    "    num_workers= int(os.cpu_count() / 2) if os.cpu_count() is not None else 0,\n",
    "    target_size=TARGET_SIZE)"
   ]
  },
  {
   "cell_type": "code",
   "execution_count": 6,
   "id": "03d1d709",
   "metadata": {},
   "outputs": [
    {
     "name": "stdout",
     "output_type": "stream",
     "text": [
      "Layer: patch_embed1, Module: OverlapPatchEmbed(\n",
      "  (proj): Conv2d(4, 64, kernel_size=(7, 7), stride=(4, 4), padding=(3, 3))\n",
      "  (norm): LayerNorm((64,), eps=1e-05, elementwise_affine=True)\n",
      ")\n",
      "Layer: patch_embed2, Module: OverlapPatchEmbed(\n",
      "  (proj): Conv2d(64, 128, kernel_size=(3, 3), stride=(2, 2), padding=(1, 1))\n",
      "  (norm): LayerNorm((128,), eps=1e-05, elementwise_affine=True)\n",
      ")\n",
      "Layer: patch_embed3, Module: OverlapPatchEmbed(\n",
      "  (proj): Conv2d(128, 320, kernel_size=(3, 3), stride=(2, 2), padding=(1, 1))\n",
      "  (norm): LayerNorm((320,), eps=1e-05, elementwise_affine=True)\n",
      ")\n",
      "Layer: patch_embed4, Module: OverlapPatchEmbed(\n",
      "  (proj): Conv2d(320, 512, kernel_size=(3, 3), stride=(2, 2), padding=(1, 1))\n",
      "  (norm): LayerNorm((512,), eps=1e-05, elementwise_affine=True)\n",
      ")\n",
      "Layer: block1, Module: Sequential(\n",
      "  (0): Block(\n",
      "    (norm1): LayerNorm((64,), eps=1e-06, elementwise_affine=True)\n",
      "    (attn): Attention(\n",
      "      (q): Linear(in_features=64, out_features=64, bias=True)\n",
      "      (kv): Linear(in_features=64, out_features=128, bias=True)\n",
      "      (attn_drop): Dropout(p=0.0, inplace=False)\n",
      "      (proj): Linear(in_features=64, out_features=64, bias=True)\n",
      "      (proj_drop): Dropout(p=0.0, inplace=False)\n",
      "      (sr): Conv2d(64, 64, kernel_size=(8, 8), stride=(8, 8))\n",
      "      (norm): LayerNorm((64,), eps=1e-05, elementwise_affine=True)\n",
      "    )\n",
      "    (drop_path): Identity()\n",
      "    (norm2): LayerNorm((64,), eps=1e-06, elementwise_affine=True)\n",
      "    (mlp): Mlp(\n",
      "      (fc1): Linear(in_features=64, out_features=256, bias=True)\n",
      "      (dwconv): DWConv(\n",
      "        (dwconv): Conv2d(256, 256, kernel_size=(3, 3), stride=(1, 1), padding=(1, 1), groups=256)\n",
      "      )\n",
      "      (act): GELU(approximate='none')\n",
      "      (fc2): Linear(in_features=256, out_features=64, bias=True)\n",
      "      (drop): Dropout(p=0.0, inplace=False)\n",
      "    )\n",
      "  )\n",
      "  (1): Block(\n",
      "    (norm1): LayerNorm((64,), eps=1e-06, elementwise_affine=True)\n",
      "    (attn): Attention(\n",
      "      (q): Linear(in_features=64, out_features=64, bias=True)\n",
      "      (kv): Linear(in_features=64, out_features=128, bias=True)\n",
      "      (attn_drop): Dropout(p=0.0, inplace=False)\n",
      "      (proj): Linear(in_features=64, out_features=64, bias=True)\n",
      "      (proj_drop): Dropout(p=0.0, inplace=False)\n",
      "      (sr): Conv2d(64, 64, kernel_size=(8, 8), stride=(8, 8))\n",
      "      (norm): LayerNorm((64,), eps=1e-05, elementwise_affine=True)\n",
      "    )\n",
      "    (drop_path): DropPath(drop_prob=0.002)\n",
      "    (norm2): LayerNorm((64,), eps=1e-06, elementwise_affine=True)\n",
      "    (mlp): Mlp(\n",
      "      (fc1): Linear(in_features=64, out_features=256, bias=True)\n",
      "      (dwconv): DWConv(\n",
      "        (dwconv): Conv2d(256, 256, kernel_size=(3, 3), stride=(1, 1), padding=(1, 1), groups=256)\n",
      "      )\n",
      "      (act): GELU(approximate='none')\n",
      "      (fc2): Linear(in_features=256, out_features=64, bias=True)\n",
      "      (drop): Dropout(p=0.0, inplace=False)\n",
      "    )\n",
      "  )\n",
      "  (2): Block(\n",
      "    (norm1): LayerNorm((64,), eps=1e-06, elementwise_affine=True)\n",
      "    (attn): Attention(\n",
      "      (q): Linear(in_features=64, out_features=64, bias=True)\n",
      "      (kv): Linear(in_features=64, out_features=128, bias=True)\n",
      "      (attn_drop): Dropout(p=0.0, inplace=False)\n",
      "      (proj): Linear(in_features=64, out_features=64, bias=True)\n",
      "      (proj_drop): Dropout(p=0.0, inplace=False)\n",
      "      (sr): Conv2d(64, 64, kernel_size=(8, 8), stride=(8, 8))\n",
      "      (norm): LayerNorm((64,), eps=1e-05, elementwise_affine=True)\n",
      "    )\n",
      "    (drop_path): DropPath(drop_prob=0.004)\n",
      "    (norm2): LayerNorm((64,), eps=1e-06, elementwise_affine=True)\n",
      "    (mlp): Mlp(\n",
      "      (fc1): Linear(in_features=64, out_features=256, bias=True)\n",
      "      (dwconv): DWConv(\n",
      "        (dwconv): Conv2d(256, 256, kernel_size=(3, 3), stride=(1, 1), padding=(1, 1), groups=256)\n",
      "      )\n",
      "      (act): GELU(approximate='none')\n",
      "      (fc2): Linear(in_features=256, out_features=64, bias=True)\n",
      "      (drop): Dropout(p=0.0, inplace=False)\n",
      "    )\n",
      "  )\n",
      ")\n",
      "Layer: norm1, Module: LayerNorm((64,), eps=1e-06, elementwise_affine=True)\n",
      "Layer: block2, Module: Sequential(\n",
      "  (0): Block(\n",
      "    (norm1): LayerNorm((128,), eps=1e-06, elementwise_affine=True)\n",
      "    (attn): Attention(\n",
      "      (q): Linear(in_features=128, out_features=128, bias=True)\n",
      "      (kv): Linear(in_features=128, out_features=256, bias=True)\n",
      "      (attn_drop): Dropout(p=0.0, inplace=False)\n",
      "      (proj): Linear(in_features=128, out_features=128, bias=True)\n",
      "      (proj_drop): Dropout(p=0.0, inplace=False)\n",
      "      (sr): Conv2d(128, 128, kernel_size=(4, 4), stride=(4, 4))\n",
      "      (norm): LayerNorm((128,), eps=1e-05, elementwise_affine=True)\n",
      "    )\n",
      "    (drop_path): DropPath(drop_prob=0.006)\n",
      "    (norm2): LayerNorm((128,), eps=1e-06, elementwise_affine=True)\n",
      "    (mlp): Mlp(\n",
      "      (fc1): Linear(in_features=128, out_features=512, bias=True)\n",
      "      (dwconv): DWConv(\n",
      "        (dwconv): Conv2d(512, 512, kernel_size=(3, 3), stride=(1, 1), padding=(1, 1), groups=512)\n",
      "      )\n",
      "      (act): GELU(approximate='none')\n",
      "      (fc2): Linear(in_features=512, out_features=128, bias=True)\n",
      "      (drop): Dropout(p=0.0, inplace=False)\n",
      "    )\n",
      "  )\n",
      "  (1): Block(\n",
      "    (norm1): LayerNorm((128,), eps=1e-06, elementwise_affine=True)\n",
      "    (attn): Attention(\n",
      "      (q): Linear(in_features=128, out_features=128, bias=True)\n",
      "      (kv): Linear(in_features=128, out_features=256, bias=True)\n",
      "      (attn_drop): Dropout(p=0.0, inplace=False)\n",
      "      (proj): Linear(in_features=128, out_features=128, bias=True)\n",
      "      (proj_drop): Dropout(p=0.0, inplace=False)\n",
      "      (sr): Conv2d(128, 128, kernel_size=(4, 4), stride=(4, 4))\n",
      "      (norm): LayerNorm((128,), eps=1e-05, elementwise_affine=True)\n",
      "    )\n",
      "    (drop_path): DropPath(drop_prob=0.008)\n",
      "    (norm2): LayerNorm((128,), eps=1e-06, elementwise_affine=True)\n",
      "    (mlp): Mlp(\n",
      "      (fc1): Linear(in_features=128, out_features=512, bias=True)\n",
      "      (dwconv): DWConv(\n",
      "        (dwconv): Conv2d(512, 512, kernel_size=(3, 3), stride=(1, 1), padding=(1, 1), groups=512)\n",
      "      )\n",
      "      (act): GELU(approximate='none')\n",
      "      (fc2): Linear(in_features=512, out_features=128, bias=True)\n",
      "      (drop): Dropout(p=0.0, inplace=False)\n",
      "    )\n",
      "  )\n",
      "  (2): Block(\n",
      "    (norm1): LayerNorm((128,), eps=1e-06, elementwise_affine=True)\n",
      "    (attn): Attention(\n",
      "      (q): Linear(in_features=128, out_features=128, bias=True)\n",
      "      (kv): Linear(in_features=128, out_features=256, bias=True)\n",
      "      (attn_drop): Dropout(p=0.0, inplace=False)\n",
      "      (proj): Linear(in_features=128, out_features=128, bias=True)\n",
      "      (proj_drop): Dropout(p=0.0, inplace=False)\n",
      "      (sr): Conv2d(128, 128, kernel_size=(4, 4), stride=(4, 4))\n",
      "      (norm): LayerNorm((128,), eps=1e-05, elementwise_affine=True)\n",
      "    )\n",
      "    (drop_path): DropPath(drop_prob=0.010)\n",
      "    (norm2): LayerNorm((128,), eps=1e-06, elementwise_affine=True)\n",
      "    (mlp): Mlp(\n",
      "      (fc1): Linear(in_features=128, out_features=512, bias=True)\n",
      "      (dwconv): DWConv(\n",
      "        (dwconv): Conv2d(512, 512, kernel_size=(3, 3), stride=(1, 1), padding=(1, 1), groups=512)\n",
      "      )\n",
      "      (act): GELU(approximate='none')\n",
      "      (fc2): Linear(in_features=512, out_features=128, bias=True)\n",
      "      (drop): Dropout(p=0.0, inplace=False)\n",
      "    )\n",
      "  )\n",
      "  (3): Block(\n",
      "    (norm1): LayerNorm((128,), eps=1e-06, elementwise_affine=True)\n",
      "    (attn): Attention(\n",
      "      (q): Linear(in_features=128, out_features=128, bias=True)\n",
      "      (kv): Linear(in_features=128, out_features=256, bias=True)\n",
      "      (attn_drop): Dropout(p=0.0, inplace=False)\n",
      "      (proj): Linear(in_features=128, out_features=128, bias=True)\n",
      "      (proj_drop): Dropout(p=0.0, inplace=False)\n",
      "      (sr): Conv2d(128, 128, kernel_size=(4, 4), stride=(4, 4))\n",
      "      (norm): LayerNorm((128,), eps=1e-05, elementwise_affine=True)\n",
      "    )\n",
      "    (drop_path): DropPath(drop_prob=0.012)\n",
      "    (norm2): LayerNorm((128,), eps=1e-06, elementwise_affine=True)\n",
      "    (mlp): Mlp(\n",
      "      (fc1): Linear(in_features=128, out_features=512, bias=True)\n",
      "      (dwconv): DWConv(\n",
      "        (dwconv): Conv2d(512, 512, kernel_size=(3, 3), stride=(1, 1), padding=(1, 1), groups=512)\n",
      "      )\n",
      "      (act): GELU(approximate='none')\n",
      "      (fc2): Linear(in_features=512, out_features=128, bias=True)\n",
      "      (drop): Dropout(p=0.0, inplace=False)\n",
      "    )\n",
      "  )\n",
      "  (4): Block(\n",
      "    (norm1): LayerNorm((128,), eps=1e-06, elementwise_affine=True)\n",
      "    (attn): Attention(\n",
      "      (q): Linear(in_features=128, out_features=128, bias=True)\n",
      "      (kv): Linear(in_features=128, out_features=256, bias=True)\n",
      "      (attn_drop): Dropout(p=0.0, inplace=False)\n",
      "      (proj): Linear(in_features=128, out_features=128, bias=True)\n",
      "      (proj_drop): Dropout(p=0.0, inplace=False)\n",
      "      (sr): Conv2d(128, 128, kernel_size=(4, 4), stride=(4, 4))\n",
      "      (norm): LayerNorm((128,), eps=1e-05, elementwise_affine=True)\n",
      "    )\n",
      "    (drop_path): DropPath(drop_prob=0.014)\n",
      "    (norm2): LayerNorm((128,), eps=1e-06, elementwise_affine=True)\n",
      "    (mlp): Mlp(\n",
      "      (fc1): Linear(in_features=128, out_features=512, bias=True)\n",
      "      (dwconv): DWConv(\n",
      "        (dwconv): Conv2d(512, 512, kernel_size=(3, 3), stride=(1, 1), padding=(1, 1), groups=512)\n",
      "      )\n",
      "      (act): GELU(approximate='none')\n",
      "      (fc2): Linear(in_features=512, out_features=128, bias=True)\n",
      "      (drop): Dropout(p=0.0, inplace=False)\n",
      "    )\n",
      "  )\n",
      "  (5): Block(\n",
      "    (norm1): LayerNorm((128,), eps=1e-06, elementwise_affine=True)\n",
      "    (attn): Attention(\n",
      "      (q): Linear(in_features=128, out_features=128, bias=True)\n",
      "      (kv): Linear(in_features=128, out_features=256, bias=True)\n",
      "      (attn_drop): Dropout(p=0.0, inplace=False)\n",
      "      (proj): Linear(in_features=128, out_features=128, bias=True)\n",
      "      (proj_drop): Dropout(p=0.0, inplace=False)\n",
      "      (sr): Conv2d(128, 128, kernel_size=(4, 4), stride=(4, 4))\n",
      "      (norm): LayerNorm((128,), eps=1e-05, elementwise_affine=True)\n",
      "    )\n",
      "    (drop_path): DropPath(drop_prob=0.016)\n",
      "    (norm2): LayerNorm((128,), eps=1e-06, elementwise_affine=True)\n",
      "    (mlp): Mlp(\n",
      "      (fc1): Linear(in_features=128, out_features=512, bias=True)\n",
      "      (dwconv): DWConv(\n",
      "        (dwconv): Conv2d(512, 512, kernel_size=(3, 3), stride=(1, 1), padding=(1, 1), groups=512)\n",
      "      )\n",
      "      (act): GELU(approximate='none')\n",
      "      (fc2): Linear(in_features=512, out_features=128, bias=True)\n",
      "      (drop): Dropout(p=0.0, inplace=False)\n",
      "    )\n",
      "  )\n",
      ")\n",
      "Layer: norm2, Module: LayerNorm((128,), eps=1e-06, elementwise_affine=True)\n",
      "Layer: block3, Module: Sequential(\n",
      "  (0): Block(\n",
      "    (norm1): LayerNorm((320,), eps=1e-06, elementwise_affine=True)\n",
      "    (attn): Attention(\n",
      "      (q): Linear(in_features=320, out_features=320, bias=True)\n",
      "      (kv): Linear(in_features=320, out_features=640, bias=True)\n",
      "      (attn_drop): Dropout(p=0.0, inplace=False)\n",
      "      (proj): Linear(in_features=320, out_features=320, bias=True)\n",
      "      (proj_drop): Dropout(p=0.0, inplace=False)\n",
      "      (sr): Conv2d(320, 320, kernel_size=(2, 2), stride=(2, 2))\n",
      "      (norm): LayerNorm((320,), eps=1e-05, elementwise_affine=True)\n",
      "    )\n",
      "    (drop_path): DropPath(drop_prob=0.018)\n",
      "    (norm2): LayerNorm((320,), eps=1e-06, elementwise_affine=True)\n",
      "    (mlp): Mlp(\n",
      "      (fc1): Linear(in_features=320, out_features=1280, bias=True)\n",
      "      (dwconv): DWConv(\n",
      "        (dwconv): Conv2d(1280, 1280, kernel_size=(3, 3), stride=(1, 1), padding=(1, 1), groups=1280)\n",
      "      )\n",
      "      (act): GELU(approximate='none')\n",
      "      (fc2): Linear(in_features=1280, out_features=320, bias=True)\n",
      "      (drop): Dropout(p=0.0, inplace=False)\n",
      "    )\n",
      "  )\n",
      "  (1): Block(\n",
      "    (norm1): LayerNorm((320,), eps=1e-06, elementwise_affine=True)\n",
      "    (attn): Attention(\n",
      "      (q): Linear(in_features=320, out_features=320, bias=True)\n",
      "      (kv): Linear(in_features=320, out_features=640, bias=True)\n",
      "      (attn_drop): Dropout(p=0.0, inplace=False)\n",
      "      (proj): Linear(in_features=320, out_features=320, bias=True)\n",
      "      (proj_drop): Dropout(p=0.0, inplace=False)\n",
      "      (sr): Conv2d(320, 320, kernel_size=(2, 2), stride=(2, 2))\n",
      "      (norm): LayerNorm((320,), eps=1e-05, elementwise_affine=True)\n",
      "    )\n",
      "    (drop_path): DropPath(drop_prob=0.020)\n",
      "    (norm2): LayerNorm((320,), eps=1e-06, elementwise_affine=True)\n",
      "    (mlp): Mlp(\n",
      "      (fc1): Linear(in_features=320, out_features=1280, bias=True)\n",
      "      (dwconv): DWConv(\n",
      "        (dwconv): Conv2d(1280, 1280, kernel_size=(3, 3), stride=(1, 1), padding=(1, 1), groups=1280)\n",
      "      )\n",
      "      (act): GELU(approximate='none')\n",
      "      (fc2): Linear(in_features=1280, out_features=320, bias=True)\n",
      "      (drop): Dropout(p=0.0, inplace=False)\n",
      "    )\n",
      "  )\n",
      "  (2): Block(\n",
      "    (norm1): LayerNorm((320,), eps=1e-06, elementwise_affine=True)\n",
      "    (attn): Attention(\n",
      "      (q): Linear(in_features=320, out_features=320, bias=True)\n",
      "      (kv): Linear(in_features=320, out_features=640, bias=True)\n",
      "      (attn_drop): Dropout(p=0.0, inplace=False)\n",
      "      (proj): Linear(in_features=320, out_features=320, bias=True)\n",
      "      (proj_drop): Dropout(p=0.0, inplace=False)\n",
      "      (sr): Conv2d(320, 320, kernel_size=(2, 2), stride=(2, 2))\n",
      "      (norm): LayerNorm((320,), eps=1e-05, elementwise_affine=True)\n",
      "    )\n",
      "    (drop_path): DropPath(drop_prob=0.022)\n",
      "    (norm2): LayerNorm((320,), eps=1e-06, elementwise_affine=True)\n",
      "    (mlp): Mlp(\n",
      "      (fc1): Linear(in_features=320, out_features=1280, bias=True)\n",
      "      (dwconv): DWConv(\n",
      "        (dwconv): Conv2d(1280, 1280, kernel_size=(3, 3), stride=(1, 1), padding=(1, 1), groups=1280)\n",
      "      )\n",
      "      (act): GELU(approximate='none')\n",
      "      (fc2): Linear(in_features=1280, out_features=320, bias=True)\n",
      "      (drop): Dropout(p=0.0, inplace=False)\n",
      "    )\n",
      "  )\n",
      "  (3): Block(\n",
      "    (norm1): LayerNorm((320,), eps=1e-06, elementwise_affine=True)\n",
      "    (attn): Attention(\n",
      "      (q): Linear(in_features=320, out_features=320, bias=True)\n",
      "      (kv): Linear(in_features=320, out_features=640, bias=True)\n",
      "      (attn_drop): Dropout(p=0.0, inplace=False)\n",
      "      (proj): Linear(in_features=320, out_features=320, bias=True)\n",
      "      (proj_drop): Dropout(p=0.0, inplace=False)\n",
      "      (sr): Conv2d(320, 320, kernel_size=(2, 2), stride=(2, 2))\n",
      "      (norm): LayerNorm((320,), eps=1e-05, elementwise_affine=True)\n",
      "    )\n",
      "    (drop_path): DropPath(drop_prob=0.024)\n",
      "    (norm2): LayerNorm((320,), eps=1e-06, elementwise_affine=True)\n",
      "    (mlp): Mlp(\n",
      "      (fc1): Linear(in_features=320, out_features=1280, bias=True)\n",
      "      (dwconv): DWConv(\n",
      "        (dwconv): Conv2d(1280, 1280, kernel_size=(3, 3), stride=(1, 1), padding=(1, 1), groups=1280)\n",
      "      )\n",
      "      (act): GELU(approximate='none')\n",
      "      (fc2): Linear(in_features=1280, out_features=320, bias=True)\n",
      "      (drop): Dropout(p=0.0, inplace=False)\n",
      "    )\n",
      "  )\n",
      "  (4): Block(\n",
      "    (norm1): LayerNorm((320,), eps=1e-06, elementwise_affine=True)\n",
      "    (attn): Attention(\n",
      "      (q): Linear(in_features=320, out_features=320, bias=True)\n",
      "      (kv): Linear(in_features=320, out_features=640, bias=True)\n",
      "      (attn_drop): Dropout(p=0.0, inplace=False)\n",
      "      (proj): Linear(in_features=320, out_features=320, bias=True)\n",
      "      (proj_drop): Dropout(p=0.0, inplace=False)\n",
      "      (sr): Conv2d(320, 320, kernel_size=(2, 2), stride=(2, 2))\n",
      "      (norm): LayerNorm((320,), eps=1e-05, elementwise_affine=True)\n",
      "    )\n",
      "    (drop_path): DropPath(drop_prob=0.025)\n",
      "    (norm2): LayerNorm((320,), eps=1e-06, elementwise_affine=True)\n",
      "    (mlp): Mlp(\n",
      "      (fc1): Linear(in_features=320, out_features=1280, bias=True)\n",
      "      (dwconv): DWConv(\n",
      "        (dwconv): Conv2d(1280, 1280, kernel_size=(3, 3), stride=(1, 1), padding=(1, 1), groups=1280)\n",
      "      )\n",
      "      (act): GELU(approximate='none')\n",
      "      (fc2): Linear(in_features=1280, out_features=320, bias=True)\n",
      "      (drop): Dropout(p=0.0, inplace=False)\n",
      "    )\n",
      "  )\n",
      "  (5): Block(\n",
      "    (norm1): LayerNorm((320,), eps=1e-06, elementwise_affine=True)\n",
      "    (attn): Attention(\n",
      "      (q): Linear(in_features=320, out_features=320, bias=True)\n",
      "      (kv): Linear(in_features=320, out_features=640, bias=True)\n",
      "      (attn_drop): Dropout(p=0.0, inplace=False)\n",
      "      (proj): Linear(in_features=320, out_features=320, bias=True)\n",
      "      (proj_drop): Dropout(p=0.0, inplace=False)\n",
      "      (sr): Conv2d(320, 320, kernel_size=(2, 2), stride=(2, 2))\n",
      "      (norm): LayerNorm((320,), eps=1e-05, elementwise_affine=True)\n",
      "    )\n",
      "    (drop_path): DropPath(drop_prob=0.027)\n",
      "    (norm2): LayerNorm((320,), eps=1e-06, elementwise_affine=True)\n",
      "    (mlp): Mlp(\n",
      "      (fc1): Linear(in_features=320, out_features=1280, bias=True)\n",
      "      (dwconv): DWConv(\n",
      "        (dwconv): Conv2d(1280, 1280, kernel_size=(3, 3), stride=(1, 1), padding=(1, 1), groups=1280)\n",
      "      )\n",
      "      (act): GELU(approximate='none')\n",
      "      (fc2): Linear(in_features=1280, out_features=320, bias=True)\n",
      "      (drop): Dropout(p=0.0, inplace=False)\n",
      "    )\n",
      "  )\n",
      "  (6): Block(\n",
      "    (norm1): LayerNorm((320,), eps=1e-06, elementwise_affine=True)\n",
      "    (attn): Attention(\n",
      "      (q): Linear(in_features=320, out_features=320, bias=True)\n",
      "      (kv): Linear(in_features=320, out_features=640, bias=True)\n",
      "      (attn_drop): Dropout(p=0.0, inplace=False)\n",
      "      (proj): Linear(in_features=320, out_features=320, bias=True)\n",
      "      (proj_drop): Dropout(p=0.0, inplace=False)\n",
      "      (sr): Conv2d(320, 320, kernel_size=(2, 2), stride=(2, 2))\n",
      "      (norm): LayerNorm((320,), eps=1e-05, elementwise_affine=True)\n",
      "    )\n",
      "    (drop_path): DropPath(drop_prob=0.029)\n",
      "    (norm2): LayerNorm((320,), eps=1e-06, elementwise_affine=True)\n",
      "    (mlp): Mlp(\n",
      "      (fc1): Linear(in_features=320, out_features=1280, bias=True)\n",
      "      (dwconv): DWConv(\n",
      "        (dwconv): Conv2d(1280, 1280, kernel_size=(3, 3), stride=(1, 1), padding=(1, 1), groups=1280)\n",
      "      )\n",
      "      (act): GELU(approximate='none')\n",
      "      (fc2): Linear(in_features=1280, out_features=320, bias=True)\n",
      "      (drop): Dropout(p=0.0, inplace=False)\n",
      "    )\n",
      "  )\n",
      "  (7): Block(\n",
      "    (norm1): LayerNorm((320,), eps=1e-06, elementwise_affine=True)\n",
      "    (attn): Attention(\n",
      "      (q): Linear(in_features=320, out_features=320, bias=True)\n",
      "      (kv): Linear(in_features=320, out_features=640, bias=True)\n",
      "      (attn_drop): Dropout(p=0.0, inplace=False)\n",
      "      (proj): Linear(in_features=320, out_features=320, bias=True)\n",
      "      (proj_drop): Dropout(p=0.0, inplace=False)\n",
      "      (sr): Conv2d(320, 320, kernel_size=(2, 2), stride=(2, 2))\n",
      "      (norm): LayerNorm((320,), eps=1e-05, elementwise_affine=True)\n",
      "    )\n",
      "    (drop_path): DropPath(drop_prob=0.031)\n",
      "    (norm2): LayerNorm((320,), eps=1e-06, elementwise_affine=True)\n",
      "    (mlp): Mlp(\n",
      "      (fc1): Linear(in_features=320, out_features=1280, bias=True)\n",
      "      (dwconv): DWConv(\n",
      "        (dwconv): Conv2d(1280, 1280, kernel_size=(3, 3), stride=(1, 1), padding=(1, 1), groups=1280)\n",
      "      )\n",
      "      (act): GELU(approximate='none')\n",
      "      (fc2): Linear(in_features=1280, out_features=320, bias=True)\n",
      "      (drop): Dropout(p=0.0, inplace=False)\n",
      "    )\n",
      "  )\n",
      "  (8): Block(\n",
      "    (norm1): LayerNorm((320,), eps=1e-06, elementwise_affine=True)\n",
      "    (attn): Attention(\n",
      "      (q): Linear(in_features=320, out_features=320, bias=True)\n",
      "      (kv): Linear(in_features=320, out_features=640, bias=True)\n",
      "      (attn_drop): Dropout(p=0.0, inplace=False)\n",
      "      (proj): Linear(in_features=320, out_features=320, bias=True)\n",
      "      (proj_drop): Dropout(p=0.0, inplace=False)\n",
      "      (sr): Conv2d(320, 320, kernel_size=(2, 2), stride=(2, 2))\n",
      "      (norm): LayerNorm((320,), eps=1e-05, elementwise_affine=True)\n",
      "    )\n",
      "    (drop_path): DropPath(drop_prob=0.033)\n",
      "    (norm2): LayerNorm((320,), eps=1e-06, elementwise_affine=True)\n",
      "    (mlp): Mlp(\n",
      "      (fc1): Linear(in_features=320, out_features=1280, bias=True)\n",
      "      (dwconv): DWConv(\n",
      "        (dwconv): Conv2d(1280, 1280, kernel_size=(3, 3), stride=(1, 1), padding=(1, 1), groups=1280)\n",
      "      )\n",
      "      (act): GELU(approximate='none')\n",
      "      (fc2): Linear(in_features=1280, out_features=320, bias=True)\n",
      "      (drop): Dropout(p=0.0, inplace=False)\n",
      "    )\n",
      "  )\n",
      "  (9): Block(\n",
      "    (norm1): LayerNorm((320,), eps=1e-06, elementwise_affine=True)\n",
      "    (attn): Attention(\n",
      "      (q): Linear(in_features=320, out_features=320, bias=True)\n",
      "      (kv): Linear(in_features=320, out_features=640, bias=True)\n",
      "      (attn_drop): Dropout(p=0.0, inplace=False)\n",
      "      (proj): Linear(in_features=320, out_features=320, bias=True)\n",
      "      (proj_drop): Dropout(p=0.0, inplace=False)\n",
      "      (sr): Conv2d(320, 320, kernel_size=(2, 2), stride=(2, 2))\n",
      "      (norm): LayerNorm((320,), eps=1e-05, elementwise_affine=True)\n",
      "    )\n",
      "    (drop_path): DropPath(drop_prob=0.035)\n",
      "    (norm2): LayerNorm((320,), eps=1e-06, elementwise_affine=True)\n",
      "    (mlp): Mlp(\n",
      "      (fc1): Linear(in_features=320, out_features=1280, bias=True)\n",
      "      (dwconv): DWConv(\n",
      "        (dwconv): Conv2d(1280, 1280, kernel_size=(3, 3), stride=(1, 1), padding=(1, 1), groups=1280)\n",
      "      )\n",
      "      (act): GELU(approximate='none')\n",
      "      (fc2): Linear(in_features=1280, out_features=320, bias=True)\n",
      "      (drop): Dropout(p=0.0, inplace=False)\n",
      "    )\n",
      "  )\n",
      "  (10): Block(\n",
      "    (norm1): LayerNorm((320,), eps=1e-06, elementwise_affine=True)\n",
      "    (attn): Attention(\n",
      "      (q): Linear(in_features=320, out_features=320, bias=True)\n",
      "      (kv): Linear(in_features=320, out_features=640, bias=True)\n",
      "      (attn_drop): Dropout(p=0.0, inplace=False)\n",
      "      (proj): Linear(in_features=320, out_features=320, bias=True)\n",
      "      (proj_drop): Dropout(p=0.0, inplace=False)\n",
      "      (sr): Conv2d(320, 320, kernel_size=(2, 2), stride=(2, 2))\n",
      "      (norm): LayerNorm((320,), eps=1e-05, elementwise_affine=True)\n",
      "    )\n",
      "    (drop_path): DropPath(drop_prob=0.037)\n",
      "    (norm2): LayerNorm((320,), eps=1e-06, elementwise_affine=True)\n",
      "    (mlp): Mlp(\n",
      "      (fc1): Linear(in_features=320, out_features=1280, bias=True)\n",
      "      (dwconv): DWConv(\n",
      "        (dwconv): Conv2d(1280, 1280, kernel_size=(3, 3), stride=(1, 1), padding=(1, 1), groups=1280)\n",
      "      )\n",
      "      (act): GELU(approximate='none')\n",
      "      (fc2): Linear(in_features=1280, out_features=320, bias=True)\n",
      "      (drop): Dropout(p=0.0, inplace=False)\n",
      "    )\n",
      "  )\n",
      "  (11): Block(\n",
      "    (norm1): LayerNorm((320,), eps=1e-06, elementwise_affine=True)\n",
      "    (attn): Attention(\n",
      "      (q): Linear(in_features=320, out_features=320, bias=True)\n",
      "      (kv): Linear(in_features=320, out_features=640, bias=True)\n",
      "      (attn_drop): Dropout(p=0.0, inplace=False)\n",
      "      (proj): Linear(in_features=320, out_features=320, bias=True)\n",
      "      (proj_drop): Dropout(p=0.0, inplace=False)\n",
      "      (sr): Conv2d(320, 320, kernel_size=(2, 2), stride=(2, 2))\n",
      "      (norm): LayerNorm((320,), eps=1e-05, elementwise_affine=True)\n",
      "    )\n",
      "    (drop_path): DropPath(drop_prob=0.039)\n",
      "    (norm2): LayerNorm((320,), eps=1e-06, elementwise_affine=True)\n",
      "    (mlp): Mlp(\n",
      "      (fc1): Linear(in_features=320, out_features=1280, bias=True)\n",
      "      (dwconv): DWConv(\n",
      "        (dwconv): Conv2d(1280, 1280, kernel_size=(3, 3), stride=(1, 1), padding=(1, 1), groups=1280)\n",
      "      )\n",
      "      (act): GELU(approximate='none')\n",
      "      (fc2): Linear(in_features=1280, out_features=320, bias=True)\n",
      "      (drop): Dropout(p=0.0, inplace=False)\n",
      "    )\n",
      "  )\n",
      "  (12): Block(\n",
      "    (norm1): LayerNorm((320,), eps=1e-06, elementwise_affine=True)\n",
      "    (attn): Attention(\n",
      "      (q): Linear(in_features=320, out_features=320, bias=True)\n",
      "      (kv): Linear(in_features=320, out_features=640, bias=True)\n",
      "      (attn_drop): Dropout(p=0.0, inplace=False)\n",
      "      (proj): Linear(in_features=320, out_features=320, bias=True)\n",
      "      (proj_drop): Dropout(p=0.0, inplace=False)\n",
      "      (sr): Conv2d(320, 320, kernel_size=(2, 2), stride=(2, 2))\n",
      "      (norm): LayerNorm((320,), eps=1e-05, elementwise_affine=True)\n",
      "    )\n",
      "    (drop_path): DropPath(drop_prob=0.041)\n",
      "    (norm2): LayerNorm((320,), eps=1e-06, elementwise_affine=True)\n",
      "    (mlp): Mlp(\n",
      "      (fc1): Linear(in_features=320, out_features=1280, bias=True)\n",
      "      (dwconv): DWConv(\n",
      "        (dwconv): Conv2d(1280, 1280, kernel_size=(3, 3), stride=(1, 1), padding=(1, 1), groups=1280)\n",
      "      )\n",
      "      (act): GELU(approximate='none')\n",
      "      (fc2): Linear(in_features=1280, out_features=320, bias=True)\n",
      "      (drop): Dropout(p=0.0, inplace=False)\n",
      "    )\n",
      "  )\n",
      "  (13): Block(\n",
      "    (norm1): LayerNorm((320,), eps=1e-06, elementwise_affine=True)\n",
      "    (attn): Attention(\n",
      "      (q): Linear(in_features=320, out_features=320, bias=True)\n",
      "      (kv): Linear(in_features=320, out_features=640, bias=True)\n",
      "      (attn_drop): Dropout(p=0.0, inplace=False)\n",
      "      (proj): Linear(in_features=320, out_features=320, bias=True)\n",
      "      (proj_drop): Dropout(p=0.0, inplace=False)\n",
      "      (sr): Conv2d(320, 320, kernel_size=(2, 2), stride=(2, 2))\n",
      "      (norm): LayerNorm((320,), eps=1e-05, elementwise_affine=True)\n",
      "    )\n",
      "    (drop_path): DropPath(drop_prob=0.043)\n",
      "    (norm2): LayerNorm((320,), eps=1e-06, elementwise_affine=True)\n",
      "    (mlp): Mlp(\n",
      "      (fc1): Linear(in_features=320, out_features=1280, bias=True)\n",
      "      (dwconv): DWConv(\n",
      "        (dwconv): Conv2d(1280, 1280, kernel_size=(3, 3), stride=(1, 1), padding=(1, 1), groups=1280)\n",
      "      )\n",
      "      (act): GELU(approximate='none')\n",
      "      (fc2): Linear(in_features=1280, out_features=320, bias=True)\n",
      "      (drop): Dropout(p=0.0, inplace=False)\n",
      "    )\n",
      "  )\n",
      "  (14): Block(\n",
      "    (norm1): LayerNorm((320,), eps=1e-06, elementwise_affine=True)\n",
      "    (attn): Attention(\n",
      "      (q): Linear(in_features=320, out_features=320, bias=True)\n",
      "      (kv): Linear(in_features=320, out_features=640, bias=True)\n",
      "      (attn_drop): Dropout(p=0.0, inplace=False)\n",
      "      (proj): Linear(in_features=320, out_features=320, bias=True)\n",
      "      (proj_drop): Dropout(p=0.0, inplace=False)\n",
      "      (sr): Conv2d(320, 320, kernel_size=(2, 2), stride=(2, 2))\n",
      "      (norm): LayerNorm((320,), eps=1e-05, elementwise_affine=True)\n",
      "    )\n",
      "    (drop_path): DropPath(drop_prob=0.045)\n",
      "    (norm2): LayerNorm((320,), eps=1e-06, elementwise_affine=True)\n",
      "    (mlp): Mlp(\n",
      "      (fc1): Linear(in_features=320, out_features=1280, bias=True)\n",
      "      (dwconv): DWConv(\n",
      "        (dwconv): Conv2d(1280, 1280, kernel_size=(3, 3), stride=(1, 1), padding=(1, 1), groups=1280)\n",
      "      )\n",
      "      (act): GELU(approximate='none')\n",
      "      (fc2): Linear(in_features=1280, out_features=320, bias=True)\n",
      "      (drop): Dropout(p=0.0, inplace=False)\n",
      "    )\n",
      "  )\n",
      "  (15): Block(\n",
      "    (norm1): LayerNorm((320,), eps=1e-06, elementwise_affine=True)\n",
      "    (attn): Attention(\n",
      "      (q): Linear(in_features=320, out_features=320, bias=True)\n",
      "      (kv): Linear(in_features=320, out_features=640, bias=True)\n",
      "      (attn_drop): Dropout(p=0.0, inplace=False)\n",
      "      (proj): Linear(in_features=320, out_features=320, bias=True)\n",
      "      (proj_drop): Dropout(p=0.0, inplace=False)\n",
      "      (sr): Conv2d(320, 320, kernel_size=(2, 2), stride=(2, 2))\n",
      "      (norm): LayerNorm((320,), eps=1e-05, elementwise_affine=True)\n",
      "    )\n",
      "    (drop_path): DropPath(drop_prob=0.047)\n",
      "    (norm2): LayerNorm((320,), eps=1e-06, elementwise_affine=True)\n",
      "    (mlp): Mlp(\n",
      "      (fc1): Linear(in_features=320, out_features=1280, bias=True)\n",
      "      (dwconv): DWConv(\n",
      "        (dwconv): Conv2d(1280, 1280, kernel_size=(3, 3), stride=(1, 1), padding=(1, 1), groups=1280)\n",
      "      )\n",
      "      (act): GELU(approximate='none')\n",
      "      (fc2): Linear(in_features=1280, out_features=320, bias=True)\n",
      "      (drop): Dropout(p=0.0, inplace=False)\n",
      "    )\n",
      "  )\n",
      "  (16): Block(\n",
      "    (norm1): LayerNorm((320,), eps=1e-06, elementwise_affine=True)\n",
      "    (attn): Attention(\n",
      "      (q): Linear(in_features=320, out_features=320, bias=True)\n",
      "      (kv): Linear(in_features=320, out_features=640, bias=True)\n",
      "      (attn_drop): Dropout(p=0.0, inplace=False)\n",
      "      (proj): Linear(in_features=320, out_features=320, bias=True)\n",
      "      (proj_drop): Dropout(p=0.0, inplace=False)\n",
      "      (sr): Conv2d(320, 320, kernel_size=(2, 2), stride=(2, 2))\n",
      "      (norm): LayerNorm((320,), eps=1e-05, elementwise_affine=True)\n",
      "    )\n",
      "    (drop_path): DropPath(drop_prob=0.049)\n",
      "    (norm2): LayerNorm((320,), eps=1e-06, elementwise_affine=True)\n",
      "    (mlp): Mlp(\n",
      "      (fc1): Linear(in_features=320, out_features=1280, bias=True)\n",
      "      (dwconv): DWConv(\n",
      "        (dwconv): Conv2d(1280, 1280, kernel_size=(3, 3), stride=(1, 1), padding=(1, 1), groups=1280)\n",
      "      )\n",
      "      (act): GELU(approximate='none')\n",
      "      (fc2): Linear(in_features=1280, out_features=320, bias=True)\n",
      "      (drop): Dropout(p=0.0, inplace=False)\n",
      "    )\n",
      "  )\n",
      "  (17): Block(\n",
      "    (norm1): LayerNorm((320,), eps=1e-06, elementwise_affine=True)\n",
      "    (attn): Attention(\n",
      "      (q): Linear(in_features=320, out_features=320, bias=True)\n",
      "      (kv): Linear(in_features=320, out_features=640, bias=True)\n",
      "      (attn_drop): Dropout(p=0.0, inplace=False)\n",
      "      (proj): Linear(in_features=320, out_features=320, bias=True)\n",
      "      (proj_drop): Dropout(p=0.0, inplace=False)\n",
      "      (sr): Conv2d(320, 320, kernel_size=(2, 2), stride=(2, 2))\n",
      "      (norm): LayerNorm((320,), eps=1e-05, elementwise_affine=True)\n",
      "    )\n",
      "    (drop_path): DropPath(drop_prob=0.051)\n",
      "    (norm2): LayerNorm((320,), eps=1e-06, elementwise_affine=True)\n",
      "    (mlp): Mlp(\n",
      "      (fc1): Linear(in_features=320, out_features=1280, bias=True)\n",
      "      (dwconv): DWConv(\n",
      "        (dwconv): Conv2d(1280, 1280, kernel_size=(3, 3), stride=(1, 1), padding=(1, 1), groups=1280)\n",
      "      )\n",
      "      (act): GELU(approximate='none')\n",
      "      (fc2): Linear(in_features=1280, out_features=320, bias=True)\n",
      "      (drop): Dropout(p=0.0, inplace=False)\n",
      "    )\n",
      "  )\n",
      "  (18): Block(\n",
      "    (norm1): LayerNorm((320,), eps=1e-06, elementwise_affine=True)\n",
      "    (attn): Attention(\n",
      "      (q): Linear(in_features=320, out_features=320, bias=True)\n",
      "      (kv): Linear(in_features=320, out_features=640, bias=True)\n",
      "      (attn_drop): Dropout(p=0.0, inplace=False)\n",
      "      (proj): Linear(in_features=320, out_features=320, bias=True)\n",
      "      (proj_drop): Dropout(p=0.0, inplace=False)\n",
      "      (sr): Conv2d(320, 320, kernel_size=(2, 2), stride=(2, 2))\n",
      "      (norm): LayerNorm((320,), eps=1e-05, elementwise_affine=True)\n",
      "    )\n",
      "    (drop_path): DropPath(drop_prob=0.053)\n",
      "    (norm2): LayerNorm((320,), eps=1e-06, elementwise_affine=True)\n",
      "    (mlp): Mlp(\n",
      "      (fc1): Linear(in_features=320, out_features=1280, bias=True)\n",
      "      (dwconv): DWConv(\n",
      "        (dwconv): Conv2d(1280, 1280, kernel_size=(3, 3), stride=(1, 1), padding=(1, 1), groups=1280)\n",
      "      )\n",
      "      (act): GELU(approximate='none')\n",
      "      (fc2): Linear(in_features=1280, out_features=320, bias=True)\n",
      "      (drop): Dropout(p=0.0, inplace=False)\n",
      "    )\n",
      "  )\n",
      "  (19): Block(\n",
      "    (norm1): LayerNorm((320,), eps=1e-06, elementwise_affine=True)\n",
      "    (attn): Attention(\n",
      "      (q): Linear(in_features=320, out_features=320, bias=True)\n",
      "      (kv): Linear(in_features=320, out_features=640, bias=True)\n",
      "      (attn_drop): Dropout(p=0.0, inplace=False)\n",
      "      (proj): Linear(in_features=320, out_features=320, bias=True)\n",
      "      (proj_drop): Dropout(p=0.0, inplace=False)\n",
      "      (sr): Conv2d(320, 320, kernel_size=(2, 2), stride=(2, 2))\n",
      "      (norm): LayerNorm((320,), eps=1e-05, elementwise_affine=True)\n",
      "    )\n",
      "    (drop_path): DropPath(drop_prob=0.055)\n",
      "    (norm2): LayerNorm((320,), eps=1e-06, elementwise_affine=True)\n",
      "    (mlp): Mlp(\n",
      "      (fc1): Linear(in_features=320, out_features=1280, bias=True)\n",
      "      (dwconv): DWConv(\n",
      "        (dwconv): Conv2d(1280, 1280, kernel_size=(3, 3), stride=(1, 1), padding=(1, 1), groups=1280)\n",
      "      )\n",
      "      (act): GELU(approximate='none')\n",
      "      (fc2): Linear(in_features=1280, out_features=320, bias=True)\n",
      "      (drop): Dropout(p=0.0, inplace=False)\n",
      "    )\n",
      "  )\n",
      "  (20): Block(\n",
      "    (norm1): LayerNorm((320,), eps=1e-06, elementwise_affine=True)\n",
      "    (attn): Attention(\n",
      "      (q): Linear(in_features=320, out_features=320, bias=True)\n",
      "      (kv): Linear(in_features=320, out_features=640, bias=True)\n",
      "      (attn_drop): Dropout(p=0.0, inplace=False)\n",
      "      (proj): Linear(in_features=320, out_features=320, bias=True)\n",
      "      (proj_drop): Dropout(p=0.0, inplace=False)\n",
      "      (sr): Conv2d(320, 320, kernel_size=(2, 2), stride=(2, 2))\n",
      "      (norm): LayerNorm((320,), eps=1e-05, elementwise_affine=True)\n",
      "    )\n",
      "    (drop_path): DropPath(drop_prob=0.057)\n",
      "    (norm2): LayerNorm((320,), eps=1e-06, elementwise_affine=True)\n",
      "    (mlp): Mlp(\n",
      "      (fc1): Linear(in_features=320, out_features=1280, bias=True)\n",
      "      (dwconv): DWConv(\n",
      "        (dwconv): Conv2d(1280, 1280, kernel_size=(3, 3), stride=(1, 1), padding=(1, 1), groups=1280)\n",
      "      )\n",
      "      (act): GELU(approximate='none')\n",
      "      (fc2): Linear(in_features=1280, out_features=320, bias=True)\n",
      "      (drop): Dropout(p=0.0, inplace=False)\n",
      "    )\n",
      "  )\n",
      "  (21): Block(\n",
      "    (norm1): LayerNorm((320,), eps=1e-06, elementwise_affine=True)\n",
      "    (attn): Attention(\n",
      "      (q): Linear(in_features=320, out_features=320, bias=True)\n",
      "      (kv): Linear(in_features=320, out_features=640, bias=True)\n",
      "      (attn_drop): Dropout(p=0.0, inplace=False)\n",
      "      (proj): Linear(in_features=320, out_features=320, bias=True)\n",
      "      (proj_drop): Dropout(p=0.0, inplace=False)\n",
      "      (sr): Conv2d(320, 320, kernel_size=(2, 2), stride=(2, 2))\n",
      "      (norm): LayerNorm((320,), eps=1e-05, elementwise_affine=True)\n",
      "    )\n",
      "    (drop_path): DropPath(drop_prob=0.059)\n",
      "    (norm2): LayerNorm((320,), eps=1e-06, elementwise_affine=True)\n",
      "    (mlp): Mlp(\n",
      "      (fc1): Linear(in_features=320, out_features=1280, bias=True)\n",
      "      (dwconv): DWConv(\n",
      "        (dwconv): Conv2d(1280, 1280, kernel_size=(3, 3), stride=(1, 1), padding=(1, 1), groups=1280)\n",
      "      )\n",
      "      (act): GELU(approximate='none')\n",
      "      (fc2): Linear(in_features=1280, out_features=320, bias=True)\n",
      "      (drop): Dropout(p=0.0, inplace=False)\n",
      "    )\n",
      "  )\n",
      "  (22): Block(\n",
      "    (norm1): LayerNorm((320,), eps=1e-06, elementwise_affine=True)\n",
      "    (attn): Attention(\n",
      "      (q): Linear(in_features=320, out_features=320, bias=True)\n",
      "      (kv): Linear(in_features=320, out_features=640, bias=True)\n",
      "      (attn_drop): Dropout(p=0.0, inplace=False)\n",
      "      (proj): Linear(in_features=320, out_features=320, bias=True)\n",
      "      (proj_drop): Dropout(p=0.0, inplace=False)\n",
      "      (sr): Conv2d(320, 320, kernel_size=(2, 2), stride=(2, 2))\n",
      "      (norm): LayerNorm((320,), eps=1e-05, elementwise_affine=True)\n",
      "    )\n",
      "    (drop_path): DropPath(drop_prob=0.061)\n",
      "    (norm2): LayerNorm((320,), eps=1e-06, elementwise_affine=True)\n",
      "    (mlp): Mlp(\n",
      "      (fc1): Linear(in_features=320, out_features=1280, bias=True)\n",
      "      (dwconv): DWConv(\n",
      "        (dwconv): Conv2d(1280, 1280, kernel_size=(3, 3), stride=(1, 1), padding=(1, 1), groups=1280)\n",
      "      )\n",
      "      (act): GELU(approximate='none')\n",
      "      (fc2): Linear(in_features=1280, out_features=320, bias=True)\n",
      "      (drop): Dropout(p=0.0, inplace=False)\n",
      "    )\n",
      "  )\n",
      "  (23): Block(\n",
      "    (norm1): LayerNorm((320,), eps=1e-06, elementwise_affine=True)\n",
      "    (attn): Attention(\n",
      "      (q): Linear(in_features=320, out_features=320, bias=True)\n",
      "      (kv): Linear(in_features=320, out_features=640, bias=True)\n",
      "      (attn_drop): Dropout(p=0.0, inplace=False)\n",
      "      (proj): Linear(in_features=320, out_features=320, bias=True)\n",
      "      (proj_drop): Dropout(p=0.0, inplace=False)\n",
      "      (sr): Conv2d(320, 320, kernel_size=(2, 2), stride=(2, 2))\n",
      "      (norm): LayerNorm((320,), eps=1e-05, elementwise_affine=True)\n",
      "    )\n",
      "    (drop_path): DropPath(drop_prob=0.063)\n",
      "    (norm2): LayerNorm((320,), eps=1e-06, elementwise_affine=True)\n",
      "    (mlp): Mlp(\n",
      "      (fc1): Linear(in_features=320, out_features=1280, bias=True)\n",
      "      (dwconv): DWConv(\n",
      "        (dwconv): Conv2d(1280, 1280, kernel_size=(3, 3), stride=(1, 1), padding=(1, 1), groups=1280)\n",
      "      )\n",
      "      (act): GELU(approximate='none')\n",
      "      (fc2): Linear(in_features=1280, out_features=320, bias=True)\n",
      "      (drop): Dropout(p=0.0, inplace=False)\n",
      "    )\n",
      "  )\n",
      "  (24): Block(\n",
      "    (norm1): LayerNorm((320,), eps=1e-06, elementwise_affine=True)\n",
      "    (attn): Attention(\n",
      "      (q): Linear(in_features=320, out_features=320, bias=True)\n",
      "      (kv): Linear(in_features=320, out_features=640, bias=True)\n",
      "      (attn_drop): Dropout(p=0.0, inplace=False)\n",
      "      (proj): Linear(in_features=320, out_features=320, bias=True)\n",
      "      (proj_drop): Dropout(p=0.0, inplace=False)\n",
      "      (sr): Conv2d(320, 320, kernel_size=(2, 2), stride=(2, 2))\n",
      "      (norm): LayerNorm((320,), eps=1e-05, elementwise_affine=True)\n",
      "    )\n",
      "    (drop_path): DropPath(drop_prob=0.065)\n",
      "    (norm2): LayerNorm((320,), eps=1e-06, elementwise_affine=True)\n",
      "    (mlp): Mlp(\n",
      "      (fc1): Linear(in_features=320, out_features=1280, bias=True)\n",
      "      (dwconv): DWConv(\n",
      "        (dwconv): Conv2d(1280, 1280, kernel_size=(3, 3), stride=(1, 1), padding=(1, 1), groups=1280)\n",
      "      )\n",
      "      (act): GELU(approximate='none')\n",
      "      (fc2): Linear(in_features=1280, out_features=320, bias=True)\n",
      "      (drop): Dropout(p=0.0, inplace=False)\n",
      "    )\n",
      "  )\n",
      "  (25): Block(\n",
      "    (norm1): LayerNorm((320,), eps=1e-06, elementwise_affine=True)\n",
      "    (attn): Attention(\n",
      "      (q): Linear(in_features=320, out_features=320, bias=True)\n",
      "      (kv): Linear(in_features=320, out_features=640, bias=True)\n",
      "      (attn_drop): Dropout(p=0.0, inplace=False)\n",
      "      (proj): Linear(in_features=320, out_features=320, bias=True)\n",
      "      (proj_drop): Dropout(p=0.0, inplace=False)\n",
      "      (sr): Conv2d(320, 320, kernel_size=(2, 2), stride=(2, 2))\n",
      "      (norm): LayerNorm((320,), eps=1e-05, elementwise_affine=True)\n",
      "    )\n",
      "    (drop_path): DropPath(drop_prob=0.067)\n",
      "    (norm2): LayerNorm((320,), eps=1e-06, elementwise_affine=True)\n",
      "    (mlp): Mlp(\n",
      "      (fc1): Linear(in_features=320, out_features=1280, bias=True)\n",
      "      (dwconv): DWConv(\n",
      "        (dwconv): Conv2d(1280, 1280, kernel_size=(3, 3), stride=(1, 1), padding=(1, 1), groups=1280)\n",
      "      )\n",
      "      (act): GELU(approximate='none')\n",
      "      (fc2): Linear(in_features=1280, out_features=320, bias=True)\n",
      "      (drop): Dropout(p=0.0, inplace=False)\n",
      "    )\n",
      "  )\n",
      "  (26): Block(\n",
      "    (norm1): LayerNorm((320,), eps=1e-06, elementwise_affine=True)\n",
      "    (attn): Attention(\n",
      "      (q): Linear(in_features=320, out_features=320, bias=True)\n",
      "      (kv): Linear(in_features=320, out_features=640, bias=True)\n",
      "      (attn_drop): Dropout(p=0.0, inplace=False)\n",
      "      (proj): Linear(in_features=320, out_features=320, bias=True)\n",
      "      (proj_drop): Dropout(p=0.0, inplace=False)\n",
      "      (sr): Conv2d(320, 320, kernel_size=(2, 2), stride=(2, 2))\n",
      "      (norm): LayerNorm((320,), eps=1e-05, elementwise_affine=True)\n",
      "    )\n",
      "    (drop_path): DropPath(drop_prob=0.069)\n",
      "    (norm2): LayerNorm((320,), eps=1e-06, elementwise_affine=True)\n",
      "    (mlp): Mlp(\n",
      "      (fc1): Linear(in_features=320, out_features=1280, bias=True)\n",
      "      (dwconv): DWConv(\n",
      "        (dwconv): Conv2d(1280, 1280, kernel_size=(3, 3), stride=(1, 1), padding=(1, 1), groups=1280)\n",
      "      )\n",
      "      (act): GELU(approximate='none')\n",
      "      (fc2): Linear(in_features=1280, out_features=320, bias=True)\n",
      "      (drop): Dropout(p=0.0, inplace=False)\n",
      "    )\n",
      "  )\n",
      "  (27): Block(\n",
      "    (norm1): LayerNorm((320,), eps=1e-06, elementwise_affine=True)\n",
      "    (attn): Attention(\n",
      "      (q): Linear(in_features=320, out_features=320, bias=True)\n",
      "      (kv): Linear(in_features=320, out_features=640, bias=True)\n",
      "      (attn_drop): Dropout(p=0.0, inplace=False)\n",
      "      (proj): Linear(in_features=320, out_features=320, bias=True)\n",
      "      (proj_drop): Dropout(p=0.0, inplace=False)\n",
      "      (sr): Conv2d(320, 320, kernel_size=(2, 2), stride=(2, 2))\n",
      "      (norm): LayerNorm((320,), eps=1e-05, elementwise_affine=True)\n",
      "    )\n",
      "    (drop_path): DropPath(drop_prob=0.071)\n",
      "    (norm2): LayerNorm((320,), eps=1e-06, elementwise_affine=True)\n",
      "    (mlp): Mlp(\n",
      "      (fc1): Linear(in_features=320, out_features=1280, bias=True)\n",
      "      (dwconv): DWConv(\n",
      "        (dwconv): Conv2d(1280, 1280, kernel_size=(3, 3), stride=(1, 1), padding=(1, 1), groups=1280)\n",
      "      )\n",
      "      (act): GELU(approximate='none')\n",
      "      (fc2): Linear(in_features=1280, out_features=320, bias=True)\n",
      "      (drop): Dropout(p=0.0, inplace=False)\n",
      "    )\n",
      "  )\n",
      "  (28): Block(\n",
      "    (norm1): LayerNorm((320,), eps=1e-06, elementwise_affine=True)\n",
      "    (attn): Attention(\n",
      "      (q): Linear(in_features=320, out_features=320, bias=True)\n",
      "      (kv): Linear(in_features=320, out_features=640, bias=True)\n",
      "      (attn_drop): Dropout(p=0.0, inplace=False)\n",
      "      (proj): Linear(in_features=320, out_features=320, bias=True)\n",
      "      (proj_drop): Dropout(p=0.0, inplace=False)\n",
      "      (sr): Conv2d(320, 320, kernel_size=(2, 2), stride=(2, 2))\n",
      "      (norm): LayerNorm((320,), eps=1e-05, elementwise_affine=True)\n",
      "    )\n",
      "    (drop_path): DropPath(drop_prob=0.073)\n",
      "    (norm2): LayerNorm((320,), eps=1e-06, elementwise_affine=True)\n",
      "    (mlp): Mlp(\n",
      "      (fc1): Linear(in_features=320, out_features=1280, bias=True)\n",
      "      (dwconv): DWConv(\n",
      "        (dwconv): Conv2d(1280, 1280, kernel_size=(3, 3), stride=(1, 1), padding=(1, 1), groups=1280)\n",
      "      )\n",
      "      (act): GELU(approximate='none')\n",
      "      (fc2): Linear(in_features=1280, out_features=320, bias=True)\n",
      "      (drop): Dropout(p=0.0, inplace=False)\n",
      "    )\n",
      "  )\n",
      "  (29): Block(\n",
      "    (norm1): LayerNorm((320,), eps=1e-06, elementwise_affine=True)\n",
      "    (attn): Attention(\n",
      "      (q): Linear(in_features=320, out_features=320, bias=True)\n",
      "      (kv): Linear(in_features=320, out_features=640, bias=True)\n",
      "      (attn_drop): Dropout(p=0.0, inplace=False)\n",
      "      (proj): Linear(in_features=320, out_features=320, bias=True)\n",
      "      (proj_drop): Dropout(p=0.0, inplace=False)\n",
      "      (sr): Conv2d(320, 320, kernel_size=(2, 2), stride=(2, 2))\n",
      "      (norm): LayerNorm((320,), eps=1e-05, elementwise_affine=True)\n",
      "    )\n",
      "    (drop_path): DropPath(drop_prob=0.075)\n",
      "    (norm2): LayerNorm((320,), eps=1e-06, elementwise_affine=True)\n",
      "    (mlp): Mlp(\n",
      "      (fc1): Linear(in_features=320, out_features=1280, bias=True)\n",
      "      (dwconv): DWConv(\n",
      "        (dwconv): Conv2d(1280, 1280, kernel_size=(3, 3), stride=(1, 1), padding=(1, 1), groups=1280)\n",
      "      )\n",
      "      (act): GELU(approximate='none')\n",
      "      (fc2): Linear(in_features=1280, out_features=320, bias=True)\n",
      "      (drop): Dropout(p=0.0, inplace=False)\n",
      "    )\n",
      "  )\n",
      "  (30): Block(\n",
      "    (norm1): LayerNorm((320,), eps=1e-06, elementwise_affine=True)\n",
      "    (attn): Attention(\n",
      "      (q): Linear(in_features=320, out_features=320, bias=True)\n",
      "      (kv): Linear(in_features=320, out_features=640, bias=True)\n",
      "      (attn_drop): Dropout(p=0.0, inplace=False)\n",
      "      (proj): Linear(in_features=320, out_features=320, bias=True)\n",
      "      (proj_drop): Dropout(p=0.0, inplace=False)\n",
      "      (sr): Conv2d(320, 320, kernel_size=(2, 2), stride=(2, 2))\n",
      "      (norm): LayerNorm((320,), eps=1e-05, elementwise_affine=True)\n",
      "    )\n",
      "    (drop_path): DropPath(drop_prob=0.076)\n",
      "    (norm2): LayerNorm((320,), eps=1e-06, elementwise_affine=True)\n",
      "    (mlp): Mlp(\n",
      "      (fc1): Linear(in_features=320, out_features=1280, bias=True)\n",
      "      (dwconv): DWConv(\n",
      "        (dwconv): Conv2d(1280, 1280, kernel_size=(3, 3), stride=(1, 1), padding=(1, 1), groups=1280)\n",
      "      )\n",
      "      (act): GELU(approximate='none')\n",
      "      (fc2): Linear(in_features=1280, out_features=320, bias=True)\n",
      "      (drop): Dropout(p=0.0, inplace=False)\n",
      "    )\n",
      "  )\n",
      "  (31): Block(\n",
      "    (norm1): LayerNorm((320,), eps=1e-06, elementwise_affine=True)\n",
      "    (attn): Attention(\n",
      "      (q): Linear(in_features=320, out_features=320, bias=True)\n",
      "      (kv): Linear(in_features=320, out_features=640, bias=True)\n",
      "      (attn_drop): Dropout(p=0.0, inplace=False)\n",
      "      (proj): Linear(in_features=320, out_features=320, bias=True)\n",
      "      (proj_drop): Dropout(p=0.0, inplace=False)\n",
      "      (sr): Conv2d(320, 320, kernel_size=(2, 2), stride=(2, 2))\n",
      "      (norm): LayerNorm((320,), eps=1e-05, elementwise_affine=True)\n",
      "    )\n",
      "    (drop_path): DropPath(drop_prob=0.078)\n",
      "    (norm2): LayerNorm((320,), eps=1e-06, elementwise_affine=True)\n",
      "    (mlp): Mlp(\n",
      "      (fc1): Linear(in_features=320, out_features=1280, bias=True)\n",
      "      (dwconv): DWConv(\n",
      "        (dwconv): Conv2d(1280, 1280, kernel_size=(3, 3), stride=(1, 1), padding=(1, 1), groups=1280)\n",
      "      )\n",
      "      (act): GELU(approximate='none')\n",
      "      (fc2): Linear(in_features=1280, out_features=320, bias=True)\n",
      "      (drop): Dropout(p=0.0, inplace=False)\n",
      "    )\n",
      "  )\n",
      "  (32): Block(\n",
      "    (norm1): LayerNorm((320,), eps=1e-06, elementwise_affine=True)\n",
      "    (attn): Attention(\n",
      "      (q): Linear(in_features=320, out_features=320, bias=True)\n",
      "      (kv): Linear(in_features=320, out_features=640, bias=True)\n",
      "      (attn_drop): Dropout(p=0.0, inplace=False)\n",
      "      (proj): Linear(in_features=320, out_features=320, bias=True)\n",
      "      (proj_drop): Dropout(p=0.0, inplace=False)\n",
      "      (sr): Conv2d(320, 320, kernel_size=(2, 2), stride=(2, 2))\n",
      "      (norm): LayerNorm((320,), eps=1e-05, elementwise_affine=True)\n",
      "    )\n",
      "    (drop_path): DropPath(drop_prob=0.080)\n",
      "    (norm2): LayerNorm((320,), eps=1e-06, elementwise_affine=True)\n",
      "    (mlp): Mlp(\n",
      "      (fc1): Linear(in_features=320, out_features=1280, bias=True)\n",
      "      (dwconv): DWConv(\n",
      "        (dwconv): Conv2d(1280, 1280, kernel_size=(3, 3), stride=(1, 1), padding=(1, 1), groups=1280)\n",
      "      )\n",
      "      (act): GELU(approximate='none')\n",
      "      (fc2): Linear(in_features=1280, out_features=320, bias=True)\n",
      "      (drop): Dropout(p=0.0, inplace=False)\n",
      "    )\n",
      "  )\n",
      "  (33): Block(\n",
      "    (norm1): LayerNorm((320,), eps=1e-06, elementwise_affine=True)\n",
      "    (attn): Attention(\n",
      "      (q): Linear(in_features=320, out_features=320, bias=True)\n",
      "      (kv): Linear(in_features=320, out_features=640, bias=True)\n",
      "      (attn_drop): Dropout(p=0.0, inplace=False)\n",
      "      (proj): Linear(in_features=320, out_features=320, bias=True)\n",
      "      (proj_drop): Dropout(p=0.0, inplace=False)\n",
      "      (sr): Conv2d(320, 320, kernel_size=(2, 2), stride=(2, 2))\n",
      "      (norm): LayerNorm((320,), eps=1e-05, elementwise_affine=True)\n",
      "    )\n",
      "    (drop_path): DropPath(drop_prob=0.082)\n",
      "    (norm2): LayerNorm((320,), eps=1e-06, elementwise_affine=True)\n",
      "    (mlp): Mlp(\n",
      "      (fc1): Linear(in_features=320, out_features=1280, bias=True)\n",
      "      (dwconv): DWConv(\n",
      "        (dwconv): Conv2d(1280, 1280, kernel_size=(3, 3), stride=(1, 1), padding=(1, 1), groups=1280)\n",
      "      )\n",
      "      (act): GELU(approximate='none')\n",
      "      (fc2): Linear(in_features=1280, out_features=320, bias=True)\n",
      "      (drop): Dropout(p=0.0, inplace=False)\n",
      "    )\n",
      "  )\n",
      "  (34): Block(\n",
      "    (norm1): LayerNorm((320,), eps=1e-06, elementwise_affine=True)\n",
      "    (attn): Attention(\n",
      "      (q): Linear(in_features=320, out_features=320, bias=True)\n",
      "      (kv): Linear(in_features=320, out_features=640, bias=True)\n",
      "      (attn_drop): Dropout(p=0.0, inplace=False)\n",
      "      (proj): Linear(in_features=320, out_features=320, bias=True)\n",
      "      (proj_drop): Dropout(p=0.0, inplace=False)\n",
      "      (sr): Conv2d(320, 320, kernel_size=(2, 2), stride=(2, 2))\n",
      "      (norm): LayerNorm((320,), eps=1e-05, elementwise_affine=True)\n",
      "    )\n",
      "    (drop_path): DropPath(drop_prob=0.084)\n",
      "    (norm2): LayerNorm((320,), eps=1e-06, elementwise_affine=True)\n",
      "    (mlp): Mlp(\n",
      "      (fc1): Linear(in_features=320, out_features=1280, bias=True)\n",
      "      (dwconv): DWConv(\n",
      "        (dwconv): Conv2d(1280, 1280, kernel_size=(3, 3), stride=(1, 1), padding=(1, 1), groups=1280)\n",
      "      )\n",
      "      (act): GELU(approximate='none')\n",
      "      (fc2): Linear(in_features=1280, out_features=320, bias=True)\n",
      "      (drop): Dropout(p=0.0, inplace=False)\n",
      "    )\n",
      "  )\n",
      "  (35): Block(\n",
      "    (norm1): LayerNorm((320,), eps=1e-06, elementwise_affine=True)\n",
      "    (attn): Attention(\n",
      "      (q): Linear(in_features=320, out_features=320, bias=True)\n",
      "      (kv): Linear(in_features=320, out_features=640, bias=True)\n",
      "      (attn_drop): Dropout(p=0.0, inplace=False)\n",
      "      (proj): Linear(in_features=320, out_features=320, bias=True)\n",
      "      (proj_drop): Dropout(p=0.0, inplace=False)\n",
      "      (sr): Conv2d(320, 320, kernel_size=(2, 2), stride=(2, 2))\n",
      "      (norm): LayerNorm((320,), eps=1e-05, elementwise_affine=True)\n",
      "    )\n",
      "    (drop_path): DropPath(drop_prob=0.086)\n",
      "    (norm2): LayerNorm((320,), eps=1e-06, elementwise_affine=True)\n",
      "    (mlp): Mlp(\n",
      "      (fc1): Linear(in_features=320, out_features=1280, bias=True)\n",
      "      (dwconv): DWConv(\n",
      "        (dwconv): Conv2d(1280, 1280, kernel_size=(3, 3), stride=(1, 1), padding=(1, 1), groups=1280)\n",
      "      )\n",
      "      (act): GELU(approximate='none')\n",
      "      (fc2): Linear(in_features=1280, out_features=320, bias=True)\n",
      "      (drop): Dropout(p=0.0, inplace=False)\n",
      "    )\n",
      "  )\n",
      "  (36): Block(\n",
      "    (norm1): LayerNorm((320,), eps=1e-06, elementwise_affine=True)\n",
      "    (attn): Attention(\n",
      "      (q): Linear(in_features=320, out_features=320, bias=True)\n",
      "      (kv): Linear(in_features=320, out_features=640, bias=True)\n",
      "      (attn_drop): Dropout(p=0.0, inplace=False)\n",
      "      (proj): Linear(in_features=320, out_features=320, bias=True)\n",
      "      (proj_drop): Dropout(p=0.0, inplace=False)\n",
      "      (sr): Conv2d(320, 320, kernel_size=(2, 2), stride=(2, 2))\n",
      "      (norm): LayerNorm((320,), eps=1e-05, elementwise_affine=True)\n",
      "    )\n",
      "    (drop_path): DropPath(drop_prob=0.088)\n",
      "    (norm2): LayerNorm((320,), eps=1e-06, elementwise_affine=True)\n",
      "    (mlp): Mlp(\n",
      "      (fc1): Linear(in_features=320, out_features=1280, bias=True)\n",
      "      (dwconv): DWConv(\n",
      "        (dwconv): Conv2d(1280, 1280, kernel_size=(3, 3), stride=(1, 1), padding=(1, 1), groups=1280)\n",
      "      )\n",
      "      (act): GELU(approximate='none')\n",
      "      (fc2): Linear(in_features=1280, out_features=320, bias=True)\n",
      "      (drop): Dropout(p=0.0, inplace=False)\n",
      "    )\n",
      "  )\n",
      "  (37): Block(\n",
      "    (norm1): LayerNorm((320,), eps=1e-06, elementwise_affine=True)\n",
      "    (attn): Attention(\n",
      "      (q): Linear(in_features=320, out_features=320, bias=True)\n",
      "      (kv): Linear(in_features=320, out_features=640, bias=True)\n",
      "      (attn_drop): Dropout(p=0.0, inplace=False)\n",
      "      (proj): Linear(in_features=320, out_features=320, bias=True)\n",
      "      (proj_drop): Dropout(p=0.0, inplace=False)\n",
      "      (sr): Conv2d(320, 320, kernel_size=(2, 2), stride=(2, 2))\n",
      "      (norm): LayerNorm((320,), eps=1e-05, elementwise_affine=True)\n",
      "    )\n",
      "    (drop_path): DropPath(drop_prob=0.090)\n",
      "    (norm2): LayerNorm((320,), eps=1e-06, elementwise_affine=True)\n",
      "    (mlp): Mlp(\n",
      "      (fc1): Linear(in_features=320, out_features=1280, bias=True)\n",
      "      (dwconv): DWConv(\n",
      "        (dwconv): Conv2d(1280, 1280, kernel_size=(3, 3), stride=(1, 1), padding=(1, 1), groups=1280)\n",
      "      )\n",
      "      (act): GELU(approximate='none')\n",
      "      (fc2): Linear(in_features=1280, out_features=320, bias=True)\n",
      "      (drop): Dropout(p=0.0, inplace=False)\n",
      "    )\n",
      "  )\n",
      "  (38): Block(\n",
      "    (norm1): LayerNorm((320,), eps=1e-06, elementwise_affine=True)\n",
      "    (attn): Attention(\n",
      "      (q): Linear(in_features=320, out_features=320, bias=True)\n",
      "      (kv): Linear(in_features=320, out_features=640, bias=True)\n",
      "      (attn_drop): Dropout(p=0.0, inplace=False)\n",
      "      (proj): Linear(in_features=320, out_features=320, bias=True)\n",
      "      (proj_drop): Dropout(p=0.0, inplace=False)\n",
      "      (sr): Conv2d(320, 320, kernel_size=(2, 2), stride=(2, 2))\n",
      "      (norm): LayerNorm((320,), eps=1e-05, elementwise_affine=True)\n",
      "    )\n",
      "    (drop_path): DropPath(drop_prob=0.092)\n",
      "    (norm2): LayerNorm((320,), eps=1e-06, elementwise_affine=True)\n",
      "    (mlp): Mlp(\n",
      "      (fc1): Linear(in_features=320, out_features=1280, bias=True)\n",
      "      (dwconv): DWConv(\n",
      "        (dwconv): Conv2d(1280, 1280, kernel_size=(3, 3), stride=(1, 1), padding=(1, 1), groups=1280)\n",
      "      )\n",
      "      (act): GELU(approximate='none')\n",
      "      (fc2): Linear(in_features=1280, out_features=320, bias=True)\n",
      "      (drop): Dropout(p=0.0, inplace=False)\n",
      "    )\n",
      "  )\n",
      "  (39): Block(\n",
      "    (norm1): LayerNorm((320,), eps=1e-06, elementwise_affine=True)\n",
      "    (attn): Attention(\n",
      "      (q): Linear(in_features=320, out_features=320, bias=True)\n",
      "      (kv): Linear(in_features=320, out_features=640, bias=True)\n",
      "      (attn_drop): Dropout(p=0.0, inplace=False)\n",
      "      (proj): Linear(in_features=320, out_features=320, bias=True)\n",
      "      (proj_drop): Dropout(p=0.0, inplace=False)\n",
      "      (sr): Conv2d(320, 320, kernel_size=(2, 2), stride=(2, 2))\n",
      "      (norm): LayerNorm((320,), eps=1e-05, elementwise_affine=True)\n",
      "    )\n",
      "    (drop_path): DropPath(drop_prob=0.094)\n",
      "    (norm2): LayerNorm((320,), eps=1e-06, elementwise_affine=True)\n",
      "    (mlp): Mlp(\n",
      "      (fc1): Linear(in_features=320, out_features=1280, bias=True)\n",
      "      (dwconv): DWConv(\n",
      "        (dwconv): Conv2d(1280, 1280, kernel_size=(3, 3), stride=(1, 1), padding=(1, 1), groups=1280)\n",
      "      )\n",
      "      (act): GELU(approximate='none')\n",
      "      (fc2): Linear(in_features=1280, out_features=320, bias=True)\n",
      "      (drop): Dropout(p=0.0, inplace=False)\n",
      "    )\n",
      "  )\n",
      ")\n",
      "Layer: norm3, Module: LayerNorm((320,), eps=1e-06, elementwise_affine=True)\n",
      "Layer: block4, Module: Sequential(\n",
      "  (0): Block(\n",
      "    (norm1): LayerNorm((512,), eps=1e-06, elementwise_affine=True)\n",
      "    (attn): Attention(\n",
      "      (q): Linear(in_features=512, out_features=512, bias=True)\n",
      "      (kv): Linear(in_features=512, out_features=1024, bias=True)\n",
      "      (attn_drop): Dropout(p=0.0, inplace=False)\n",
      "      (proj): Linear(in_features=512, out_features=512, bias=True)\n",
      "      (proj_drop): Dropout(p=0.0, inplace=False)\n",
      "      (sr): Identity()\n",
      "      (norm): Identity()\n",
      "    )\n",
      "    (drop_path): DropPath(drop_prob=0.096)\n",
      "    (norm2): LayerNorm((512,), eps=1e-06, elementwise_affine=True)\n",
      "    (mlp): Mlp(\n",
      "      (fc1): Linear(in_features=512, out_features=2048, bias=True)\n",
      "      (dwconv): DWConv(\n",
      "        (dwconv): Conv2d(2048, 2048, kernel_size=(3, 3), stride=(1, 1), padding=(1, 1), groups=2048)\n",
      "      )\n",
      "      (act): GELU(approximate='none')\n",
      "      (fc2): Linear(in_features=2048, out_features=512, bias=True)\n",
      "      (drop): Dropout(p=0.0, inplace=False)\n",
      "    )\n",
      "  )\n",
      "  (1): Block(\n",
      "    (norm1): LayerNorm((512,), eps=1e-06, elementwise_affine=True)\n",
      "    (attn): Attention(\n",
      "      (q): Linear(in_features=512, out_features=512, bias=True)\n",
      "      (kv): Linear(in_features=512, out_features=1024, bias=True)\n",
      "      (attn_drop): Dropout(p=0.0, inplace=False)\n",
      "      (proj): Linear(in_features=512, out_features=512, bias=True)\n",
      "      (proj_drop): Dropout(p=0.0, inplace=False)\n",
      "      (sr): Identity()\n",
      "      (norm): Identity()\n",
      "    )\n",
      "    (drop_path): DropPath(drop_prob=0.098)\n",
      "    (norm2): LayerNorm((512,), eps=1e-06, elementwise_affine=True)\n",
      "    (mlp): Mlp(\n",
      "      (fc1): Linear(in_features=512, out_features=2048, bias=True)\n",
      "      (dwconv): DWConv(\n",
      "        (dwconv): Conv2d(2048, 2048, kernel_size=(3, 3), stride=(1, 1), padding=(1, 1), groups=2048)\n",
      "      )\n",
      "      (act): GELU(approximate='none')\n",
      "      (fc2): Linear(in_features=2048, out_features=512, bias=True)\n",
      "      (drop): Dropout(p=0.0, inplace=False)\n",
      "    )\n",
      "  )\n",
      "  (2): Block(\n",
      "    (norm1): LayerNorm((512,), eps=1e-06, elementwise_affine=True)\n",
      "    (attn): Attention(\n",
      "      (q): Linear(in_features=512, out_features=512, bias=True)\n",
      "      (kv): Linear(in_features=512, out_features=1024, bias=True)\n",
      "      (attn_drop): Dropout(p=0.0, inplace=False)\n",
      "      (proj): Linear(in_features=512, out_features=512, bias=True)\n",
      "      (proj_drop): Dropout(p=0.0, inplace=False)\n",
      "      (sr): Identity()\n",
      "      (norm): Identity()\n",
      "    )\n",
      "    (drop_path): DropPath(drop_prob=0.100)\n",
      "    (norm2): LayerNorm((512,), eps=1e-06, elementwise_affine=True)\n",
      "    (mlp): Mlp(\n",
      "      (fc1): Linear(in_features=512, out_features=2048, bias=True)\n",
      "      (dwconv): DWConv(\n",
      "        (dwconv): Conv2d(2048, 2048, kernel_size=(3, 3), stride=(1, 1), padding=(1, 1), groups=2048)\n",
      "      )\n",
      "      (act): GELU(approximate='none')\n",
      "      (fc2): Linear(in_features=2048, out_features=512, bias=True)\n",
      "      (drop): Dropout(p=0.0, inplace=False)\n",
      "    )\n",
      "  )\n",
      ")\n",
      "Layer: norm4, Module: LayerNorm((512,), eps=1e-06, elementwise_affine=True)\n",
      "\n",
      "Encoder Layer Names:['patch_embed1', 'patch_embed2', 'patch_embed3', 'patch_embed4', 'block1', 'norm1', 'block2', 'norm2', 'block3', 'norm3', 'block4', 'norm4']\n"
     ]
    }
   ],
   "source": [
    "model = SMPLitModule(\n",
    "    arch=ARCH,\n",
    "    encoder_name=ENCODER_NAME,\n",
    "    encoder_weights=\"imagenet\",\n",
    "    in_channels=data_module.in_channels,\n",
    "    out_classes=1,  # Binary segmentation\n",
    "    loss1=LOSS1,\n",
    "    loss2=LOSS2,\n",
    "    lr=1e-3,\n",
    "    use_scheduler=False\n",
    ")\n",
    "\n",
    "layer_names = []\n",
    "for name, module in model.model.encoder.named_children():\n",
    "    print(f\"Layer: {name}, Module: {module}\")\n",
    "    layer_names.append(name)\n",
    "\n",
    "print(\"\\nEncoder Layer Names:\" + str(layer_names))"
   ]
  },
  {
   "cell_type": "code",
   "execution_count": 7,
   "id": "013794a0",
   "metadata": {},
   "outputs": [],
   "source": [
    "# freeze_tool = FreezeSMPEncoderUtils()\n",
    "# freeze_tool(model, ENCODER_NAME, layers_range=(1, 2))  # Freeze the 2nd layers"
   ]
  },
  {
   "cell_type": "code",
   "execution_count": 8,
   "id": "8744c046",
   "metadata": {},
   "outputs": [
    {
     "name": "stderr",
     "output_type": "stream",
     "text": [
      "💡 Tip: For seamless cloud uploads and versioning, try installing [litmodels](https://pypi.org/project/litmodels/) to enable LitModelCheckpoint, which syncs automatically with the Lightning model registry.\n",
      "GPU available: True (cuda), used: True\n",
      "TPU available: False, using: 0 TPU cores\n",
      "HPU available: False, using: 0 HPUs\n"
     ]
    }
   ],
   "source": [
    "trainer = L.Trainer(\n",
    "    log_every_n_steps=5\n",
    ")"
   ]
  },
  {
   "cell_type": "code",
   "execution_count": 9,
   "id": "497bc6a9",
   "metadata": {},
   "outputs": [
    {
     "name": "stderr",
     "output_type": "stream",
     "text": [
      "/home/leo/apps/miniconda3/envs/CVers/lib/python3.11/site-packages/lightning/pytorch/loops/utilities.py:73: `max_epochs` was not set. Setting it to 1000 epochs. To train without an epoch limit, set `max_epochs=-1`.\n",
      "You are using a CUDA device ('NVIDIA GeForce RTX 3090') that has Tensor Cores. To properly utilize them, you should set `torch.set_float32_matmul_precision('medium' | 'high')` which will trade-off precision for performance. For more details, read https://pytorch.org/docs/stable/generated/torch.set_float32_matmul_precision.html#torch.set_float32_matmul_precision\n"
     ]
    },
    {
     "data": {
      "text/html": [
       "<pre style=\"white-space:pre;overflow-x:auto;line-height:normal;font-family:Menlo,'DejaVu Sans Mono',consolas,'Courier New',monospace\"><span style=\"color: #008000; text-decoration-color: #008000\">Using existing split: ../data_splits/data_split_42_70_10.csv</span>\n",
       "</pre>\n"
      ],
      "text/plain": [
       "\u001b[32mUsing existing split: ..\u001b[0m\u001b[32m/data_splits/\u001b[0m\u001b[32mdata_split_42_70_10.csv\u001b[0m\n"
      ]
     },
     "metadata": {},
     "output_type": "display_data"
    },
    {
     "name": "stderr",
     "output_type": "stream",
     "text": [
      "LOCAL_RANK: 0 - CUDA_VISIBLE_DEVICES: [0]\n"
     ]
    },
    {
     "data": {
      "application/vnd.jupyter.widget-view+json": {
       "model_id": "88c4075cff7840b0a0dd863d9f03b8c8",
       "version_major": 2,
       "version_minor": 0
      },
      "text/plain": [
       "Finding best initial lr:   0%|          | 0/100 [00:00<?, ?it/s]"
      ]
     },
     "metadata": {},
     "output_type": "display_data"
    },
    {
     "name": "stderr",
     "output_type": "stream",
     "text": [
      "`Trainer.fit` stopped: `max_steps=100` reached.\n",
      "Learning rate set to 0.002089296130854039\n",
      "Restoring states from the checkpoint path at /home/leo/unsw/comp9517/CV9517_Group-Project/notebooks/.lr_find_5bac34d6-58b7-4c92-80ab-1fc0fce3e67e.ckpt\n",
      "Restored all states from the checkpoint at /home/leo/unsw/comp9517/CV9517_Group-Project/notebooks/.lr_find_5bac34d6-58b7-4c92-80ab-1fc0fce3e67e.ckpt\n"
     ]
    },
    {
     "data": {
      "text/html": [
       "<pre style=\"white-space:pre;overflow-x:auto;line-height:normal;font-family:Menlo,'DejaVu Sans Mono',consolas,'Courier New',monospace\"><span style=\"color: #000080; text-decoration-color: #000080\">Teardown called, cleaning up datasets...</span>\n",
       "</pre>\n"
      ],
      "text/plain": [
       "\u001b[34mTeardown called, cleaning up datasets\u001b[0m\u001b[34m...\u001b[0m\n"
      ]
     },
     "metadata": {},
     "output_type": "display_data"
    },
    {
     "data": {
      "image/png": "[encoded data removed]",
      "text/plain": [
       "<Figure size 640x480 with 1 Axes>"
      ]
     },
     "metadata": {},
     "output_type": "display_data"
    },
    {
     "name": "stderr",
     "output_type": "stream",
     "text": [
      "/tmp/ipykernel_842785/1558274056.py:6: UserWarning: FigureCanvasAgg is non-interactive, and thus cannot be shown\n",
      "  fig.show()\n"
     ]
    }
   ],
   "source": [
    "tuner = Tuner(trainer)\n",
    "lr_finder = tuner.lr_find(model, datamodule=data_module,\n",
    "                          min_lr=1e-5, max_lr= 0.1,\n",
    "                          num_training=100, early_stop_threshold=4)\n",
    "fig = lr_finder.plot(suggest=True, show=True)\n",
    "fig.show()"
   ]
  },
  {
   "cell_type": "code",
   "execution_count": 10,
   "id": "e6d2d7a3",
   "metadata": {},
   "outputs": [
    {
     "name": "stdout",
     "output_type": "stream",
     "text": [
      "Original suggested learning rate: 0.002089296130854039\n",
      "Rounded suggested learning rate: 0.002\n"
     ]
    }
   ],
   "source": [
    "import math\n",
    "suggested_lr = lr_finder.suggestion()\n",
    "print(f\"Original suggested learning rate: {suggested_lr}\")\n",
    "\n",
    "# Round the suggested learning rate to 1 significant digit\n",
    "magnitude =  10 ** (math.floor(math.log10(suggested_lr)))\n",
    "suggested_lr = round(suggested_lr / magnitude) * magnitude\n",
    "\n",
    "print(f\"Rounded suggested learning rate: {suggested_lr}\")"
   ]
  },
  {
   "cell_type": "markdown",
   "id": "e7fa5579",
   "metadata": {},
   "source": [
    "## **3. Train Segmentation Model**"
   ]
  },
  {
   "cell_type": "code",
   "execution_count": 11,
   "id": "c061e498",
   "metadata": {},
   "outputs": [],
   "source": [
    "data_module =  AerialDeadTreeSegDataModule(\n",
    "    val_split=0.1, test_split=0.2, seed=42,\n",
    "    modality=\"merged\", # in_channels=4. If modality is \"merged\", it will use 4 channels (RGB + NIR); Otherwise, it will use 3 channels (RGB).\n",
    "    batch_size=32,\n",
    "    num_workers= int(os.cpu_count() / 2) if os.cpu_count() is not None else 0,\n",
    "    target_size=TARGET_SIZE)"
   ]
  },
  {
   "cell_type": "code",
   "execution_count": 12,
   "id": "87ec1c33",
   "metadata": {},
   "outputs": [],
   "source": [
    "model_sum_callback = RichModelSummary(max_depth=2)\n",
    "\n",
    "lr_monitor = LearningRateMonitor(logging_interval='step')\n",
    "\n",
    "early_stop_callback = EarlyStopping(\n",
    "    monitor=\"per_image_iou/val\",\n",
    "    patience=10,\n",
    "    verbose=True,\n",
    "    mode=\"max\"  # Maximize the metric\n",
    ")\n",
    "\n",
    "checkpoint_callback = ModelCheckpoint(\n",
    "    dirpath=os.path.join(paths.checkpoint_dir, f\"smp_{ENCODER_NAME}_{ARCH}\", VERSION),\n",
    "    monitor=\"per_image_iou/val\",\n",
    "    filename=\"{epoch:02d}-{per_image_iou_val:.4f}\",\n",
    "    mode=\"max\",\n",
    "    save_top_k=3,\n",
    "    enable_version_counter=True,\n",
    ")\n",
    "\n",
    "timer = TimerCallback()"
   ]
  },
  {
   "cell_type": "code",
   "execution_count": 13,
   "id": "1ccac926",
   "metadata": {},
   "outputs": [
    {
     "name": "stdout",
     "output_type": "stream",
     "text": [
      "Encoder layer names: ['patch_embed1', 'patch_embed2', 'patch_embed3', 'patch_embed4', 'block1', 'norm1', 'block2', 'norm2', 'block3', 'norm3', 'block4', 'norm4']\n"
     ]
    }
   ],
   "source": [
    "model = SMPLitModule(\n",
    "    arch=ARCH,\n",
    "    encoder_name=ENCODER_NAME,\n",
    "    encoder_weights=\"imagenet\",\n",
    "    in_channels=data_module.in_channels,\n",
    "    out_classes=1,  # Binary segmentation\n",
    "    loss1=LOSS1,\n",
    "    loss2=LOSS2,\n",
    "    lr=suggested_lr,\n",
    "    use_scheduler=True\n",
    ")\n",
    "\n",
    "layer_names = []\n",
    "for name, module in model.model.encoder.named_children():\n",
    "    layer_names.append(name)\n",
    "print(f\"Encoder layer names: {layer_names}\")\n"
   ]
  },
  {
   "cell_type": "code",
   "execution_count": 14,
   "id": "21fc1e78",
   "metadata": {},
   "outputs": [],
   "source": [
    "# freeze_tool = FreezeSMPEncoderUtils()\n",
    "# freeze_tool(model, ENCODER_NAME, layers_range=(0, 2))  # Freeze the first 2 layers"
   ]
  },
  {
   "cell_type": "code",
   "execution_count": 15,
   "id": "9e35cb8a",
   "metadata": {},
   "outputs": [
    {
     "name": "stderr",
     "output_type": "stream",
     "text": [
      "Trainer already configured with model summary callbacks: [<class 'lightning.pytorch.callbacks.rich_model_summary.RichModelSummary'>]. Skipping setting a default `ModelSummary` callback.\n",
      "GPU available: True (cuda), used: True\n",
      "TPU available: False, using: 0 TPU cores\n",
      "HPU available: False, using: 0 HPUs\n"
     ]
    },
    {
     "data": {
      "text/html": [
       "<pre style=\"white-space:pre;overflow-x:auto;line-height:normal;font-family:Menlo,'DejaVu Sans Mono',consolas,'Courier New',monospace\"><span style=\"color: #008000; text-decoration-color: #008000\">Using existing split: ../data_splits/data_split_42_70_10.csv</span>\n",
       "</pre>\n"
      ],
      "text/plain": [
       "\u001b[32mUsing existing split: ..\u001b[0m\u001b[32m/data_splits/\u001b[0m\u001b[32mdata_split_42_70_10.csv\u001b[0m\n"
      ]
     },
     "metadata": {},
     "output_type": "display_data"
    },
    {
     "name": "stderr",
     "output_type": "stream",
     "text": [
      "LOCAL_RANK: 0 - CUDA_VISIBLE_DEVICES: [0]\n",
      "Loading `train_dataloader` to estimate number of stepping batches.\n"
     ]
    },
    {
     "data": {
      "text/html": [
       "<pre style=\"white-space:pre;overflow-x:auto;line-height:normal;font-family:Menlo,'DejaVu Sans Mono',consolas,'Courier New',monospace\">┏━━━┳━━━━━━━━━━━━━━━━━━━━━━━━━┳━━━━━━━━━━━━━━━━━━━━━━━━━━━━━┳━━━━━━━━┳━━━━━━━┓\n",
       "┃<span style=\"color: #800080; text-decoration-color: #800080; font-weight: bold\">   </span>┃<span style=\"color: #800080; text-decoration-color: #800080; font-weight: bold\"> Name                    </span>┃<span style=\"color: #800080; text-decoration-color: #800080; font-weight: bold\"> Type                        </span>┃<span style=\"color: #800080; text-decoration-color: #800080; font-weight: bold\"> Params </span>┃<span style=\"color: #800080; text-decoration-color: #800080; font-weight: bold\"> Mode  </span>┃\n",
       "┡━━━╇━━━━━━━━━━━━━━━━━━━━━━━━━╇━━━━━━━━━━━━━━━━━━━━━━━━━━━━━╇━━━━━━━━╇━━━━━━━┩\n",
       "│<span style=\"color: #7f7f7f; text-decoration-color: #7f7f7f\"> 0 </span>│ model                   │ Unet                        │ 84.7 M │ train │\n",
       "│<span style=\"color: #7f7f7f; text-decoration-color: #7f7f7f\"> 1 </span>│ model.encoder           │ MixVisionTransformerEncoder │ 81.4 M │ train │\n",
       "│<span style=\"color: #7f7f7f; text-decoration-color: #7f7f7f\"> 2 </span>│ model.decoder           │ UnetDecoder                 │  3.3 M │ train │\n",
       "│<span style=\"color: #7f7f7f; text-decoration-color: #7f7f7f\"> 3 </span>│ model.segmentation_head │ SegmentationHead            │    145 │ train │\n",
       "│<span style=\"color: #7f7f7f; text-decoration-color: #7f7f7f\"> 4 </span>│ loss_fn1                │ JaccardLoss                 │      0 │ train │\n",
       "│<span style=\"color: #7f7f7f; text-decoration-color: #7f7f7f\"> 5 </span>│ loss_fn2                │ FocalLoss                   │      0 │ train │\n",
       "│<span style=\"color: #7f7f7f; text-decoration-color: #7f7f7f\"> 6 </span>│ _default_loss           │ DiceLoss                    │      0 │ train │\n",
       "└───┴─────────────────────────┴─────────────────────────────┴────────┴───────┘\n",
       "</pre>\n"
      ],
      "text/plain": [
       "┏━━━┳━━━━━━━━━━━━━━━━━━━━━━━━━┳━━━━━━━━━━━━━━━━━━━━━━━━━━━━━┳━━━━━━━━┳━━━━━━━┓\n",
       "┃\u001b[1;35m \u001b[0m\u001b[1;35m \u001b[0m\u001b[1;35m \u001b[0m┃\u001b[1;35m \u001b[0m\u001b[1;35mName                   \u001b[0m\u001b[1;35m \u001b[0m┃\u001b[1;35m \u001b[0m\u001b[1;35mType                       \u001b[0m\u001b[1;35m \u001b[0m┃\u001b[1;35m \u001b[0m\u001b[1;35mParams\u001b[0m\u001b[1;35m \u001b[0m┃\u001b[1;35m \u001b[0m\u001b[1;35mMode \u001b[0m\u001b[1;35m \u001b[0m┃\n",
       "┡━━━╇━━━━━━━━━━━━━━━━━━━━━━━━━╇━━━━━━━━━━━━━━━━━━━━━━━━━━━━━╇━━━━━━━━╇━━━━━━━┩\n",
       "│\u001b[2m \u001b[0m\u001b[2m0\u001b[0m\u001b[2m \u001b[0m│ model                   │ Unet                        │ 84.7 M │ train │\n",
       "│\u001b[2m \u001b[0m\u001b[2m1\u001b[0m\u001b[2m \u001b[0m│ model.encoder           │ MixVisionTransformerEncoder │ 81.4 M │ train │\n",
       "│\u001b[2m \u001b[0m\u001b[2m2\u001b[0m\u001b[2m \u001b[0m│ model.decoder           │ UnetDecoder                 │  3.3 M │ train │\n",
       "│\u001b[2m \u001b[0m\u001b[2m3\u001b[0m\u001b[2m \u001b[0m│ model.segmentation_head │ SegmentationHead            │    145 │ train │\n",
       "│\u001b[2m \u001b[0m\u001b[2m4\u001b[0m\u001b[2m \u001b[0m│ loss_fn1                │ JaccardLoss                 │      0 │ train │\n",
       "│\u001b[2m \u001b[0m\u001b[2m5\u001b[0m\u001b[2m \u001b[0m│ loss_fn2                │ FocalLoss                   │      0 │ train │\n",
       "│\u001b[2m \u001b[0m\u001b[2m6\u001b[0m\u001b[2m \u001b[0m│ _default_loss           │ DiceLoss                    │      0 │ train │\n",
       "└───┴─────────────────────────┴─────────────────────────────┴────────┴───────┘\n"
      ]
     },
     "metadata": {},
     "output_type": "display_data"
    },
    {
     "data": {
      "text/html": [
       "<pre style=\"white-space:pre;overflow-x:auto;line-height:normal;font-family:Menlo,'DejaVu Sans Mono',consolas,'Courier New',monospace\"><span style=\"font-weight: bold\">Trainable params</span>: 84.7 M                                                                                           \n",
       "<span style=\"font-weight: bold\">Non-trainable params</span>: 0                                                                                            \n",
       "<span style=\"font-weight: bold\">Total params</span>: 84.7 M                                                                                               \n",
       "<span style=\"font-weight: bold\">Total estimated model params size (MB)</span>: 338                                                                        \n",
       "<span style=\"font-weight: bold\">Modules in train mode</span>: 1086                                                                                        \n",
       "<span style=\"font-weight: bold\">Modules in eval mode</span>: 0                                                                                            \n",
       "</pre>\n"
      ],
      "text/plain": [
       "\u001b[1mTrainable params\u001b[0m: 84.7 M                                                                                           \n",
       "\u001b[1mNon-trainable params\u001b[0m: 0                                                                                            \n",
       "\u001b[1mTotal params\u001b[0m: 84.7 M                                                                                               \n",
       "\u001b[1mTotal estimated model params size (MB)\u001b[0m: 338                                                                        \n",
       "\u001b[1mModules in train mode\u001b[0m: 1086                                                                                        \n",
       "\u001b[1mModules in eval mode\u001b[0m: 0                                                                                            \n"
      ]
     },
     "metadata": {},
     "output_type": "display_data"
    },
    {
     "data": {
      "application/vnd.jupyter.widget-view+json": {
       "model_id": "d9a3f7ca318a44a0afb4445ba5d6febc",
       "version_major": 2,
       "version_minor": 0
      },
      "text/plain": [
       "Sanity Checking: |          | 0/? [00:00<?, ?it/s]"
      ]
     },
     "metadata": {},
     "output_type": "display_data"
    },
    {
     "data": {
      "application/vnd.jupyter.widget-view+json": {
       "model_id": "2bc5d915fae14c9a913f242d8221dc1b",
       "version_major": 2,
       "version_minor": 0
      },
      "text/plain": [
       "Training: |          | 0/? [00:00<?, ?it/s]"
      ]
     },
     "metadata": {},
     "output_type": "display_data"
    },
    {
     "data": {
      "application/vnd.jupyter.widget-view+json": {
       "model_id": "fe35da81249e4896a797dad7fd39acea",
       "version_major": 2,
       "version_minor": 0
      },
      "text/plain": [
       "Validation: |          | 0/? [00:00<?, ?it/s]"
      ]
     },
     "metadata": {},
     "output_type": "display_data"
    },
    {
     "name": "stderr",
     "output_type": "stream",
     "text": [
      "Metric per_image_iou/val improved. New best score: 0.019\n"
     ]
    },
    {
     "data": {
      "application/vnd.jupyter.widget-view+json": {
       "model_id": "37c9c2b225a141fc9c60b54233a0c9cc",
       "version_major": 2,
       "version_minor": 0
      },
      "text/plain": [
       "Validation: |          | 0/? [00:00<?, ?it/s]"
      ]
     },
     "metadata": {},
     "output_type": "display_data"
    },
    {
     "name": "stderr",
     "output_type": "stream",
     "text": [
      "Metric per_image_iou/val improved by 0.001 >= min_delta = 0.0. New best score: 0.019\n"
     ]
    },
    {
     "data": {
      "application/vnd.jupyter.widget-view+json": {
       "model_id": "427bd611fcc94f57bf80b110421cd2cb",
       "version_major": 2,
       "version_minor": 0
      },
      "text/plain": [
       "Validation: |          | 0/? [00:00<?, ?it/s]"
      ]
     },
     "metadata": {},
     "output_type": "display_data"
    },
    {
     "data": {
      "application/vnd.jupyter.widget-view+json": {
       "model_id": "7a4dac005a074e2cb79f81b223b5c9a2",
       "version_major": 2,
       "version_minor": 0
      },
      "text/plain": [
       "Validation: |          | 0/? [00:00<?, ?it/s]"
      ]
     },
     "metadata": {},
     "output_type": "display_data"
    },
    {
     "name": "stderr",
     "output_type": "stream",
     "text": [
      "Metric per_image_iou/val improved by 0.036 >= min_delta = 0.0. New best score: 0.055\n"
     ]
    },
    {
     "data": {
      "application/vnd.jupyter.widget-view+json": {
       "model_id": "b13b15230fa1411b87a5f3785298bf6b",
       "version_major": 2,
       "version_minor": 0
      },
      "text/plain": [
       "Validation: |          | 0/? [00:00<?, ?it/s]"
      ]
     },
     "metadata": {},
     "output_type": "display_data"
    },
    {
     "name": "stderr",
     "output_type": "stream",
     "text": [
      "Metric per_image_iou/val improved by 0.113 >= min_delta = 0.0. New best score: 0.168\n"
     ]
    },
    {
     "data": {
      "application/vnd.jupyter.widget-view+json": {
       "model_id": "3e595a864d0641789741f1a22ab46835",
       "version_major": 2,
       "version_minor": 0
      },
      "text/plain": [
       "Validation: |          | 0/? [00:00<?, ?it/s]"
      ]
     },
     "metadata": {},
     "output_type": "display_data"
    },
    {
     "name": "stderr",
     "output_type": "stream",
     "text": [
      "Metric per_image_iou/val improved by 0.025 >= min_delta = 0.0. New best score: 0.193\n"
     ]
    },
    {
     "data": {
      "application/vnd.jupyter.widget-view+json": {
       "model_id": "bade547c268c49ce952590e533163431",
       "version_major": 2,
       "version_minor": 0
      },
      "text/plain": [
       "Validation: |          | 0/? [00:00<?, ?it/s]"
      ]
     },
     "metadata": {},
     "output_type": "display_data"
    },
    {
     "data": {
      "application/vnd.jupyter.widget-view+json": {
       "model_id": "e97bea2ce6b54d7499d62aa81de03b71",
       "version_major": 2,
       "version_minor": 0
      },
      "text/plain": [
       "Validation: |          | 0/? [00:00<?, ?it/s]"
      ]
     },
     "metadata": {},
     "output_type": "display_data"
    },
    {
     "name": "stderr",
     "output_type": "stream",
     "text": [
      "Metric per_image_iou/val improved by 0.017 >= min_delta = 0.0. New best score: 0.210\n"
     ]
    },
    {
     "data": {
      "application/vnd.jupyter.widget-view+json": {
       "model_id": "57a52e966b2941b8b2a3b03daecd48d3",
       "version_major": 2,
       "version_minor": 0
      },
      "text/plain": [
       "Validation: |          | 0/? [00:00<?, ?it/s]"
      ]
     },
     "metadata": {},
     "output_type": "display_data"
    },
    {
     "name": "stderr",
     "output_type": "stream",
     "text": [
      "Metric per_image_iou/val improved by 0.004 >= min_delta = 0.0. New best score: 0.214\n"
     ]
    },
    {
     "data": {
      "application/vnd.jupyter.widget-view+json": {
       "model_id": "4b3216783e1a4ffaa5e2430b280acd38",
       "version_major": 2,
       "version_minor": 0
      },
      "text/plain": [
       "Validation: |          | 0/? [00:00<?, ?it/s]"
      ]
     },
     "metadata": {},
     "output_type": "display_data"
    },
    {
     "name": "stderr",
     "output_type": "stream",
     "text": [
      "Metric per_image_iou/val improved by 0.047 >= min_delta = 0.0. New best score: 0.260\n"
     ]
    },
    {
     "data": {
      "application/vnd.jupyter.widget-view+json": {
       "model_id": "81278ec7094d48b9ba3c9b0124a15827",
       "version_major": 2,
       "version_minor": 0
      },
      "text/plain": [
       "Validation: |          | 0/? [00:00<?, ?it/s]"
      ]
     },
     "metadata": {},
     "output_type": "display_data"
    },
    {
     "name": "stderr",
     "output_type": "stream",
     "text": [
      "Metric per_image_iou/val improved by 0.083 >= min_delta = 0.0. New best score: 0.344\n"
     ]
    },
    {
     "data": {
      "application/vnd.jupyter.widget-view+json": {
       "model_id": "63a4dc3868124c858ec371ecfeeedeb5",
       "version_major": 2,
       "version_minor": 0
      },
      "text/plain": [
       "Validation: |          | 0/? [00:00<?, ?it/s]"
      ]
     },
     "metadata": {},
     "output_type": "display_data"
    },
    {
     "data": {
      "application/vnd.jupyter.widget-view+json": {
       "model_id": "ca694a90bb8e4aee82b9988b93f8fdaf",
       "version_major": 2,
       "version_minor": 0
      },
      "text/plain": [
       "Validation: |          | 0/? [00:00<?, ?it/s]"
      ]
     },
     "metadata": {},
     "output_type": "display_data"
    },
    {
     "data": {
      "application/vnd.jupyter.widget-view+json": {
       "model_id": "0bcc1e81e76844f48997d92762b9bab3",
       "version_major": 2,
       "version_minor": 0
      },
      "text/plain": [
       "Validation: |          | 0/? [00:00<?, ?it/s]"
      ]
     },
     "metadata": {},
     "output_type": "display_data"
    },
    {
     "name": "stderr",
     "output_type": "stream",
     "text": [
      "Metric per_image_iou/val improved by 0.008 >= min_delta = 0.0. New best score: 0.351\n"
     ]
    },
    {
     "data": {
      "application/vnd.jupyter.widget-view+json": {
       "model_id": "0f4e240a491c4e2ba3ce35f02a8a8e2e",
       "version_major": 2,
       "version_minor": 0
      },
      "text/plain": [
       "Validation: |          | 0/? [00:00<?, ?it/s]"
      ]
     },
     "metadata": {},
     "output_type": "display_data"
    },
    {
     "name": "stderr",
     "output_type": "stream",
     "text": [
      "Metric per_image_iou/val improved by 0.026 >= min_delta = 0.0. New best score: 0.377\n"
     ]
    },
    {
     "data": {
      "application/vnd.jupyter.widget-view+json": {
       "model_id": "f565d2397daa40f185f042787d425dd7",
       "version_major": 2,
       "version_minor": 0
      },
      "text/plain": [
       "Validation: |          | 0/? [00:00<?, ?it/s]"
      ]
     },
     "metadata": {},
     "output_type": "display_data"
    },
    {
     "data": {
      "application/vnd.jupyter.widget-view+json": {
       "model_id": "67680c1c2e4d4ede8f400fad52af9f27",
       "version_major": 2,
       "version_minor": 0
      },
      "text/plain": [
       "Validation: |          | 0/? [00:00<?, ?it/s]"
      ]
     },
     "metadata": {},
     "output_type": "display_data"
    },
    {
     "data": {
      "application/vnd.jupyter.widget-view+json": {
       "model_id": "33829d181f5349c1bab79b41d594651a",
       "version_major": 2,
       "version_minor": 0
      },
      "text/plain": [
       "Validation: |          | 0/? [00:00<?, ?it/s]"
      ]
     },
     "metadata": {},
     "output_type": "display_data"
    },
    {
     "data": {
      "application/vnd.jupyter.widget-view+json": {
       "model_id": "28838cdfe1d54180b0af2b1f83b4651d",
       "version_major": 2,
       "version_minor": 0
      },
      "text/plain": [
       "Validation: |          | 0/? [00:00<?, ?it/s]"
      ]
     },
     "metadata": {},
     "output_type": "display_data"
    },
    {
     "data": {
      "application/vnd.jupyter.widget-view+json": {
       "model_id": "edd5e96e54194561830c569756b5e1eb",
       "version_major": 2,
       "version_minor": 0
      },
      "text/plain": [
       "Validation: |          | 0/? [00:00<?, ?it/s]"
      ]
     },
     "metadata": {},
     "output_type": "display_data"
    },
    {
     "name": "stderr",
     "output_type": "stream",
     "text": [
      "Metric per_image_iou/val improved by 0.000 >= min_delta = 0.0. New best score: 0.377\n"
     ]
    },
    {
     "data": {
      "application/vnd.jupyter.widget-view+json": {
       "model_id": "23f336a58e344673a8739c73e8853862",
       "version_major": 2,
       "version_minor": 0
      },
      "text/plain": [
       "Validation: |          | 0/? [00:00<?, ?it/s]"
      ]
     },
     "metadata": {},
     "output_type": "display_data"
    },
    {
     "name": "stderr",
     "output_type": "stream",
     "text": [
      "Metric per_image_iou/val improved by 0.014 >= min_delta = 0.0. New best score: 0.391\n"
     ]
    },
    {
     "data": {
      "application/vnd.jupyter.widget-view+json": {
       "model_id": "22c16412a9ba4ef8bbc6cd67b88574d8",
       "version_major": 2,
       "version_minor": 0
      },
      "text/plain": [
       "Validation: |          | 0/? [00:00<?, ?it/s]"
      ]
     },
     "metadata": {},
     "output_type": "display_data"
    },
    {
     "data": {
      "application/vnd.jupyter.widget-view+json": {
       "model_id": "9300021dc7584f92a4c555e8974c1811",
       "version_major": 2,
       "version_minor": 0
      },
      "text/plain": [
       "Validation: |          | 0/? [00:00<?, ?it/s]"
      ]
     },
     "metadata": {},
     "output_type": "display_data"
    },
    {
     "data": {
      "application/vnd.jupyter.widget-view+json": {
       "model_id": "3e6d3ac04e8d44ac9db8969e949555a9",
       "version_major": 2,
       "version_minor": 0
      },
      "text/plain": [
       "Validation: |          | 0/? [00:00<?, ?it/s]"
      ]
     },
     "metadata": {},
     "output_type": "display_data"
    },
    {
     "data": {
      "application/vnd.jupyter.widget-view+json": {
       "model_id": "c881f64b292d460ab4537ab880586e41",
       "version_major": 2,
       "version_minor": 0
      },
      "text/plain": [
       "Validation: |          | 0/? [00:00<?, ?it/s]"
      ]
     },
     "metadata": {},
     "output_type": "display_data"
    },
    {
     "name": "stderr",
     "output_type": "stream",
     "text": [
      "Metric per_image_iou/val improved by 0.020 >= min_delta = 0.0. New best score: 0.412\n"
     ]
    },
    {
     "data": {
      "application/vnd.jupyter.widget-view+json": {
       "model_id": "d604b01843b7487ea9bf53bffdc096c3",
       "version_major": 2,
       "version_minor": 0
      },
      "text/plain": [
       "Validation: |          | 0/? [00:00<?, ?it/s]"
      ]
     },
     "metadata": {},
     "output_type": "display_data"
    },
    {
     "data": {
      "application/vnd.jupyter.widget-view+json": {
       "model_id": "2a3fbebc99ee407984bfd97de9fda855",
       "version_major": 2,
       "version_minor": 0
      },
      "text/plain": [
       "Validation: |          | 0/? [00:00<?, ?it/s]"
      ]
     },
     "metadata": {},
     "output_type": "display_data"
    },
    {
     "data": {
      "application/vnd.jupyter.widget-view+json": {
       "model_id": "c096cca48ffa403c9957b95d9065ddfb",
       "version_major": 2,
       "version_minor": 0
      },
      "text/plain": [
       "Validation: |          | 0/? [00:00<?, ?it/s]"
      ]
     },
     "metadata": {},
     "output_type": "display_data"
    },
    {
     "data": {
      "application/vnd.jupyter.widget-view+json": {
       "model_id": "4e9dfcd19dc74b23b2e153b67bcf1b3e",
       "version_major": 2,
       "version_minor": 0
      },
      "text/plain": [
       "Validation: |          | 0/? [00:00<?, ?it/s]"
      ]
     },
     "metadata": {},
     "output_type": "display_data"
    },
    {
     "data": {
      "application/vnd.jupyter.widget-view+json": {
       "model_id": "a2135d98f19c46ae825fb072b704de40",
       "version_major": 2,
       "version_minor": 0
      },
      "text/plain": [
       "Validation: |          | 0/? [00:00<?, ?it/s]"
      ]
     },
     "metadata": {},
     "output_type": "display_data"
    },
    {
     "data": {
      "application/vnd.jupyter.widget-view+json": {
       "model_id": "ac363e532ce34f01aaf46f2c193adeb0",
       "version_major": 2,
       "version_minor": 0
      },
      "text/plain": [
       "Validation: |          | 0/? [00:00<?, ?it/s]"
      ]
     },
     "metadata": {},
     "output_type": "display_data"
    },
    {
     "data": {
      "application/vnd.jupyter.widget-view+json": {
       "model_id": "c80748f51ad04b5f96e8fc01aecbcbf3",
       "version_major": 2,
       "version_minor": 0
      },
      "text/plain": [
       "Validation: |          | 0/? [00:00<?, ?it/s]"
      ]
     },
     "metadata": {},
     "output_type": "display_data"
    },
    {
     "data": {
      "application/vnd.jupyter.widget-view+json": {
       "model_id": "4f2f90a020a6460993a49d25be3c9d5f",
       "version_major": 2,
       "version_minor": 0
      },
      "text/plain": [
       "Validation: |          | 0/? [00:00<?, ?it/s]"
      ]
     },
     "metadata": {},
     "output_type": "display_data"
    },
    {
     "data": {
      "application/vnd.jupyter.widget-view+json": {
       "model_id": "8424dcc89f894c0c89b1fb630d7d23fa",
       "version_major": 2,
       "version_minor": 0
      },
      "text/plain": [
       "Validation: |          | 0/? [00:00<?, ?it/s]"
      ]
     },
     "metadata": {},
     "output_type": "display_data"
    },
    {
     "data": {
      "application/vnd.jupyter.widget-view+json": {
       "model_id": "271b4fa9c13e4eb3a7a4b4284a97180c",
       "version_major": 2,
       "version_minor": 0
      },
      "text/plain": [
       "Validation: |          | 0/? [00:00<?, ?it/s]"
      ]
     },
     "metadata": {},
     "output_type": "display_data"
    },
    {
     "name": "stderr",
     "output_type": "stream",
     "text": [
      "Monitored metric per_image_iou/val did not improve in the last 10 records. Best score: 0.412. Signaling Trainer to stop.\n"
     ]
    },
    {
     "data": {
      "text/html": [
       "<pre style=\"white-space:pre;overflow-x:auto;line-height:normal;font-family:Menlo,'DejaVu Sans Mono',consolas,'Courier New',monospace\"><span style=\"color: #000080; text-decoration-color: #000080\">Teardown called, cleaning up datasets...</span>\n",
       "</pre>\n"
      ],
      "text/plain": [
       "\u001b[34mTeardown called, cleaning up datasets\u001b[0m\u001b[34m...\u001b[0m\n"
      ]
     },
     "metadata": {},
     "output_type": "display_data"
    }
   ],
   "source": [
    "logger = TensorBoardLogger(paths.tensorboard_log_dir, name=f\"smp_{ENCODER_NAME}_{ARCH}\", version=VERSION)\n",
    "\n",
    "trainer = L.Trainer(\n",
    "    max_epochs=100,\n",
    "    enable_progress_bar=True,\n",
    "    logger=logger,\n",
    "    callbacks=[model_sum_callback,lr_monitor, early_stop_callback, checkpoint_callback],\n",
    "    log_every_n_steps=5,\n",
    ")\n",
    "trainer.fit(model, datamodule=data_module)"
   ]
  }
 ],
 "metadata": {
  "kernelspec": {
   "display_name": "CVers",
   "language": "python",
   "name": "python3"
  },
  "language_info": {
   "codemirror_mode": {
    "name": "ipython",
    "version": 3
   },
   "file_extension": ".py",
   "mimetype": "text/x-python",
   "name": "python",
   "nbconvert_exporter": "python",
   "pygments_lexer": "ipython3",
   "version": "3.11.9"
  }
 },
 "nbformat": 4,
 "nbformat_minor": 5
}
