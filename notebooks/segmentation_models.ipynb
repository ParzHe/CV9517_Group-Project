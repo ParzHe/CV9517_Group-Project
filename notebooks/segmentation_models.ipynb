{
 "cells": [
  {
   "cell_type": "markdown",
   "id": "eefe3629",
   "metadata": {},
   "source": [
    "# **COMP9517 - Group Project (Segmentation Models Pytorch)**"
   ]
  },
  {
   "cell_type": "markdown",
   "id": "bb76af11",
   "metadata": {},
   "source": [
    "## **0. Add Imports**"
   ]
  },
  {
   "cell_type": "code",
   "execution_count": 1,
   "id": "16f037ca",
   "metadata": {},
   "outputs": [],
   "source": [
    "# !conda env create -f environment.yaml"
   ]
  },
  {
   "cell_type": "code",
   "execution_count": null,
   "id": "45474d93",
   "metadata": {},
   "outputs": [],
   "source": [
    "import os\n",
    "import sys\n",
    "sys.path.append(os.path.join(os.getcwd(), '..'))\n",
    "\n",
    "import matplotlib.pyplot as plt\n",
    "import numpy as np\n",
    "\n",
    "import lightning as L\n",
    "from lightning.pytorch.callbacks import ModelCheckpoint, LearningRateMonitor, EarlyStopping, RichModelSummary, Timer\n",
    "from lightning.pytorch.loggers import TensorBoardLogger, WandbLogger\n",
    "\n",
    "from data import AerialDeadTreeSegDataModule, download_dataset\n",
    "from lightning.pytorch.tuner import Tuner\n",
    "from lightning_modules import SMPLitModule\n",
    "from models import FreezeSMPEncoderUtils\n",
    "from utils import paths, callbacks\n",
    "import segmentation_models_pytorch as smp\n"
   ]
  },
  {
   "cell_type": "code",
   "execution_count": 3,
   "id": "6bfcd838",
   "metadata": {},
   "outputs": [],
   "source": [
    "ARCH = \"Unet\"\n",
    "ENCODER_NAME = \"efficientnet-b5\"\n",
    "MODALITY = \"merged\"\n",
    "TARGET_SIZE = 384\n",
    "VERSION = f\"{MODALITY}_{TARGET_SIZE}\"\n",
    "BATCH_SIZE = 16\n",
    "ACCUMULATE_GRAD_BATCHES = 2\n",
    "MAX_EPOCHS = 100\n",
    "EARLY_STOPPING_PATIENCE = 20\n",
    "LOSS1 = smp.losses.JaccardLoss(mode='binary', from_logits=True)\n",
    "LOSS2 = smp.losses.FocalLoss(mode='binary')\n",
    "MIN_LR = 1e-4\n",
    "MAX_LR = 0.1  # Maximum learning rate for the learning rate finder\n",
    "PRECISION = \"bf16-mixed\""
   ]
  },
  {
   "cell_type": "markdown",
   "id": "bfbd7cde",
   "metadata": {},
   "source": [
    "## **1. Simple Summary of the Dattaset**"
   ]
  },
  {
   "cell_type": "code",
   "execution_count": 4,
   "id": "8ed9f2b4",
   "metadata": {},
   "outputs": [
    {
     "name": "stdout",
     "output_type": "stream",
     "text": [
      "Max RGB resolution: (652, 636), Min RGB resolution: (317, 294)\n",
      "Max NRG resolution: (652, 636), Min NRG resolution: (317, 294)\n"
     ]
    }
   ],
   "source": [
    "from PIL import Image\n",
    "# Get the data folder\n",
    "data_folder = download_dataset()\n",
    "\n",
    "rgb_dir = os.path.join(data_folder, \"RGB_images\")\n",
    "nrg_dir = os.path.join(data_folder, \"NRG_images\")\n",
    "mask_dir = os.path.join(data_folder, \"masks\")\n",
    "\n",
    "# Get the max and min resolution of the images\n",
    "def get_max_min_resolution(image_dir):\n",
    "    max_res = (0, 0)\n",
    "    min_res = (float('inf'), float('inf'))\n",
    "    for filename in os.listdir(image_dir):\n",
    "        if filename.endswith(\".png\"):\n",
    "            filepath = os.path.join(image_dir, filename)\n",
    "            with open(filepath, 'rb') as f:\n",
    "                img = Image.open(f)\n",
    "                height, width = img.size\n",
    "                max_res = (max(max_res[0], height), max(max_res[1], width))\n",
    "                min_res = (min(min_res[0], height), min(min_res[1], width))\n",
    "    return max_res, min_res\n",
    "max_rgb_res, min_rgb_res = get_max_min_resolution(rgb_dir)\n",
    "max_nrg_res, min_nrg_res = get_max_min_resolution(nrg_dir)\n",
    "print(f\"Max RGB resolution: {max_rgb_res}, Min RGB resolution: {min_rgb_res}\")\n",
    "print(f\"Max NRG resolution: {max_nrg_res}, Min NRG resolution: {min_nrg_res}\")"
   ]
  },
  {
   "cell_type": "markdown",
   "id": "b7db092b",
   "metadata": {},
   "source": [
    "## **2. Prepare Data Module**"
   ]
  },
  {
   "cell_type": "code",
   "execution_count": 5,
   "id": "2df12677",
   "metadata": {},
   "outputs": [],
   "source": [
    "data_module = AerialDeadTreeSegDataModule(\n",
    "    val_split=0.1, test_split=0.2, seed=42,\n",
    "    modality=MODALITY, # in_channels=4. If modality is \"merged\", it will use 4 channels (RGB + NIR); Otherwise, it will use 3 channels (RGB).\n",
    "    batch_size=BATCH_SIZE,\n",
    "    num_workers= int(os.cpu_count() / 2) if os.cpu_count() is not None else 0,\n",
    "    target_size=TARGET_SIZE)"
   ]
  },
  {
   "cell_type": "markdown",
   "id": "525ec884",
   "metadata": {},
   "source": [
    "## **3. Create Segmentation Models**"
   ]
  },
  {
   "cell_type": "code",
   "execution_count": 6,
   "id": "03d1d709",
   "metadata": {},
   "outputs": [],
   "source": [
    "model = SMPLitModule(\n",
    "    arch=ARCH,\n",
    "    encoder_name=ENCODER_NAME,\n",
    "    encoder_weights=\"imagenet\",\n",
    "    in_channels=data_module.in_channels,\n",
    "    out_classes=1,  # Binary segmentation\n",
    "    loss1=LOSS1,\n",
    "    loss2=LOSS2,\n",
    "    target_size=TARGET_SIZE\n",
    ")"
   ]
  },
  {
   "cell_type": "markdown",
   "id": "4b1266e6",
   "metadata": {},
   "source": [
    "## **4. Create Trainer**"
   ]
  },
  {
   "cell_type": "code",
   "execution_count": null,
   "id": "fa07a5a9",
   "metadata": {},
   "outputs": [],
   "source": [
    "model_sum_callback = RichModelSummary(max_depth=2)\n",
    "\n",
    "lr_monitor = LearningRateMonitor(logging_interval='step')\n",
    "\n",
    "early_stop_callback = EarlyStopping(\n",
    "    monitor=\"per_image_iou/val\",\n",
    "    patience=EARLY_STOPPING_PATIENCE,\n",
    "    verbose=True,\n",
    "    mode=\"max\"  # Maximize the metric\n",
    ")\n",
    "\n",
    "timer = Timer(interval=\"epoch\", verbose=False)\n",
    "                \n",
    "checkpoint_callback = ModelCheckpoint(\n",
    "    dirpath=os.path.join(paths.checkpoint_dir, f\"smp_{ENCODER_NAME}_{ARCH}\", VERSION),\n",
    "    monitor=\"per_image_iou/val\",\n",
    "    filename=\"{epoch:02d}-{per_image_iou_val:.4f}\",\n",
    "    mode=\"max\",\n",
    "    save_top_k=2,\n",
    "    enable_version_counter=True,\n",
    ")"
   ]
  },
  {
   "cell_type": "code",
   "execution_count": null,
   "id": "8744c046",
   "metadata": {},
   "outputs": [
    {
     "name": "stderr",
     "output_type": "stream",
     "text": [
      "Using bfloat16 Automatic Mixed Precision (AMP)\n",
      "Trainer already configured with model summary callbacks: [<class 'lightning.pytorch.callbacks.rich_model_summary.RichModelSummary'>]. Skipping setting a default `ModelSummary` callback.\n",
      "GPU available: True (cuda), used: True\n",
      "TPU available: False, using: 0 TPU cores\n",
      "HPU available: False, using: 0 HPUs\n"
     ]
    }
   ],
   "source": [
    "logger = TensorBoardLogger(paths.tensorboard_log_dir, name=f\"smp_{ENCODER_NAME}_{ARCH}\", version=VERSION)\n",
    "trainer = L.Trainer(\n",
    "    precision=PRECISION,\n",
    "    max_epochs=MAX_EPOCHS,\n",
    "    enable_progress_bar=True,\n",
    "    logger=logger,\n",
    "    callbacks=[\n",
    "        model_sum_callback,\n",
    "        lr_monitor,\n",
    "        early_stop_callback,\n",
    "        timer,\n",
    "        checkpoint_callback\n",
    "    ],\n",
    "    log_every_n_steps=5,\n",
    "    accumulate_grad_batches=ACCUMULATE_GRAD_BATCHES,\n",
    ")"
   ]
  },
  {
   "cell_type": "markdown",
   "id": "2eb89776",
   "metadata": {},
   "source": [
    "## **5. Find Suggested Learning Rate**"
   ]
  },
  {
   "cell_type": "code",
   "execution_count": 9,
   "id": "497bc6a9",
   "metadata": {},
   "outputs": [
    {
     "name": "stderr",
     "output_type": "stream",
     "text": [
      "You are using a CUDA device ('NVIDIA GeForce RTX 3090') that has Tensor Cores. To properly utilize them, you should set `torch.set_float32_matmul_precision('medium' | 'high')` which will trade-off precision for performance. For more details, read https://pytorch.org/docs/stable/generated/torch.set_float32_matmul_precision.html#torch.set_float32_matmul_precision\n"
     ]
    },
    {
     "data": {
      "text/html": [
       "<pre style=\"white-space:pre;overflow-x:auto;line-height:normal;font-family:Menlo,'DejaVu Sans Mono',consolas,'Courier New',monospace\"><span style=\"color: #008000; text-decoration-color: #008000\">Using existing split: ./data_splits/data_split_42_70_10.csv</span>\n",
       "</pre>\n"
      ],
      "text/plain": [
       "\u001b[32mUsing existing split: .\u001b[0m\u001b[32m/data_splits/\u001b[0m\u001b[32mdata_split_42_70_10.csv\u001b[0m\n"
      ]
     },
     "metadata": {},
     "output_type": "display_data"
    },
    {
     "name": "stderr",
     "output_type": "stream",
     "text": [
      "LOCAL_RANK: 0 - CUDA_VISIBLE_DEVICES: [0]\n",
      "Loading `train_dataloader` to estimate number of stepping batches.\n"
     ]
    },
    {
     "data": {
      "application/vnd.jupyter.widget-view+json": {
       "model_id": "874b392aca1546a187155e79d96a44d5",
       "version_major": 2,
       "version_minor": 0
      },
      "text/plain": [
       "Finding best initial lr:   0%|          | 0/100 [00:00<?, ?it/s]"
      ]
     },
     "metadata": {},
     "output_type": "display_data"
    },
    {
     "name": "stderr",
     "output_type": "stream",
     "text": [
      "`Trainer.fit` stopped: `max_steps=100` reached.\n",
      "Learning rate set to 0.010964781961431854\n",
      "Restoring states from the checkpoint path at /home/leo/unsw/comp9517/CV9517_Group-Project/notebooks/.lr_find_0166f4c0-0ac9-4880-a11e-02f2f4eedf5e.ckpt\n",
      "Restored all states from the checkpoint at /home/leo/unsw/comp9517/CV9517_Group-Project/notebooks/.lr_find_0166f4c0-0ac9-4880-a11e-02f2f4eedf5e.ckpt\n"
     ]
    },
    {
     "data": {
      "text/html": [
       "<pre style=\"white-space:pre;overflow-x:auto;line-height:normal;font-family:Menlo,'DejaVu Sans Mono',consolas,'Courier New',monospace\"><span style=\"color: #000080; text-decoration-color: #000080\">Teardown called, cleaning up datasets...</span>\n",
       "</pre>\n"
      ],
      "text/plain": [
       "\u001b[34mTeardown called, cleaning up datasets\u001b[0m\u001b[34m...\u001b[0m\n"
      ]
     },
     "metadata": {},
     "output_type": "display_data"
    },
    {
     "data": {
      "image/png": "[encoded data removed]",
      "text/plain": [
       "<Figure size 640x480 with 1 Axes>"
      ]
     },
     "metadata": {},
     "output_type": "display_data"
    },
    {
     "name": "stderr",
     "output_type": "stream",
     "text": [
      "/tmp/ipykernel_124929/3363004638.py:6: UserWarning: FigureCanvasAgg is non-interactive, and thus cannot be shown\n",
      "  fig.show()\n"
     ]
    }
   ],
   "source": [
    "tuner = Tuner(trainer)\n",
    "lr_finder = tuner.lr_find(model, datamodule=data_module,\n",
    "                          min_lr=MIN_LR, max_lr=MAX_LR,\n",
    "                          num_training=100, early_stop_threshold=4)\n",
    "fig = lr_finder.plot(suggest=True, show=True)\n",
    "fig.show()"
   ]
  },
  {
   "cell_type": "markdown",
   "id": "e7fa5579",
   "metadata": {},
   "source": [
    "## **6. Train and Test Segmentation Model**"
   ]
  },
  {
   "cell_type": "code",
   "execution_count": 10,
   "id": "9e35cb8a",
   "metadata": {},
   "outputs": [
    {
     "data": {
      "text/html": [
       "<pre style=\"white-space:pre;overflow-x:auto;line-height:normal;font-family:Menlo,'DejaVu Sans Mono',consolas,'Courier New',monospace\"><span style=\"color: #008000; text-decoration-color: #008000\">Using existing split: ./data_splits/data_split_42_70_10.csv</span>\n",
       "</pre>\n"
      ],
      "text/plain": [
       "\u001b[32mUsing existing split: .\u001b[0m\u001b[32m/data_splits/\u001b[0m\u001b[32mdata_split_42_70_10.csv\u001b[0m\n"
      ]
     },
     "metadata": {},
     "output_type": "display_data"
    },
    {
     "name": "stderr",
     "output_type": "stream",
     "text": [
      "LOCAL_RANK: 0 - CUDA_VISIBLE_DEVICES: [0]\n",
      "Loading `train_dataloader` to estimate number of stepping batches.\n"
     ]
    },
    {
     "data": {
      "text/html": [
       "<pre style=\"white-space:pre;overflow-x:auto;line-height:normal;font-family:Menlo,'DejaVu Sans Mono',consolas,'Courier New',monospace\">┏━━━┳━━━━━━━━━━━━━━━━━━━━━━━━━┳━━━━━━━━━━━━━━━━━━━━━┳━━━━━━━━┳━━━━━━━┳━━━━━━━━━━━━━━━━━━━━━┳━━━━━━━━━━━━━━━━━━━━━━┓\n",
       "┃<span style=\"color: #800080; text-decoration-color: #800080; font-weight: bold\">   </span>┃<span style=\"color: #800080; text-decoration-color: #800080; font-weight: bold\"> Name                    </span>┃<span style=\"color: #800080; text-decoration-color: #800080; font-weight: bold\"> Type                </span>┃<span style=\"color: #800080; text-decoration-color: #800080; font-weight: bold\"> Params </span>┃<span style=\"color: #800080; text-decoration-color: #800080; font-weight: bold\"> Mode  </span>┃<span style=\"color: #800080; text-decoration-color: #800080; font-weight: bold\">            In sizes </span>┃<span style=\"color: #800080; text-decoration-color: #800080; font-weight: bold\">            Out sizes </span>┃\n",
       "┡━━━╇━━━━━━━━━━━━━━━━━━━━━━━━━╇━━━━━━━━━━━━━━━━━━━━━╇━━━━━━━━╇━━━━━━━╇━━━━━━━━━━━━━━━━━━━━━╇━━━━━━━━━━━━━━━━━━━━━━┩\n",
       "│<span style=\"color: #7f7f7f; text-decoration-color: #7f7f7f\"> 0 </span>│ model                   │ Unet                │ 31.2 M │ train │<span style=\"color: #c0c0c0; text-decoration-color: #c0c0c0\">    [1, 4, 384, 384] </span>│<span style=\"color: #c0c0c0; text-decoration-color: #c0c0c0\">     [1, 1, 384, 384] </span>│\n",
       "│<span style=\"color: #7f7f7f; text-decoration-color: #7f7f7f\"> 1 </span>│ model.encoder           │ EfficientNetEncoder │ 28.3 M │ train │<span style=\"color: #c0c0c0; text-decoration-color: #c0c0c0\">    [1, 4, 384, 384] </span>│<span style=\"color: #c0c0c0; text-decoration-color: #c0c0c0\">   [[1, 4, 384, 384], </span>│\n",
       "│<span style=\"color: #7f7f7f; text-decoration-color: #7f7f7f\">   </span>│                         │                     │        │       │<span style=\"color: #c0c0c0; text-decoration-color: #c0c0c0\">                     </span>│<span style=\"color: #c0c0c0; text-decoration-color: #c0c0c0\">   [1, 48, 192, 192], </span>│\n",
       "│<span style=\"color: #7f7f7f; text-decoration-color: #7f7f7f\">   </span>│                         │                     │        │       │<span style=\"color: #c0c0c0; text-decoration-color: #c0c0c0\">                     </span>│<span style=\"color: #c0c0c0; text-decoration-color: #c0c0c0\"> [1, 40, 96, 96], [1, </span>│\n",
       "│<span style=\"color: #7f7f7f; text-decoration-color: #7f7f7f\">   </span>│                         │                     │        │       │<span style=\"color: #c0c0c0; text-decoration-color: #c0c0c0\">                     </span>│<span style=\"color: #c0c0c0; text-decoration-color: #c0c0c0\">     64, 48, 48], [1, </span>│\n",
       "│<span style=\"color: #7f7f7f; text-decoration-color: #7f7f7f\">   </span>│                         │                     │        │       │<span style=\"color: #c0c0c0; text-decoration-color: #c0c0c0\">                     </span>│<span style=\"color: #c0c0c0; text-decoration-color: #c0c0c0\">    176, 24, 24], [1, </span>│\n",
       "│<span style=\"color: #7f7f7f; text-decoration-color: #7f7f7f\">   </span>│                         │                     │        │       │<span style=\"color: #c0c0c0; text-decoration-color: #c0c0c0\">                     </span>│<span style=\"color: #c0c0c0; text-decoration-color: #c0c0c0\">        512, 12, 12]] </span>│\n",
       "│<span style=\"color: #7f7f7f; text-decoration-color: #7f7f7f\"> 2 </span>│ model.decoder           │ UnetDecoder         │  2.9 M │ train │<span style=\"color: #c0c0c0; text-decoration-color: #c0c0c0\">  [[1, 4, 384, 384], </span>│<span style=\"color: #c0c0c0; text-decoration-color: #c0c0c0\">    [1, 16, 384, 384] </span>│\n",
       "│<span style=\"color: #7f7f7f; text-decoration-color: #7f7f7f\">   </span>│                         │                     │        │       │<span style=\"color: #c0c0c0; text-decoration-color: #c0c0c0\">  [1, 48, 192, 192], </span>│<span style=\"color: #c0c0c0; text-decoration-color: #c0c0c0\">                      </span>│\n",
       "│<span style=\"color: #7f7f7f; text-decoration-color: #7f7f7f\">   </span>│                         │                     │        │       │<span style=\"color: #c0c0c0; text-decoration-color: #c0c0c0\">    [1, 40, 96, 96], </span>│<span style=\"color: #c0c0c0; text-decoration-color: #c0c0c0\">                      </span>│\n",
       "│<span style=\"color: #7f7f7f; text-decoration-color: #7f7f7f\">   </span>│                         │                     │        │       │<span style=\"color: #c0c0c0; text-decoration-color: #c0c0c0\">    [1, 64, 48, 48], </span>│<span style=\"color: #c0c0c0; text-decoration-color: #c0c0c0\">                      </span>│\n",
       "│<span style=\"color: #7f7f7f; text-decoration-color: #7f7f7f\">   </span>│                         │                     │        │       │<span style=\"color: #c0c0c0; text-decoration-color: #c0c0c0\">   [1, 176, 24, 24], </span>│<span style=\"color: #c0c0c0; text-decoration-color: #c0c0c0\">                      </span>│\n",
       "│<span style=\"color: #7f7f7f; text-decoration-color: #7f7f7f\">   </span>│                         │                     │        │       │<span style=\"color: #c0c0c0; text-decoration-color: #c0c0c0\">   [1, 512, 12, 12]] </span>│<span style=\"color: #c0c0c0; text-decoration-color: #c0c0c0\">                      </span>│\n",
       "│<span style=\"color: #7f7f7f; text-decoration-color: #7f7f7f\"> 3 </span>│ model.segmentation_head │ SegmentationHead    │    145 │ train │<span style=\"color: #c0c0c0; text-decoration-color: #c0c0c0\">   [1, 16, 384, 384] </span>│<span style=\"color: #c0c0c0; text-decoration-color: #c0c0c0\">     [1, 1, 384, 384] </span>│\n",
       "│<span style=\"color: #7f7f7f; text-decoration-color: #7f7f7f\"> 4 </span>│ loss_fn1                │ JaccardLoss         │      0 │ train │<span style=\"color: #c0c0c0; text-decoration-color: #c0c0c0\">                   ? </span>│<span style=\"color: #c0c0c0; text-decoration-color: #c0c0c0\">                    ? </span>│\n",
       "│<span style=\"color: #7f7f7f; text-decoration-color: #7f7f7f\"> 5 </span>│ loss_fn2                │ FocalLoss           │      0 │ train │<span style=\"color: #c0c0c0; text-decoration-color: #c0c0c0\">                   ? </span>│<span style=\"color: #c0c0c0; text-decoration-color: #c0c0c0\">                    ? </span>│\n",
       "│<span style=\"color: #7f7f7f; text-decoration-color: #7f7f7f\"> 6 </span>│ _default_loss           │ DiceLoss            │      0 │ train │<span style=\"color: #c0c0c0; text-decoration-color: #c0c0c0\">                   ? </span>│<span style=\"color: #c0c0c0; text-decoration-color: #c0c0c0\">                    ? </span>│\n",
       "└───┴─────────────────────────┴─────────────────────┴────────┴───────┴─────────────────────┴──────────────────────┘\n",
       "</pre>\n"
      ],
      "text/plain": [
       "┏━━━┳━━━━━━━━━━━━━━━━━━━━━━━━━┳━━━━━━━━━━━━━━━━━━━━━┳━━━━━━━━┳━━━━━━━┳━━━━━━━━━━━━━━━━━━━━━┳━━━━━━━━━━━━━━━━━━━━━━┓\n",
       "┃\u001b[1;35m \u001b[0m\u001b[1;35m \u001b[0m\u001b[1;35m \u001b[0m┃\u001b[1;35m \u001b[0m\u001b[1;35mName                   \u001b[0m\u001b[1;35m \u001b[0m┃\u001b[1;35m \u001b[0m\u001b[1;35mType               \u001b[0m\u001b[1;35m \u001b[0m┃\u001b[1;35m \u001b[0m\u001b[1;35mParams\u001b[0m\u001b[1;35m \u001b[0m┃\u001b[1;35m \u001b[0m\u001b[1;35mMode \u001b[0m\u001b[1;35m \u001b[0m┃\u001b[1;35m \u001b[0m\u001b[1;35m           In sizes\u001b[0m\u001b[1;35m \u001b[0m┃\u001b[1;35m \u001b[0m\u001b[1;35m           Out sizes\u001b[0m\u001b[1;35m \u001b[0m┃\n",
       "┡━━━╇━━━━━━━━━━━━━━━━━━━━━━━━━╇━━━━━━━━━━━━━━━━━━━━━╇━━━━━━━━╇━━━━━━━╇━━━━━━━━━━━━━━━━━━━━━╇━━━━━━━━━━━━━━━━━━━━━━┩\n",
       "│\u001b[2m \u001b[0m\u001b[2m0\u001b[0m\u001b[2m \u001b[0m│ model                   │ Unet                │ 31.2 M │ train │\u001b[37m \u001b[0m\u001b[37m   [1, 4, 384, 384]\u001b[0m\u001b[37m \u001b[0m│\u001b[37m \u001b[0m\u001b[37m    [1, 1, 384, 384]\u001b[0m\u001b[37m \u001b[0m│\n",
       "│\u001b[2m \u001b[0m\u001b[2m1\u001b[0m\u001b[2m \u001b[0m│ model.encoder           │ EfficientNetEncoder │ 28.3 M │ train │\u001b[37m \u001b[0m\u001b[37m   [1, 4, 384, 384]\u001b[0m\u001b[37m \u001b[0m│\u001b[37m \u001b[0m\u001b[37m  [[1, 4, 384, 384],\u001b[0m\u001b[37m \u001b[0m│\n",
       "│\u001b[2m   \u001b[0m│                         │                     │        │       │\u001b[37m                     \u001b[0m│\u001b[37m \u001b[0m\u001b[37m  [1, 48, 192, 192],\u001b[0m\u001b[37m \u001b[0m│\n",
       "│\u001b[2m   \u001b[0m│                         │                     │        │       │\u001b[37m                     \u001b[0m│\u001b[37m \u001b[0m\u001b[37m[1, 40, 96, 96], [1,\u001b[0m\u001b[37m \u001b[0m│\n",
       "│\u001b[2m   \u001b[0m│                         │                     │        │       │\u001b[37m                     \u001b[0m│\u001b[37m \u001b[0m\u001b[37m    64, 48, 48], [1,\u001b[0m\u001b[37m \u001b[0m│\n",
       "│\u001b[2m   \u001b[0m│                         │                     │        │       │\u001b[37m                     \u001b[0m│\u001b[37m \u001b[0m\u001b[37m   176, 24, 24], [1,\u001b[0m\u001b[37m \u001b[0m│\n",
       "│\u001b[2m   \u001b[0m│                         │                     │        │       │\u001b[37m                     \u001b[0m│\u001b[37m \u001b[0m\u001b[37m       512, 12, 12]]\u001b[0m\u001b[37m \u001b[0m│\n",
       "│\u001b[2m \u001b[0m\u001b[2m2\u001b[0m\u001b[2m \u001b[0m│ model.decoder           │ UnetDecoder         │  2.9 M │ train │\u001b[37m \u001b[0m\u001b[37m [[1, 4, 384, 384],\u001b[0m\u001b[37m \u001b[0m│\u001b[37m \u001b[0m\u001b[37m   [1, 16, 384, 384]\u001b[0m\u001b[37m \u001b[0m│\n",
       "│\u001b[2m   \u001b[0m│                         │                     │        │       │\u001b[37m \u001b[0m\u001b[37m [1, 48, 192, 192],\u001b[0m\u001b[37m \u001b[0m│\u001b[37m                      \u001b[0m│\n",
       "│\u001b[2m   \u001b[0m│                         │                     │        │       │\u001b[37m \u001b[0m\u001b[37m   [1, 40, 96, 96],\u001b[0m\u001b[37m \u001b[0m│\u001b[37m                      \u001b[0m│\n",
       "│\u001b[2m   \u001b[0m│                         │                     │        │       │\u001b[37m \u001b[0m\u001b[37m   [1, 64, 48, 48],\u001b[0m\u001b[37m \u001b[0m│\u001b[37m                      \u001b[0m│\n",
       "│\u001b[2m   \u001b[0m│                         │                     │        │       │\u001b[37m \u001b[0m\u001b[37m  [1, 176, 24, 24],\u001b[0m\u001b[37m \u001b[0m│\u001b[37m                      \u001b[0m│\n",
       "│\u001b[2m   \u001b[0m│                         │                     │        │       │\u001b[37m \u001b[0m\u001b[37m  [1, 512, 12, 12]]\u001b[0m\u001b[37m \u001b[0m│\u001b[37m                      \u001b[0m│\n",
       "│\u001b[2m \u001b[0m\u001b[2m3\u001b[0m\u001b[2m \u001b[0m│ model.segmentation_head │ SegmentationHead    │    145 │ train │\u001b[37m \u001b[0m\u001b[37m  [1, 16, 384, 384]\u001b[0m\u001b[37m \u001b[0m│\u001b[37m \u001b[0m\u001b[37m    [1, 1, 384, 384]\u001b[0m\u001b[37m \u001b[0m│\n",
       "│\u001b[2m \u001b[0m\u001b[2m4\u001b[0m\u001b[2m \u001b[0m│ loss_fn1                │ JaccardLoss         │      0 │ train │\u001b[37m \u001b[0m\u001b[37m                  ?\u001b[0m\u001b[37m \u001b[0m│\u001b[37m \u001b[0m\u001b[37m                   ?\u001b[0m\u001b[37m \u001b[0m│\n",
       "│\u001b[2m \u001b[0m\u001b[2m5\u001b[0m\u001b[2m \u001b[0m│ loss_fn2                │ FocalLoss           │      0 │ train │\u001b[37m \u001b[0m\u001b[37m                  ?\u001b[0m\u001b[37m \u001b[0m│\u001b[37m \u001b[0m\u001b[37m                   ?\u001b[0m\u001b[37m \u001b[0m│\n",
       "│\u001b[2m \u001b[0m\u001b[2m6\u001b[0m\u001b[2m \u001b[0m│ _default_loss           │ DiceLoss            │      0 │ train │\u001b[37m \u001b[0m\u001b[37m                  ?\u001b[0m\u001b[37m \u001b[0m│\u001b[37m \u001b[0m\u001b[37m                   ?\u001b[0m\u001b[37m \u001b[0m│\n",
       "└───┴─────────────────────────┴─────────────────────┴────────┴───────┴─────────────────────┴──────────────────────┘\n"
      ]
     },
     "metadata": {},
     "output_type": "display_data"
    },
    {
     "data": {
      "text/html": [
       "<pre style=\"white-space:pre;overflow-x:auto;line-height:normal;font-family:Menlo,'DejaVu Sans Mono',consolas,'Courier New',monospace\"><span style=\"font-weight: bold\">Trainable params</span>: 31.2 M                                                                                           \n",
       "<span style=\"font-weight: bold\">Non-trainable params</span>: 0                                                                                            \n",
       "<span style=\"font-weight: bold\">Total params</span>: 31.2 M                                                                                               \n",
       "<span style=\"font-weight: bold\">Total estimated model params size (MB)</span>: 124                                                                        \n",
       "<span style=\"font-weight: bold\">Modules in train mode</span>: 670                                                                                         \n",
       "<span style=\"font-weight: bold\">Modules in eval mode</span>: 0                                                                                            \n",
       "</pre>\n"
      ],
      "text/plain": [
       "\u001b[1mTrainable params\u001b[0m: 31.2 M                                                                                           \n",
       "\u001b[1mNon-trainable params\u001b[0m: 0                                                                                            \n",
       "\u001b[1mTotal params\u001b[0m: 31.2 M                                                                                               \n",
       "\u001b[1mTotal estimated model params size (MB)\u001b[0m: 124                                                                        \n",
       "\u001b[1mModules in train mode\u001b[0m: 670                                                                                         \n",
       "\u001b[1mModules in eval mode\u001b[0m: 0                                                                                            \n"
      ]
     },
     "metadata": {},
     "output_type": "display_data"
    },
    {
     "data": {
      "application/vnd.jupyter.widget-view+json": {
       "model_id": "0a0dd611323f4a45ad1f22699fd9b104",
       "version_major": 2,
       "version_minor": 0
      },
      "text/plain": [
       "Output()"
      ]
     },
     "metadata": {},
     "output_type": "display_data"
    },
    {
     "name": "stderr",
     "output_type": "stream",
     "text": [
      "Metric per_image_iou/val improved. New best score: 0.044\n"
     ]
    },
    {
     "name": "stderr",
     "output_type": "stream",
     "text": [
      "Metric per_image_iou/val improved by 0.120 >= min_delta = 0.001. New best score: 0.164\n"
     ]
    },
    {
     "name": "stderr",
     "output_type": "stream",
     "text": [
      "Metric per_image_iou/val improved by 0.054 >= min_delta = 0.001. New best score: 0.219\n"
     ]
    },
    {
     "name": "stderr",
     "output_type": "stream",
     "text": [
      "Metric per_image_iou/val improved by 0.107 >= min_delta = 0.001. New best score: 0.326\n"
     ]
    },
    {
     "name": "stderr",
     "output_type": "stream",
     "text": [
      "Metric per_image_iou/val improved by 0.031 >= min_delta = 0.001. New best score: 0.357\n"
     ]
    },
    {
     "name": "stderr",
     "output_type": "stream",
     "text": [
      "Metric per_image_iou/val improved by 0.042 >= min_delta = 0.001. New best score: 0.399\n"
     ]
    },
    {
     "name": "stderr",
     "output_type": "stream",
     "text": [
      "Metric per_image_iou/val improved by 0.002 >= min_delta = 0.001. New best score: 0.401\n"
     ]
    },
    {
     "name": "stderr",
     "output_type": "stream",
     "text": [
      "Metric per_image_iou/val improved by 0.018 >= min_delta = 0.001. New best score: 0.419\n"
     ]
    },
    {
     "name": "stderr",
     "output_type": "stream",
     "text": [
      "Metric per_image_iou/val improved by 0.002 >= min_delta = 0.001. New best score: 0.420\n"
     ]
    },
    {
     "name": "stderr",
     "output_type": "stream",
     "text": [
      "Metric per_image_iou/val improved by 0.009 >= min_delta = 0.001. New best score: 0.429\n"
     ]
    },
    {
     "name": "stderr",
     "output_type": "stream",
     "text": [
      "Metric per_image_iou/val improved by 0.012 >= min_delta = 0.001. New best score: 0.441\n"
     ]
    },
    {
     "name": "stderr",
     "output_type": "stream",
     "text": [
      "Metric per_image_iou/val improved by 0.007 >= min_delta = 0.001. New best score: 0.448\n"
     ]
    },
    {
     "name": "stderr",
     "output_type": "stream",
     "text": [
      "Metric per_image_iou/val improved by 0.008 >= min_delta = 0.001. New best score: 0.457\n"
     ]
    },
    {
     "name": "stderr",
     "output_type": "stream",
     "text": [
      "Metric per_image_iou/val improved by 0.005 >= min_delta = 0.001. New best score: 0.462\n"
     ]
    },
    {
     "name": "stderr",
     "output_type": "stream",
     "text": [
      "Metric per_image_iou/val improved by 0.002 >= min_delta = 0.001. New best score: 0.464\n"
     ]
    },
    {
     "name": "stderr",
     "output_type": "stream",
     "text": [
      "`Trainer.fit` stopped: `max_epochs=100` reached.\n"
     ]
    },
    {
     "data": {
      "text/html": [
       "<pre style=\"white-space:pre;overflow-x:auto;line-height:normal;font-family:Menlo,'DejaVu Sans Mono',consolas,'Courier New',monospace\"><span style=\"color: #000080; text-decoration-color: #000080\">Teardown called, cleaning up datasets...</span>\n",
       "</pre>\n"
      ],
      "text/plain": [
       "\u001b[34mTeardown called, cleaning up datasets\u001b[0m\u001b[34m...\u001b[0m\n"
      ]
     },
     "metadata": {},
     "output_type": "display_data"
    },
    {
     "data": {
      "text/html": [
       "<pre style=\"white-space:pre;overflow-x:auto;line-height:normal;font-family:Menlo,'DejaVu Sans Mono',consolas,'Courier New',monospace\"></pre>\n"
      ],
      "text/plain": []
     },
     "metadata": {},
     "output_type": "display_data"
    },
    {
     "name": "stdout",
     "output_type": "stream",
     "text": [
      "Training starting time:  15792.095966052\n",
      "Time elapsed:  857.0750613149994\n"
     ]
    }
   ],
   "source": [
    "trainer.fit(model, datamodule=data_module)\n",
    "print(\"Training starting time: \", timer.start_time(\"train\"))\n",
    "print(\"Time elapsed: \", timer.time_elapsed(\"train\"))"
   ]
  },
  {
   "cell_type": "code",
   "execution_count": 11,
   "id": "67dfcd4e",
   "metadata": {},
   "outputs": [
    {
     "data": {
      "text/html": [
       "<pre style=\"white-space:pre;overflow-x:auto;line-height:normal;font-family:Menlo,'DejaVu Sans Mono',consolas,'Courier New',monospace\"><span style=\"color: #008000; text-decoration-color: #008000\">Using existing split: ./data_splits/data_split_42_70_10.csv</span>\n",
       "</pre>\n"
      ],
      "text/plain": [
       "\u001b[32mUsing existing split: .\u001b[0m\u001b[32m/data_splits/\u001b[0m\u001b[32mdata_split_42_70_10.csv\u001b[0m\n"
      ]
     },
     "metadata": {},
     "output_type": "display_data"
    },
    {
     "name": "stderr",
     "output_type": "stream",
     "text": [
      "Restoring states from the checkpoint path at /home/leo/unsw/comp9517/CV9517_Group-Project/notebooks/checkpoints/Unet_efficientnet-b5_merged_384/merged_384/epoch=83-per_image_iou_val=0.4640.ckpt\n",
      "LOCAL_RANK: 0 - CUDA_VISIBLE_DEVICES: [0]\n",
      "Loaded model weights from the checkpoint at /home/leo/unsw/comp9517/CV9517_Group-Project/notebooks/checkpoints/Unet_efficientnet-b5_merged_384/merged_384/epoch=83-per_image_iou_val=0.4640.ckpt\n"
     ]
    },
    {
     "data": {
      "application/vnd.jupyter.widget-view+json": {
       "model_id": "88cdc2b55448441fbf438a7082579b9a",
       "version_major": 2,
       "version_minor": 0
      },
      "text/plain": [
       "Output()"
      ]
     },
     "metadata": {},
     "output_type": "display_data"
    },
    {
     "data": {
      "text/html": [
       "<pre style=\"white-space:pre;overflow-x:auto;line-height:normal;font-family:Menlo,'DejaVu Sans Mono',consolas,'Courier New',monospace\">┏━━━━━━━━━━━━━━━━━━━━━━━━━━━┳━━━━━━━━━━━━━━━━━━━━━━━━━━━┓\n",
       "┃<span style=\"font-weight: bold\">        Test metric        </span>┃<span style=\"font-weight: bold\">       DataLoader 0        </span>┃\n",
       "┡━━━━━━━━━━━━━━━━━━━━━━━━━━━╇━━━━━━━━━━━━━━━━━━━━━━━━━━━┩\n",
       "│<span style=\"color: #008080; text-decoration-color: #008080\">       accuracy/test       </span>│<span style=\"color: #800080; text-decoration-color: #800080\">    0.9849011301994324     </span>│\n",
       "│<span style=\"color: #008080; text-decoration-color: #008080\">     dataset_iou/test      </span>│<span style=\"color: #800080; text-decoration-color: #800080\">    0.4971369206905365     </span>│\n",
       "│<span style=\"color: #008080; text-decoration-color: #008080\">       f1_score/test       </span>│<span style=\"color: #800080; text-decoration-color: #800080\">    0.6313587427139282     </span>│\n",
       "│<span style=\"color: #008080; text-decoration-color: #008080\">       f2_score/test       </span>│<span style=\"color: #800080; text-decoration-color: #800080\">    0.6533323526382446     </span>│\n",
       "│<span style=\"color: #008080; text-decoration-color: #008080\">    per_image_iou/test     </span>│<span style=\"color: #800080; text-decoration-color: #800080\">    0.48180946707725525    </span>│\n",
       "│<span style=\"color: #008080; text-decoration-color: #008080\">      precision/test       </span>│<span style=\"color: #800080; text-decoration-color: #800080\">    0.6290985345840454     </span>│\n",
       "│<span style=\"color: #008080; text-decoration-color: #008080\">        recall/test        </span>│<span style=\"color: #800080; text-decoration-color: #800080\">    0.6782339215278625     </span>│\n",
       "│<span style=\"color: #008080; text-decoration-color: #008080\">     sensitivity/test      </span>│<span style=\"color: #800080; text-decoration-color: #800080\">    0.6782339215278625     </span>│\n",
       "│<span style=\"color: #008080; text-decoration-color: #008080\">     specificity/test      </span>│<span style=\"color: #800080; text-decoration-color: #800080\">     0.992051899433136     </span>│\n",
       "└───────────────────────────┴───────────────────────────┘\n",
       "</pre>\n"
      ],
      "text/plain": [
       "┏━━━━━━━━━━━━━━━━━━━━━━━━━━━┳━━━━━━━━━━━━━━━━━━━━━━━━━━━┓\n",
       "┃\u001b[1m \u001b[0m\u001b[1m       Test metric       \u001b[0m\u001b[1m \u001b[0m┃\u001b[1m \u001b[0m\u001b[1m      DataLoader 0       \u001b[0m\u001b[1m \u001b[0m┃\n",
       "┡━━━━━━━━━━━━━━━━━━━━━━━━━━━╇━━━━━━━━━━━━━━━━━━━━━━━━━━━┩\n",
       "│\u001b[36m \u001b[0m\u001b[36m      accuracy/test      \u001b[0m\u001b[36m \u001b[0m│\u001b[35m \u001b[0m\u001b[35m   0.9849011301994324    \u001b[0m\u001b[35m \u001b[0m│\n",
       "│\u001b[36m \u001b[0m\u001b[36m    dataset_iou/test     \u001b[0m\u001b[36m \u001b[0m│\u001b[35m \u001b[0m\u001b[35m   0.4971369206905365    \u001b[0m\u001b[35m \u001b[0m│\n",
       "│\u001b[36m \u001b[0m\u001b[36m      f1_score/test      \u001b[0m\u001b[36m \u001b[0m│\u001b[35m \u001b[0m\u001b[35m   0.6313587427139282    \u001b[0m\u001b[35m \u001b[0m│\n",
       "│\u001b[36m \u001b[0m\u001b[36m      f2_score/test      \u001b[0m\u001b[36m \u001b[0m│\u001b[35m \u001b[0m\u001b[35m   0.6533323526382446    \u001b[0m\u001b[35m \u001b[0m│\n",
       "│\u001b[36m \u001b[0m\u001b[36m   per_image_iou/test    \u001b[0m\u001b[36m \u001b[0m│\u001b[35m \u001b[0m\u001b[35m   0.48180946707725525   \u001b[0m\u001b[35m \u001b[0m│\n",
       "│\u001b[36m \u001b[0m\u001b[36m     precision/test      \u001b[0m\u001b[36m \u001b[0m│\u001b[35m \u001b[0m\u001b[35m   0.6290985345840454    \u001b[0m\u001b[35m \u001b[0m│\n",
       "│\u001b[36m \u001b[0m\u001b[36m       recall/test       \u001b[0m\u001b[36m \u001b[0m│\u001b[35m \u001b[0m\u001b[35m   0.6782339215278625    \u001b[0m\u001b[35m \u001b[0m│\n",
       "│\u001b[36m \u001b[0m\u001b[36m    sensitivity/test     \u001b[0m\u001b[36m \u001b[0m│\u001b[35m \u001b[0m\u001b[35m   0.6782339215278625    \u001b[0m\u001b[35m \u001b[0m│\n",
       "│\u001b[36m \u001b[0m\u001b[36m    specificity/test     \u001b[0m\u001b[36m \u001b[0m│\u001b[35m \u001b[0m\u001b[35m    0.992051899433136    \u001b[0m\u001b[35m \u001b[0m│\n",
       "└───────────────────────────┴───────────────────────────┘\n"
      ]
     },
     "metadata": {},
     "output_type": "display_data"
    },
    {
     "data": {
      "text/html": [
       "<pre style=\"white-space:pre;overflow-x:auto;line-height:normal;font-family:Menlo,'DejaVu Sans Mono',consolas,'Courier New',monospace\"><span style=\"color: #000080; text-decoration-color: #000080\">Teardown called, cleaning up datasets...</span>\n",
       "</pre>\n"
      ],
      "text/plain": [
       "\u001b[34mTeardown called, cleaning up datasets\u001b[0m\u001b[34m...\u001b[0m\n"
      ]
     },
     "metadata": {},
     "output_type": "display_data"
    },
    {
     "data": {
      "text/html": [
       "<pre style=\"white-space:pre;overflow-x:auto;line-height:normal;font-family:Menlo,'DejaVu Sans Mono',consolas,'Courier New',monospace\"></pre>\n"
      ],
      "text/plain": []
     },
     "metadata": {},
     "output_type": "display_data"
    },
    {
     "name": "stdout",
     "output_type": "stream",
     "text": [
      "Time elapsed:  2.5615559389989357\n"
     ]
    }
   ],
   "source": [
    "test_results = trainer.test(model, datamodule=data_module, ckpt_path=\"best\")\n",
    "print(\"Time elapsed: \", timer.time_elapsed(\"test\"))"
   ]
  }
 ],
 "metadata": {
  "kernelspec": {
   "display_name": "CVers",
   "language": "python",
   "name": "python3"
  },
  "language_info": {
   "codemirror_mode": {
    "name": "ipython",
    "version": 3
   },
   "file_extension": ".py",
   "mimetype": "text/x-python",
   "name": "python",
   "nbconvert_exporter": "python",
   "pygments_lexer": "ipython3",
   "version": "3.11.9"
  }
 },
 "nbformat": 4,
 "nbformat_minor": 5
}
