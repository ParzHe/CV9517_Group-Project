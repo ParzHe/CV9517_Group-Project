{
 "cells": [
  {
   "cell_type": "markdown",
   "id": "eefe3629",
   "metadata": {},
   "source": [
    "# **COMP9517 - Group Project (Segmentation Models Pytorch)**"
   ]
  },
  {
   "cell_type": "markdown",
   "id": "bb76af11",
   "metadata": {},
   "source": [
    "## **0. Add Imports**"
   ]
  },
  {
   "cell_type": "code",
   "execution_count": 1,
   "id": "16f037ca",
   "metadata": {},
   "outputs": [],
   "source": [
    "# !conda env create -f environment.yaml"
   ]
  },
  {
   "cell_type": "code",
   "execution_count": null,
   "id": "45474d93",
   "metadata": {},
   "outputs": [],
   "source": [
    "import os\n",
    "import sys\n",
    "sys.path.append(os.path.join(os.getcwd(), \"..\"))\n",
    "\n",
    "import lightning as L\n",
    "from lightning.pytorch.callbacks import ModelCheckpoint, LearningRateMonitor, EarlyStopping, RichModelSummary, StochasticWeightAveraging, Timer\n",
    "from lightning.pytorch.loggers import TensorBoardLogger, WandbLogger\n",
    "\n",
    "from data import AerialDeadTreeSegDataModule, download_dataset\n",
    "from lightning.pytorch.tuner import Tuner\n",
    "from lightning_modules import SMPLitModule\n",
    "from models import FreezeSMPEncoderUtils\n",
    "from utils import paths\n",
    "import segmentation_models_pytorch as smp\n"
   ]
  },
  {
   "cell_type": "code",
   "execution_count": 3,
   "id": "6bfcd838",
   "metadata": {},
   "outputs": [],
   "source": [
    "ARCH = \"UNet\"\n",
    "ENCODER_NAME = \"resnet50\"\n",
    "VERSION = \"swa_test\"\n",
    "TARGET_SIZE = 256\n",
    "BATCH_SIZE = 32\n",
    "MAX_EPOCHS = 100\n",
    "EARLY_STOPPING_PATIENCE = 15\n",
    "LOSS1 = smp.losses.JaccardLoss(mode='binary', from_logits=True)\n",
    "LOSS2 = smp.losses.FocalLoss(mode='binary')"
   ]
  },
  {
   "cell_type": "markdown",
   "id": "bfbd7cde",
   "metadata": {},
   "source": [
    "## **1. Simple Summary of the Dattaset**"
   ]
  },
  {
   "cell_type": "code",
   "execution_count": 4,
   "id": "8ed9f2b4",
   "metadata": {},
   "outputs": [
    {
     "name": "stdout",
     "output_type": "stream",
     "text": [
      "Max RGB resolution: (652, 636), Min RGB resolution: (317, 294)\n",
      "Max NRG resolution: (652, 636), Min NRG resolution: (317, 294)\n"
     ]
    }
   ],
   "source": [
    "from PIL import Image\n",
    "# Get the data folder\n",
    "data_folder = download_dataset()\n",
    "\n",
    "rgb_dir = os.path.join(data_folder, \"RGB_images\")\n",
    "nrg_dir = os.path.join(data_folder, \"NRG_images\")\n",
    "mask_dir = os.path.join(data_folder, \"masks\")\n",
    "\n",
    "# Get the max and min resolution of the images\n",
    "def get_max_min_resolution(image_dir):\n",
    "    max_res = (0, 0)\n",
    "    min_res = (float('inf'), float('inf'))\n",
    "    for filename in os.listdir(image_dir):\n",
    "        if filename.endswith(\".png\"):\n",
    "            filepath = os.path.join(image_dir, filename)\n",
    "            with open(filepath, 'rb') as f:\n",
    "                img = Image.open(f)\n",
    "                height, width = img.size\n",
    "                max_res = (max(max_res[0], height), max(max_res[1], width))\n",
    "                min_res = (min(min_res[0], height), min(min_res[1], width))\n",
    "    return max_res, min_res\n",
    "max_rgb_res, min_rgb_res = get_max_min_resolution(rgb_dir)\n",
    "max_nrg_res, min_nrg_res = get_max_min_resolution(nrg_dir)\n",
    "print(f\"Max RGB resolution: {max_rgb_res}, Min RGB resolution: {min_rgb_res}\")\n",
    "print(f\"Max NRG resolution: {max_nrg_res}, Min NRG resolution: {min_nrg_res}\")"
   ]
  },
  {
   "cell_type": "markdown",
   "id": "b7db092b",
   "metadata": {},
   "source": [
    "## **2. Prepare Data Module**"
   ]
  },
  {
   "cell_type": "code",
   "execution_count": 5,
   "id": "2df12677",
   "metadata": {},
   "outputs": [],
   "source": [
    "data_module = AerialDeadTreeSegDataModule(\n",
    "    val_split=0.1, test_split=0.2, seed=42,\n",
    "    modality=\"merged\", # in_channels=4. If modality is \"merged\", it will use 4 channels (RGB + NIR); Otherwise, it will use 3 channels (RGB).\n",
    "    batch_size=BATCH_SIZE,\n",
    "    num_workers= int(os.cpu_count() / 2) if os.cpu_count() is not None else 0,\n",
    "    target_size=TARGET_SIZE)"
   ]
  },
  {
   "cell_type": "markdown",
   "id": "525ec884",
   "metadata": {},
   "source": [
    "## **3. Create Segmentation Models**"
   ]
  },
  {
   "cell_type": "code",
   "execution_count": 6,
   "id": "03d1d709",
   "metadata": {},
   "outputs": [],
   "source": [
    "model = SMPLitModule(\n",
    "    arch=ARCH,\n",
    "    encoder_name=ENCODER_NAME,\n",
    "    encoder_weights=\"imagenet\",\n",
    "    in_channels=data_module.in_channels,\n",
    "    out_classes=1,  # Binary segmentation\n",
    "    loss1=LOSS1,\n",
    "    loss2=LOSS2,\n",
    ")"
   ]
  },
  {
   "cell_type": "markdown",
   "id": "4b1266e6",
   "metadata": {},
   "source": [
    "## **4. Create Trainer**"
   ]
  },
  {
   "cell_type": "code",
   "execution_count": null,
   "id": "fa07a5a9",
   "metadata": {},
   "outputs": [],
   "source": [
    "model_sum_callback = RichModelSummary(max_depth=2)\n",
    "\n",
    "lr_monitor = LearningRateMonitor(logging_interval='step')\n",
    "\n",
    "early_stop_callback = EarlyStopping(\n",
    "    monitor=\"per_image_iou/val\",\n",
    "    patience=EARLY_STOPPING_PATIENCE,\n",
    "    verbose=True,\n",
    "    mode=\"max\"  # Maximize the metric\n",
    ")\n",
    "\n",
    "timer = Timer(interval=\"epoch\", verbose=False)\n",
    "                \n",
    "checkpoint_callback = ModelCheckpoint(\n",
    "    dirpath=os.path.join(paths.checkpoint_dir, f\"smp_{ENCODER_NAME}_{ARCH}\", VERSION),\n",
    "    monitor=\"per_image_iou/val\",\n",
    "    filename=\"{epoch:02d}-{per_image_iou_val:.4f}\",\n",
    "    mode=\"max\",\n",
    "    save_top_k=3,\n",
    "    enable_version_counter=True,\n",
    ")"
   ]
  },
  {
   "cell_type": "code",
   "execution_count": null,
   "id": "8744c046",
   "metadata": {},
   "outputs": [
    {
     "name": "stderr",
     "output_type": "stream",
     "text": [
      "Trainer already configured with model summary callbacks: [<class 'lightning.pytorch.callbacks.rich_model_summary.RichModelSummary'>]. Skipping setting a default `ModelSummary` callback.\n",
      "GPU available: True (cuda), used: True\n",
      "TPU available: False, using: 0 TPU cores\n",
      "HPU available: False, using: 0 HPUs\n"
     ]
    }
   ],
   "source": [
    "logger = TensorBoardLogger(paths.tensorboard_log_dir, name=f\"smp_{ENCODER_NAME}_{ARCH}\", version=VERSION)\n",
    "trainer = L.Trainer(\n",
    "    max_epochs=MAX_EPOCHS,\n",
    "    enable_progress_bar=True,\n",
    "    logger=logger,\n",
    "    callbacks=[\n",
    "        model_sum_callback,\n",
    "        lr_monitor,\n",
    "        early_stop_callback,\n",
    "        timer,\n",
    "        checkpoint_callback\n",
    "    ],\n",
    "    log_every_n_steps=5,\n",
    ")"
   ]
  },
  {
   "cell_type": "markdown",
   "id": "2eb89776",
   "metadata": {},
   "source": [
    "## **5. Find Suggested Learning Rate**"
   ]
  },
  {
   "cell_type": "code",
   "execution_count": 9,
   "id": "497bc6a9",
   "metadata": {},
   "outputs": [
    {
     "name": "stderr",
     "output_type": "stream",
     "text": [
      "You are using a CUDA device ('NVIDIA GeForce RTX 3090') that has Tensor Cores. To properly utilize them, you should set `torch.set_float32_matmul_precision('medium' | 'high')` which will trade-off precision for performance. For more details, read https://pytorch.org/docs/stable/generated/torch.set_float32_matmul_precision.html#torch.set_float32_matmul_precision\n"
     ]
    },
    {
     "data": {
      "text/html": [
       "<pre style=\"white-space:pre;overflow-x:auto;line-height:normal;font-family:Menlo,'DejaVu Sans Mono',consolas,'Courier New',monospace\"><span style=\"color: #008000; text-decoration-color: #008000\">Using existing split: ./data_splits/data_split_42_70_10.csv</span>\n",
       "</pre>\n"
      ],
      "text/plain": [
       "\u001b[32mUsing existing split: .\u001b[0m\u001b[32m/data_splits/\u001b[0m\u001b[32mdata_split_42_70_10.csv\u001b[0m\n"
      ]
     },
     "metadata": {},
     "output_type": "display_data"
    },
    {
     "name": "stderr",
     "output_type": "stream",
     "text": [
      "LOCAL_RANK: 0 - CUDA_VISIBLE_DEVICES: [0]\n",
      "Loading `train_dataloader` to estimate number of stepping batches.\n"
     ]
    },
    {
     "data": {
      "application/vnd.jupyter.widget-view+json": {
       "model_id": "17e155c918f14b9c91a44c51e28177a0",
       "version_major": 2,
       "version_minor": 0
      },
      "text/plain": [
       "Finding best initial lr:   0%|          | 0/100 [00:00<?, ?it/s]"
      ]
     },
     "metadata": {},
     "output_type": "display_data"
    },
    {
     "name": "stderr",
     "output_type": "stream",
     "text": [
      "`Trainer.fit` stopped: `max_steps=100` reached.\n",
      "Learning rate set to 0.09120108393559097\n",
      "Restoring states from the checkpoint path at /home/leo/unsw/comp9517/CV9517_Group-Project/notebooks/.lr_find_f66c934f-a097-4a01-b554-4ed22806d2f6.ckpt\n",
      "Restored all states from the checkpoint at /home/leo/unsw/comp9517/CV9517_Group-Project/notebooks/.lr_find_f66c934f-a097-4a01-b554-4ed22806d2f6.ckpt\n"
     ]
    },
    {
     "data": {
      "text/html": [
       "<pre style=\"white-space:pre;overflow-x:auto;line-height:normal;font-family:Menlo,'DejaVu Sans Mono',consolas,'Courier New',monospace\"><span style=\"color: #000080; text-decoration-color: #000080\">Teardown called, cleaning up datasets...</span>\n",
       "</pre>\n"
      ],
      "text/plain": [
       "\u001b[34mTeardown called, cleaning up datasets\u001b[0m\u001b[34m...\u001b[0m\n"
      ]
     },
     "metadata": {},
     "output_type": "display_data"
    },
    {
     "data": {
      "image/png": "[encoded data removed]",
      "text/plain": [
       "<Figure size 640x480 with 1 Axes>"
      ]
     },
     "metadata": {},
     "output_type": "display_data"
    },
    {
     "name": "stderr",
     "output_type": "stream",
     "text": [
      "/tmp/ipykernel_2165021/1558274056.py:6: UserWarning: FigureCanvasAgg is non-interactive, and thus cannot be shown\n",
      "  fig.show()\n"
     ]
    }
   ],
   "source": [
    "tuner = Tuner(trainer)\n",
    "lr_finder = tuner.lr_find(model, datamodule=data_module,\n",
    "                          min_lr=1e-5, max_lr= 0.1,\n",
    "                          num_training=100, early_stop_threshold=4)\n",
    "fig = lr_finder.plot(suggest=True, show=True)\n",
    "fig.show()"
   ]
  },
  {
   "cell_type": "code",
   "execution_count": 10,
   "id": "e6d2d7a3",
   "metadata": {},
   "outputs": [
    {
     "name": "stdout",
     "output_type": "stream",
     "text": [
      "Original suggested learning rate: 0.09120108393559097\n",
      "Rounded suggested learning rate: 0.09\n"
     ]
    }
   ],
   "source": [
    "import math\n",
    "suggested_lr = lr_finder.suggestion()\n",
    "print(f\"Original suggested learning rate: {suggested_lr}\")\n",
    "\n",
    "# Round the suggested learning rate to 1 significant digit\n",
    "magnitude =  10 ** (math.floor(math.log10(suggested_lr)))\n",
    "suggested_lr = round(suggested_lr / magnitude) * magnitude\n",
    "\n",
    "print(f\"Rounded suggested learning rate: {suggested_lr}\")"
   ]
  },
  {
   "cell_type": "code",
   "execution_count": 11,
   "id": "d0d37323",
   "metadata": {},
   "outputs": [],
   "source": [
    "swa_callback = StochasticWeightAveraging(swa_lrs=suggested_lr, swa_epoch_start=0.6, annealing_epochs=15)\n",
    "trainer.callbacks.append(swa_callback)"
   ]
  },
  {
   "cell_type": "markdown",
   "id": "e7fa5579",
   "metadata": {},
   "source": [
    "## **6. Train and Test Segmentation Model**"
   ]
  },
  {
   "cell_type": "code",
   "execution_count": 12,
   "id": "9e35cb8a",
   "metadata": {},
   "outputs": [
    {
     "data": {
      "text/html": [
       "<pre style=\"white-space:pre;overflow-x:auto;line-height:normal;font-family:Menlo,'DejaVu Sans Mono',consolas,'Courier New',monospace\"><span style=\"color: #008000; text-decoration-color: #008000\">Using existing split: ./data_splits/data_split_42_70_10.csv</span>\n",
       "</pre>\n"
      ],
      "text/plain": [
       "\u001b[32mUsing existing split: .\u001b[0m\u001b[32m/data_splits/\u001b[0m\u001b[32mdata_split_42_70_10.csv\u001b[0m\n"
      ]
     },
     "metadata": {},
     "output_type": "display_data"
    },
    {
     "name": "stderr",
     "output_type": "stream",
     "text": [
      "LOCAL_RANK: 0 - CUDA_VISIBLE_DEVICES: [0]\n",
      "Loading `train_dataloader` to estimate number of stepping batches.\n"
     ]
    },
    {
     "data": {
      "text/html": [
       "<pre style=\"white-space:pre;overflow-x:auto;line-height:normal;font-family:Menlo,'DejaVu Sans Mono',consolas,'Courier New',monospace\">┏━━━┳━━━━━━━━━━━━━━━━━━━━━━━━━┳━━━━━━━━━━━━━━━━━━┳━━━━━━━━┳━━━━━━━┓\n",
       "┃<span style=\"color: #800080; text-decoration-color: #800080; font-weight: bold\">   </span>┃<span style=\"color: #800080; text-decoration-color: #800080; font-weight: bold\"> Name                    </span>┃<span style=\"color: #800080; text-decoration-color: #800080; font-weight: bold\"> Type             </span>┃<span style=\"color: #800080; text-decoration-color: #800080; font-weight: bold\"> Params </span>┃<span style=\"color: #800080; text-decoration-color: #800080; font-weight: bold\"> Mode  </span>┃\n",
       "┡━━━╇━━━━━━━━━━━━━━━━━━━━━━━━━╇━━━━━━━━━━━━━━━━━━╇━━━━━━━━╇━━━━━━━┩\n",
       "│<span style=\"color: #7f7f7f; text-decoration-color: #7f7f7f\"> 0 </span>│ model                   │ Unet             │ 32.5 M │ train │\n",
       "│<span style=\"color: #7f7f7f; text-decoration-color: #7f7f7f\"> 1 </span>│ model.encoder           │ ResNetEncoder    │ 23.5 M │ train │\n",
       "│<span style=\"color: #7f7f7f; text-decoration-color: #7f7f7f\"> 2 </span>│ model.decoder           │ UnetDecoder      │  9.0 M │ train │\n",
       "│<span style=\"color: #7f7f7f; text-decoration-color: #7f7f7f\"> 3 </span>│ model.segmentation_head │ SegmentationHead │    145 │ train │\n",
       "│<span style=\"color: #7f7f7f; text-decoration-color: #7f7f7f\"> 4 </span>│ loss_fn1                │ JaccardLoss      │      0 │ train │\n",
       "│<span style=\"color: #7f7f7f; text-decoration-color: #7f7f7f\"> 5 </span>│ loss_fn2                │ FocalLoss        │      0 │ train │\n",
       "│<span style=\"color: #7f7f7f; text-decoration-color: #7f7f7f\"> 6 </span>│ _default_loss           │ DiceLoss         │      0 │ train │\n",
       "└───┴─────────────────────────┴──────────────────┴────────┴───────┘\n",
       "</pre>\n"
      ],
      "text/plain": [
       "┏━━━┳━━━━━━━━━━━━━━━━━━━━━━━━━┳━━━━━━━━━━━━━━━━━━┳━━━━━━━━┳━━━━━━━┓\n",
       "┃\u001b[1;35m \u001b[0m\u001b[1;35m \u001b[0m\u001b[1;35m \u001b[0m┃\u001b[1;35m \u001b[0m\u001b[1;35mName                   \u001b[0m\u001b[1;35m \u001b[0m┃\u001b[1;35m \u001b[0m\u001b[1;35mType            \u001b[0m\u001b[1;35m \u001b[0m┃\u001b[1;35m \u001b[0m\u001b[1;35mParams\u001b[0m\u001b[1;35m \u001b[0m┃\u001b[1;35m \u001b[0m\u001b[1;35mMode \u001b[0m\u001b[1;35m \u001b[0m┃\n",
       "┡━━━╇━━━━━━━━━━━━━━━━━━━━━━━━━╇━━━━━━━━━━━━━━━━━━╇━━━━━━━━╇━━━━━━━┩\n",
       "│\u001b[2m \u001b[0m\u001b[2m0\u001b[0m\u001b[2m \u001b[0m│ model                   │ Unet             │ 32.5 M │ train │\n",
       "│\u001b[2m \u001b[0m\u001b[2m1\u001b[0m\u001b[2m \u001b[0m│ model.encoder           │ ResNetEncoder    │ 23.5 M │ train │\n",
       "│\u001b[2m \u001b[0m\u001b[2m2\u001b[0m\u001b[2m \u001b[0m│ model.decoder           │ UnetDecoder      │  9.0 M │ train │\n",
       "│\u001b[2m \u001b[0m\u001b[2m3\u001b[0m\u001b[2m \u001b[0m│ model.segmentation_head │ SegmentationHead │    145 │ train │\n",
       "│\u001b[2m \u001b[0m\u001b[2m4\u001b[0m\u001b[2m \u001b[0m│ loss_fn1                │ JaccardLoss      │      0 │ train │\n",
       "│\u001b[2m \u001b[0m\u001b[2m5\u001b[0m\u001b[2m \u001b[0m│ loss_fn2                │ FocalLoss        │      0 │ train │\n",
       "│\u001b[2m \u001b[0m\u001b[2m6\u001b[0m\u001b[2m \u001b[0m│ _default_loss           │ DiceLoss         │      0 │ train │\n",
       "└───┴─────────────────────────┴──────────────────┴────────┴───────┘\n"
      ]
     },
     "metadata": {},
     "output_type": "display_data"
    },
    {
     "data": {
      "text/html": [
       "<pre style=\"white-space:pre;overflow-x:auto;line-height:normal;font-family:Menlo,'DejaVu Sans Mono',consolas,'Courier New',monospace\"><span style=\"font-weight: bold\">Trainable params</span>: 32.5 M                                                                                           \n",
       "<span style=\"font-weight: bold\">Non-trainable params</span>: 0                                                                                            \n",
       "<span style=\"font-weight: bold\">Total params</span>: 32.5 M                                                                                               \n",
       "<span style=\"font-weight: bold\">Total estimated model params size (MB)</span>: 130                                                                        \n",
       "<span style=\"font-weight: bold\">Modules in train mode</span>: 226                                                                                         \n",
       "<span style=\"font-weight: bold\">Modules in eval mode</span>: 0                                                                                            \n",
       "</pre>\n"
      ],
      "text/plain": [
       "\u001b[1mTrainable params\u001b[0m: 32.5 M                                                                                           \n",
       "\u001b[1mNon-trainable params\u001b[0m: 0                                                                                            \n",
       "\u001b[1mTotal params\u001b[0m: 32.5 M                                                                                               \n",
       "\u001b[1mTotal estimated model params size (MB)\u001b[0m: 130                                                                        \n",
       "\u001b[1mModules in train mode\u001b[0m: 226                                                                                         \n",
       "\u001b[1mModules in eval mode\u001b[0m: 0                                                                                            \n"
      ]
     },
     "metadata": {},
     "output_type": "display_data"
    },
    {
     "data": {
      "application/vnd.jupyter.widget-view+json": {
       "model_id": "811bae52a0a847e798babb805fe69998",
       "version_major": 2,
       "version_minor": 0
      },
      "text/plain": [
       "Output()"
      ]
     },
     "metadata": {},
     "output_type": "display_data"
    },
    {
     "name": "stderr",
     "output_type": "stream",
     "text": [
      "Metric per_image_iou/val improved. New best score: 0.023\n"
     ]
    },
    {
     "name": "stderr",
     "output_type": "stream",
     "text": [
      "Metric per_image_iou/val improved by 0.008 >= min_delta = 0.0. New best score: 0.030\n"
     ]
    },
    {
     "name": "stderr",
     "output_type": "stream",
     "text": [
      "Metric per_image_iou/val improved by 0.024 >= min_delta = 0.0. New best score: 0.055\n"
     ]
    },
    {
     "name": "stderr",
     "output_type": "stream",
     "text": [
      "Metric per_image_iou/val improved by 0.070 >= min_delta = 0.0. New best score: 0.125\n"
     ]
    },
    {
     "name": "stderr",
     "output_type": "stream",
     "text": [
      "Metric per_image_iou/val improved by 0.108 >= min_delta = 0.0. New best score: 0.233\n"
     ]
    },
    {
     "name": "stderr",
     "output_type": "stream",
     "text": [
      "Metric per_image_iou/val improved by 0.083 >= min_delta = 0.0. New best score: 0.316\n"
     ]
    },
    {
     "name": "stderr",
     "output_type": "stream",
     "text": [
      "Metric per_image_iou/val improved by 0.020 >= min_delta = 0.0. New best score: 0.336\n"
     ]
    },
    {
     "name": "stderr",
     "output_type": "stream",
     "text": [
      "Metric per_image_iou/val improved by 0.001 >= min_delta = 0.0. New best score: 0.337\n"
     ]
    },
    {
     "name": "stderr",
     "output_type": "stream",
     "text": [
      "Metric per_image_iou/val improved by 0.008 >= min_delta = 0.0. New best score: 0.345\n"
     ]
    },
    {
     "name": "stderr",
     "output_type": "stream",
     "text": [
      "Metric per_image_iou/val improved by 0.033 >= min_delta = 0.0. New best score: 0.377\n"
     ]
    },
    {
     "name": "stderr",
     "output_type": "stream",
     "text": [
      "Metric per_image_iou/val improved by 0.006 >= min_delta = 0.0. New best score: 0.383\n"
     ]
    },
    {
     "name": "stderr",
     "output_type": "stream",
     "text": [
      "Metric per_image_iou/val improved by 0.002 >= min_delta = 0.0. New best score: 0.385\n"
     ]
    },
    {
     "name": "stderr",
     "output_type": "stream",
     "text": [
      "Metric per_image_iou/val improved by 0.009 >= min_delta = 0.0. New best score: 0.394\n"
     ]
    },
    {
     "name": "stderr",
     "output_type": "stream",
     "text": [
      "Metric per_image_iou/val improved by 0.005 >= min_delta = 0.0. New best score: 0.399\n"
     ]
    },
    {
     "data": {
      "text/html": [
       "<pre style=\"white-space:pre;overflow-x:auto;line-height:normal;font-family:Menlo,'DejaVu Sans Mono',consolas,'Courier New',monospace\">/home/leo/apps/miniconda3/envs/CVers/lib/python3.11/site-packages/lightning/pytorch/callbacks/stochastic_weight_avg\n",
       ".py:225: SWA is currently only supported every epoch. Found \n",
       "LRSchedulerConfig(scheduler=&lt;torch.optim.lr_scheduler.OneCycleLR object at 0x7003be257ed0&gt;, name=None, \n",
       "interval='step', frequency=1, reduce_on_plateau=False, monitor=None, strict=True)\n",
       "</pre>\n"
      ],
      "text/plain": [
       "/home/leo/apps/miniconda3/envs/CVers/lib/python3.11/site-packages/lightning/pytorch/callbacks/stochastic_weight_avg\n",
       ".py:225: SWA is currently only supported every epoch. Found \n",
       "LRSchedulerConfig(scheduler=<torch.optim.lr_scheduler.OneCycleLR object at 0x7003be257ed0>, name=None, \n",
       "interval='step', frequency=1, reduce_on_plateau=False, monitor=None, strict=True)\n"
      ]
     },
     "metadata": {},
     "output_type": "display_data"
    },
    {
     "name": "stderr",
     "output_type": "stream",
     "text": [
      "Swapping scheduler `OneCycleLR` for `SWALR`\n"
     ]
    },
    {
     "name": "stderr",
     "output_type": "stream",
     "text": [
      "Metric per_image_iou/val improved by 0.014 >= min_delta = 0.0. New best score: 0.412\n"
     ]
    },
    {
     "name": "stderr",
     "output_type": "stream",
     "text": [
      "Monitored metric per_image_iou/val did not improve in the last 15 records. Best score: 0.412. Signaling Trainer to stop.\n"
     ]
    },
    {
     "data": {
      "text/html": [
       "<pre style=\"white-space:pre;overflow-x:auto;line-height:normal;font-family:Menlo,'DejaVu Sans Mono',consolas,'Courier New',monospace\"><span style=\"color: #000080; text-decoration-color: #000080\">Teardown called, cleaning up datasets...</span>\n",
       "</pre>\n"
      ],
      "text/plain": [
       "\u001b[34mTeardown called, cleaning up datasets\u001b[0m\u001b[34m...\u001b[0m\n"
      ]
     },
     "metadata": {},
     "output_type": "display_data"
    },
    {
     "data": {
      "text/html": [
       "<pre style=\"white-space:pre;overflow-x:auto;line-height:normal;font-family:Menlo,'DejaVu Sans Mono',consolas,'Courier New',monospace\"></pre>\n"
      ],
      "text/plain": []
     },
     "metadata": {},
     "output_type": "display_data"
    },
    {
     "name": "stdout",
     "output_type": "stream",
     "text": [
      "Training starting time:  119708.557669162\n",
      "Time elapsed:  418.4929310520092\n"
     ]
    }
   ],
   "source": [
    "trainer.fit(model, datamodule=data_module)\n",
    "print(\"Training starting time: \", timer.start_time(\"train\"))\n",
    "print(\"Time elapsed: \", timer.time_elapsed(\"train\"))"
   ]
  },
  {
   "cell_type": "code",
   "execution_count": 13,
   "id": "67dfcd4e",
   "metadata": {},
   "outputs": [
    {
     "data": {
      "text/html": [
       "<pre style=\"white-space:pre;overflow-x:auto;line-height:normal;font-family:Menlo,'DejaVu Sans Mono',consolas,'Courier New',monospace\"><span style=\"color: #008000; text-decoration-color: #008000\">Using existing split: ./data_splits/data_split_42_70_10.csv</span>\n",
       "</pre>\n"
      ],
      "text/plain": [
       "\u001b[32mUsing existing split: .\u001b[0m\u001b[32m/data_splits/\u001b[0m\u001b[32mdata_split_42_70_10.csv\u001b[0m\n"
      ]
     },
     "metadata": {},
     "output_type": "display_data"
    },
    {
     "name": "stderr",
     "output_type": "stream",
     "text": [
      "LOCAL_RANK: 0 - CUDA_VISIBLE_DEVICES: [0]\n"
     ]
    },
    {
     "data": {
      "application/vnd.jupyter.widget-view+json": {
       "model_id": "0dcc7568ea134819b06acae0ed3b27eb",
       "version_major": 2,
       "version_minor": 0
      },
      "text/plain": [
       "Output()"
      ]
     },
     "metadata": {},
     "output_type": "display_data"
    },
    {
     "data": {
      "text/html": [
       "<pre style=\"white-space:pre;overflow-x:auto;line-height:normal;font-family:Menlo,'DejaVu Sans Mono',consolas,'Courier New',monospace\">┏━━━━━━━━━━━━━━━━━━━━━━━━━━━┳━━━━━━━━━━━━━━━━━━━━━━━━━━━┓\n",
       "┃<span style=\"font-weight: bold\">        Test metric        </span>┃<span style=\"font-weight: bold\">       DataLoader 0        </span>┃\n",
       "┡━━━━━━━━━━━━━━━━━━━━━━━━━━━╇━━━━━━━━━━━━━━━━━━━━━━━━━━━┩\n",
       "│<span style=\"color: #008080; text-decoration-color: #008080\">       accuracy/test       </span>│<span style=\"color: #800080; text-decoration-color: #800080\">    0.9795205593109131     </span>│\n",
       "│<span style=\"color: #008080; text-decoration-color: #008080\">     dataset_iou/test      </span>│<span style=\"color: #800080; text-decoration-color: #800080\">    0.3784315884113312     </span>│\n",
       "│<span style=\"color: #008080; text-decoration-color: #008080\">    per_image_iou/test     </span>│<span style=\"color: #800080; text-decoration-color: #800080\">    0.38920101523399353    </span>│\n",
       "└───────────────────────────┴───────────────────────────┘\n",
       "</pre>\n"
      ],
      "text/plain": [
       "┏━━━━━━━━━━━━━━━━━━━━━━━━━━━┳━━━━━━━━━━━━━━━━━━━━━━━━━━━┓\n",
       "┃\u001b[1m \u001b[0m\u001b[1m       Test metric       \u001b[0m\u001b[1m \u001b[0m┃\u001b[1m \u001b[0m\u001b[1m      DataLoader 0       \u001b[0m\u001b[1m \u001b[0m┃\n",
       "┡━━━━━━━━━━━━━━━━━━━━━━━━━━━╇━━━━━━━━━━━━━━━━━━━━━━━━━━━┩\n",
       "│\u001b[36m \u001b[0m\u001b[36m      accuracy/test      \u001b[0m\u001b[36m \u001b[0m│\u001b[35m \u001b[0m\u001b[35m   0.9795205593109131    \u001b[0m\u001b[35m \u001b[0m│\n",
       "│\u001b[36m \u001b[0m\u001b[36m    dataset_iou/test     \u001b[0m\u001b[36m \u001b[0m│\u001b[35m \u001b[0m\u001b[35m   0.3784315884113312    \u001b[0m\u001b[35m \u001b[0m│\n",
       "│\u001b[36m \u001b[0m\u001b[36m   per_image_iou/test    \u001b[0m\u001b[36m \u001b[0m│\u001b[35m \u001b[0m\u001b[35m   0.38920101523399353   \u001b[0m\u001b[35m \u001b[0m│\n",
       "└───────────────────────────┴───────────────────────────┘\n"
      ]
     },
     "metadata": {},
     "output_type": "display_data"
    },
    {
     "data": {
      "text/html": [
       "<pre style=\"white-space:pre;overflow-x:auto;line-height:normal;font-family:Menlo,'DejaVu Sans Mono',consolas,'Courier New',monospace\"><span style=\"color: #000080; text-decoration-color: #000080\">Teardown called, cleaning up datasets...</span>\n",
       "</pre>\n"
      ],
      "text/plain": [
       "\u001b[34mTeardown called, cleaning up datasets\u001b[0m\u001b[34m...\u001b[0m\n"
      ]
     },
     "metadata": {},
     "output_type": "display_data"
    },
    {
     "data": {
      "text/html": [
       "<pre style=\"white-space:pre;overflow-x:auto;line-height:normal;font-family:Menlo,'DejaVu Sans Mono',consolas,'Courier New',monospace\"></pre>\n"
      ],
      "text/plain": []
     },
     "metadata": {},
     "output_type": "display_data"
    },
    {
     "name": "stdout",
     "output_type": "stream",
     "text": [
      "Time elapsed:  1.8275379029946635\n"
     ]
    }
   ],
   "source": [
    "trainer.test(model, datamodule=data_module)\n",
    "print(\"Time elapsed: \", timer.time_elapsed(\"test\"))"
   ]
  }
 ],
 "metadata": {
  "kernelspec": {
   "display_name": "CVers",
   "language": "python",
   "name": "python3"
  },
  "language_info": {
   "codemirror_mode": {
    "name": "ipython",
    "version": 3
   },
   "file_extension": ".py",
   "mimetype": "text/x-python",
   "name": "python",
   "nbconvert_exporter": "python",
   "pygments_lexer": "ipython3",
   "version": "3.11.9"
  }
 },
 "nbformat": 4,
 "nbformat_minor": 5
}
