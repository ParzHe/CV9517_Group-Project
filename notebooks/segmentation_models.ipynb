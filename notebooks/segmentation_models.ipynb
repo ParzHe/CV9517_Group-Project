{
 "cells": [
  {
   "cell_type": "markdown",
   "id": "eefe3629",
   "metadata": {},
   "source": [
    "# **COMP9517 - Group Project (Segmentation Models Pytorch)**"
   ]
  },
  {
   "cell_type": "markdown",
   "id": "bb76af11",
   "metadata": {},
   "source": [
    "## **0. Add Imports**"
   ]
  },
  {
   "cell_type": "code",
   "execution_count": 1,
   "id": "16f037ca",
   "metadata": {},
   "outputs": [],
   "source": [
    "# !conda env create -f environment.yaml"
   ]
  },
  {
   "cell_type": "code",
   "execution_count": 2,
   "id": "45474d93",
   "metadata": {},
   "outputs": [],
   "source": [
    "import os\n",
    "import sys\n",
    "sys.path.append(os.path.join(os.getcwd(), \"..\"))\n",
    "\n",
    "import lightning as L\n",
    "from lightning.pytorch.callbacks import ModelCheckpoint, LearningRateMonitor, EarlyStopping, RichProgressBar, RichModelSummary\n",
    "from lightning.pytorch.loggers import TensorBoardLogger, WandbLogger\n",
    "\n",
    "from data import AerialDeadTreeSegDataModule, download_dataset\n",
    "from lightning.pytorch.tuner import Tuner\n",
    "from lightning_modules import freeze_smp_encoder_layers, SMPLitModule\n",
    "from utils import paths,TimerCallback\n",
    "import segmentation_models_pytorch as smp\n"
   ]
  },
  {
   "cell_type": "code",
   "execution_count": 3,
   "id": "6bfcd838",
   "metadata": {},
   "outputs": [],
   "source": [
    "ARCH = \"Unet\"\n",
    "ENCODER_NAME = \"mit_b5\"\n",
    "VERSION = \"JaccardLoss+FocalLoss_256x256\"\n",
    "TARGET_SIZE = 256\n",
    "LOSS1 = smp.losses.JaccardLoss(mode='binary', from_logits=True)\n",
    "LOSS2 = smp.losses.FocalLoss(mode='binary')"
   ]
  },
  {
   "cell_type": "markdown",
   "id": "bfbd7cde",
   "metadata": {},
   "source": [
    "## **1. Simple Summary of the Dattaset**"
   ]
  },
  {
   "cell_type": "code",
   "execution_count": 4,
   "id": "8ed9f2b4",
   "metadata": {},
   "outputs": [
    {
     "name": "stdout",
     "output_type": "stream",
     "text": [
      "Max RGB resolution: (652, 636), Min RGB resolution: (317, 294)\n",
      "Max NRG resolution: (652, 636), Min NRG resolution: (317, 294)\n"
     ]
    }
   ],
   "source": [
    "from PIL import Image\n",
    "# Get the data folder\n",
    "data_folder = download_dataset()\n",
    "\n",
    "rgb_dir = os.path.join(data_folder, \"RGB_images\")\n",
    "nrg_dir = os.path.join(data_folder, \"NRG_images\")\n",
    "mask_dir = os.path.join(data_folder, \"masks\")\n",
    "\n",
    "# Get the max and min resolution of the images\n",
    "def get_max_min_resolution(image_dir):\n",
    "    max_res = (0, 0)\n",
    "    min_res = (float('inf'), float('inf'))\n",
    "    for filename in os.listdir(image_dir):\n",
    "        if filename.endswith(\".png\"):\n",
    "            filepath = os.path.join(image_dir, filename)\n",
    "            with open(filepath, 'rb') as f:\n",
    "                img = Image.open(f)\n",
    "                height, width = img.size\n",
    "                max_res = (max(max_res[0], height), max(max_res[1], width))\n",
    "                min_res = (min(min_res[0], height), min(min_res[1], width))\n",
    "    return max_res, min_res\n",
    "max_rgb_res, min_rgb_res = get_max_min_resolution(rgb_dir)\n",
    "max_nrg_res, min_nrg_res = get_max_min_resolution(nrg_dir)\n",
    "print(f\"Max RGB resolution: {max_rgb_res}, Min RGB resolution: {min_rgb_res}\")\n",
    "print(f\"Max NRG resolution: {max_nrg_res}, Min NRG resolution: {min_nrg_res}\")"
   ]
  },
  {
   "cell_type": "markdown",
   "id": "b7db092b",
   "metadata": {},
   "source": [
    "## **1. Find Suggested Learning Rate**"
   ]
  },
  {
   "cell_type": "code",
   "execution_count": 5,
   "id": "2df12677",
   "metadata": {},
   "outputs": [],
   "source": [
    "data_module = AerialDeadTreeSegDataModule(\n",
    "    val_split=0.1, test_split=0.2, seed=42,\n",
    "    pattern=\"merged\", # in_channels=4. If pattern is \"merged\", it will use 4 channels (RGB + NIR); Otherwise, it will use 3 channels (RGB).\n",
    "    batch_size=32,\n",
    "    num_workers= int(os.cpu_count() / 2) if os.cpu_count() is not None else 0,\n",
    "    target_size=TARGET_SIZE)"
   ]
  },
  {
   "cell_type": "code",
   "execution_count": 6,
   "id": "03d1d709",
   "metadata": {},
   "outputs": [
    {
     "name": "stdout",
     "output_type": "stream",
     "text": [
      "\n",
      "Encoder Layer Names:['patch_embed1', 'patch_embed2', 'patch_embed3', 'patch_embed4', 'block1', 'norm1', 'block2', 'norm2', 'block3', 'norm3', 'block4', 'norm4']\n"
     ]
    }
   ],
   "source": [
    "model = SMPLitModule(\n",
    "    arch=ARCH,\n",
    "    encoder_name=ENCODER_NAME,\n",
    "    encoder_weights=\"imagenet\",\n",
    "    in_channels=data_module.in_channels,\n",
    "    out_classes=1,  # Binary segmentation\n",
    "    loss1=LOSS1,\n",
    "    loss2=LOSS2,\n",
    "    lr=1e-3,\n",
    "    use_scheduler=False\n",
    ")\n",
    "\n",
    "layer_names = []\n",
    "for name, module in model.model.encoder.named_children():\n",
    "    # print(f\"Layer: {name}, Module: {module}\")\n",
    "    layer_names.append(name)\n",
    "\n",
    "print(\"\\nEncoder Layer Names:\" + str(layer_names))"
   ]
  },
  {
   "cell_type": "code",
   "execution_count": 7,
   "id": "013794a0",
   "metadata": {},
   "outputs": [],
   "source": [
    "freeze_smp_encoder_layers(model, ENCODER_NAME, layers_range=(0,3))  # Freeze the first 3 layers"
   ]
  },
  {
   "cell_type": "code",
   "execution_count": 8,
   "id": "8744c046",
   "metadata": {},
   "outputs": [
    {
     "name": "stderr",
     "output_type": "stream",
     "text": [
      "💡 Tip: For seamless cloud uploads and versioning, try installing [litmodels](https://pypi.org/project/litmodels/) to enable LitModelCheckpoint, which syncs automatically with the Lightning model registry.\n",
      "GPU available: True (cuda), used: True\n",
      "TPU available: False, using: 0 TPU cores\n",
      "HPU available: False, using: 0 HPUs\n"
     ]
    }
   ],
   "source": [
    "trainer = L.Trainer(\n",
    "    log_every_n_steps=5\n",
    ")"
   ]
  },
  {
   "cell_type": "code",
   "execution_count": null,
   "id": "497bc6a9",
   "metadata": {},
   "outputs": [
    {
     "name": "stderr",
     "output_type": "stream",
     "text": [
      "/home/leo/apps/miniconda3/envs/CVers/lib/python3.11/site-packages/lightning/pytorch/loops/utilities.py:73: `max_epochs` was not set. Setting it to 1000 epochs. To train without an epoch limit, set `max_epochs=-1`.\n",
      "You are using a CUDA device ('NVIDIA GeForce RTX 3090') that has Tensor Cores. To properly utilize them, you should set `torch.set_float32_matmul_precision('medium' | 'high')` which will trade-off precision for performance. For more details, read https://pytorch.org/docs/stable/generated/torch.set_float32_matmul_precision.html#torch.set_float32_matmul_precision\n"
     ]
    },
    {
     "data": {
      "text/html": [
       "<pre style=\"white-space:pre;overflow-x:auto;line-height:normal;font-family:Menlo,'DejaVu Sans Mono',consolas,'Courier New',monospace\"><span style=\"color: #008000; text-decoration-color: #008000\">Using existing split: ../data_splits/data_split_42_70_10.csv</span>\n",
       "</pre>\n"
      ],
      "text/plain": [
       "\u001b[32mUsing existing split: ..\u001b[0m\u001b[32m/data_splits/\u001b[0m\u001b[32mdata_split_42_70_10.csv\u001b[0m\n"
      ]
     },
     "metadata": {},
     "output_type": "display_data"
    },
    {
     "name": "stderr",
     "output_type": "stream",
     "text": [
      "LOCAL_RANK: 0 - CUDA_VISIBLE_DEVICES: [0]\n"
     ]
    },
    {
     "data": {
      "application/vnd.jupyter.widget-view+json": {
       "model_id": "1c157d9d6ca04549b19aeec4a3c3fba7",
       "version_major": 2,
       "version_minor": 0
      },
      "text/plain": [
       "Finding best initial lr:   0%|          | 0/100 [00:00<?, ?it/s]"
      ]
     },
     "metadata": {},
     "output_type": "display_data"
    },
    {
     "name": "stderr",
     "output_type": "stream",
     "text": [
      "`Trainer.fit` stopped: `max_steps=100` reached.\n",
      "Learning rate set to 0.001445439770745928\n",
      "Restoring states from the checkpoint path at /home/leo/unsw/comp9517/CV9517_Group-Project/notebooks/.lr_find_b986d85e-0bb3-4e1b-b4a2-b8582a5810e5.ckpt\n",
      "Restored all states from the checkpoint at /home/leo/unsw/comp9517/CV9517_Group-Project/notebooks/.lr_find_b986d85e-0bb3-4e1b-b4a2-b8582a5810e5.ckpt\n"
     ]
    },
    {
     "data": {
      "text/html": [
       "<pre style=\"white-space:pre;overflow-x:auto;line-height:normal;font-family:Menlo,'DejaVu Sans Mono',consolas,'Courier New',monospace\"><span style=\"color: #000080; text-decoration-color: #000080\">Teardown called, cleaning up datasets...</span>\n",
       "</pre>\n"
      ],
      "text/plain": [
       "\u001b[34mTeardown called, cleaning up datasets\u001b[0m\u001b[34m...\u001b[0m\n"
      ]
     },
     "metadata": {},
     "output_type": "display_data"
    },
    {
     "data": {
      "image/png": "[encoded data removed]",
      "text/plain": [
       "<Figure size 640x480 with 1 Axes>"
      ]
     },
     "metadata": {},
     "output_type": "display_data"
    },
    {
     "name": "stderr",
     "output_type": "stream",
     "text": [
      "/tmp/ipykernel_582537/1558274056.py:6: UserWarning: FigureCanvasAgg is non-interactive, and thus cannot be shown\n",
      "  fig.show()\n"
     ]
    }
   ],
   "source": [
    "tuner = Tuner(trainer)\n",
    "lr_finder = tuner.lr_find(model, datamodule=data_module,\n",
    "                          min_lr=1e-5, max_lr= 0.1,\n",
    "                          num_training=100, early_stop_threshold=4)\n",
    "fig = lr_finder.plot(suggest=True, show=True)\n",
    "trainer.logger.log_graph(\n",
    "    key=\"lr_finder\",\n",
    "    images=[fig],\n",
    "    caption=\"Learning Rate Finder\"\n",
    ")\n",
    "fig.show()"
   ]
  },
  {
   "cell_type": "code",
   "execution_count": 10,
   "id": "e6d2d7a3",
   "metadata": {},
   "outputs": [
    {
     "name": "stdout",
     "output_type": "stream",
     "text": [
      "Original suggested learning rate: 0.001445439770745928\n",
      "Rounded suggested learning rate: 0.001\n"
     ]
    }
   ],
   "source": [
    "import math\n",
    "suggested_lr = lr_finder.suggestion()\n",
    "print(f\"Original suggested learning rate: {suggested_lr}\")\n",
    "\n",
    "# Round the suggested learning rate to 1 significant digit\n",
    "magnitude =  10 ** (math.floor(math.log10(suggested_lr)))\n",
    "suggested_lr = round(suggested_lr / magnitude) * magnitude\n",
    "\n",
    "print(f\"Rounded suggested learning rate: {suggested_lr}\")"
   ]
  },
  {
   "cell_type": "markdown",
   "id": "e7fa5579",
   "metadata": {},
   "source": [
    "## **3. Train Segmentation Model**"
   ]
  },
  {
   "cell_type": "code",
   "execution_count": 11,
   "id": "c061e498",
   "metadata": {},
   "outputs": [],
   "source": [
    "data_module =  AerialDeadTreeSegDataModule(\n",
    "    val_split=0.1, test_split=0.2, seed=42,\n",
    "    pattern=\"merged\", # in_channels=4. If pattern is \"merged\", it will use 4 channels (RGB + NIR); Otherwise, it will use 3 channels (RGB).\n",
    "    batch_size=32,\n",
    "    num_workers= int(os.cpu_count() / 2) if os.cpu_count() is not None else 0,\n",
    "    target_size=TARGET_SIZE)"
   ]
  },
  {
   "cell_type": "code",
   "execution_count": 12,
   "id": "87ec1c33",
   "metadata": {},
   "outputs": [],
   "source": [
    "model_sum_callback = RichModelSummary(max_depth=2)\n",
    "\n",
    "lr_monitor = LearningRateMonitor(logging_interval='step')\n",
    "\n",
    "early_stop_callback = EarlyStopping(\n",
    "    monitor=\"per_image_iou/val\",\n",
    "    patience=10,\n",
    "    verbose=True,\n",
    "    mode=\"max\"  # Maximize the metric\n",
    ")\n",
    "\n",
    "checkpoint_callback = ModelCheckpoint(\n",
    "    dirpath=os.path.join(paths.checkpoint_dir, f\"smp_{ENCODER_NAME}_{ARCH}\", VERSION),\n",
    "    monitor=\"per_image_iou/val\",\n",
    "    filename=\"{epoch:02d}-{per_image_iou_val:.4f}\",\n",
    "    mode=\"max\",\n",
    "    save_top_k=3,\n",
    "    enable_version_counter=True,\n",
    ")\n",
    "\n",
    "timer = TimerCallback()"
   ]
  },
  {
   "cell_type": "code",
   "execution_count": 13,
   "id": "1ccac926",
   "metadata": {},
   "outputs": [
    {
     "name": "stdout",
     "output_type": "stream",
     "text": [
      "Encoder layer names: ['patch_embed1', 'patch_embed2', 'patch_embed3', 'patch_embed4', 'block1', 'norm1', 'block2', 'norm2', 'block3', 'norm3', 'block4', 'norm4']\n"
     ]
    }
   ],
   "source": [
    "model = SMPLitModule(\n",
    "    arch=ARCH,\n",
    "    encoder_name=ENCODER_NAME,\n",
    "    encoder_weights=\"imagenet\",\n",
    "    in_channels=data_module.in_channels,\n",
    "    out_classes=1,  # Binary segmentation\n",
    "    loss1=LOSS1,\n",
    "    loss2=LOSS2,\n",
    "    lr=suggested_lr,\n",
    "    use_scheduler=True\n",
    ")\n",
    "\n",
    "layer_names = []\n",
    "for name, module in model.model.encoder.named_children():\n",
    "    layer_names.append(name)\n",
    "print(f\"Encoder layer names: {layer_names}\")\n"
   ]
  },
  {
   "cell_type": "code",
   "execution_count": 14,
   "id": "21fc1e78",
   "metadata": {},
   "outputs": [],
   "source": [
    "freeze_smp_encoder_layers(model, ENCODER_NAME, layers_range=(0,3))"
   ]
  },
  {
   "cell_type": "code",
   "execution_count": 15,
   "id": "9e35cb8a",
   "metadata": {},
   "outputs": [
    {
     "name": "stderr",
     "output_type": "stream",
     "text": [
      "Trainer already configured with model summary callbacks: [<class 'lightning.pytorch.callbacks.rich_model_summary.RichModelSummary'>]. Skipping setting a default `ModelSummary` callback.\n",
      "GPU available: True (cuda), used: True\n",
      "TPU available: False, using: 0 TPU cores\n",
      "HPU available: False, using: 0 HPUs\n"
     ]
    },
    {
     "data": {
      "text/html": [
       "<pre style=\"white-space:pre;overflow-x:auto;line-height:normal;font-family:Menlo,'DejaVu Sans Mono',consolas,'Courier New',monospace\"><span style=\"color: #008000; text-decoration-color: #008000\">Using existing split: ../data_splits/data_split_42_70_10.csv</span>\n",
       "</pre>\n"
      ],
      "text/plain": [
       "\u001b[32mUsing existing split: ..\u001b[0m\u001b[32m/data_splits/\u001b[0m\u001b[32mdata_split_42_70_10.csv\u001b[0m\n"
      ]
     },
     "metadata": {},
     "output_type": "display_data"
    },
    {
     "name": "stderr",
     "output_type": "stream",
     "text": [
      "LOCAL_RANK: 0 - CUDA_VISIBLE_DEVICES: [0]\n",
      "Loading `train_dataloader` to estimate number of stepping batches.\n"
     ]
    },
    {
     "data": {
      "text/html": [
       "<pre style=\"white-space:pre;overflow-x:auto;line-height:normal;font-family:Menlo,'DejaVu Sans Mono',consolas,'Courier New',monospace\">┏━━━┳━━━━━━━━━━━━━━━━━━━━━━━━━┳━━━━━━━━━━━━━━━━━━━━━━━━━━━━━┳━━━━━━━━┳━━━━━━━┓\n",
       "┃<span style=\"color: #800080; text-decoration-color: #800080; font-weight: bold\">   </span>┃<span style=\"color: #800080; text-decoration-color: #800080; font-weight: bold\"> Name                    </span>┃<span style=\"color: #800080; text-decoration-color: #800080; font-weight: bold\"> Type                        </span>┃<span style=\"color: #800080; text-decoration-color: #800080; font-weight: bold\"> Params </span>┃<span style=\"color: #800080; text-decoration-color: #800080; font-weight: bold\"> Mode  </span>┃\n",
       "┡━━━╇━━━━━━━━━━━━━━━━━━━━━━━━━╇━━━━━━━━━━━━━━━━━━━━━━━━━━━━━╇━━━━━━━━╇━━━━━━━┩\n",
       "│<span style=\"color: #7f7f7f; text-decoration-color: #7f7f7f\"> 0 </span>│ model                   │ Unet                        │ 84.7 M │ train │\n",
       "│<span style=\"color: #7f7f7f; text-decoration-color: #7f7f7f\"> 1 </span>│ model.encoder           │ MixVisionTransformerEncoder │ 81.4 M │ train │\n",
       "│<span style=\"color: #7f7f7f; text-decoration-color: #7f7f7f\"> 2 </span>│ model.decoder           │ UnetDecoder                 │  3.3 M │ train │\n",
       "│<span style=\"color: #7f7f7f; text-decoration-color: #7f7f7f\"> 3 </span>│ model.segmentation_head │ SegmentationHead            │    145 │ train │\n",
       "│<span style=\"color: #7f7f7f; text-decoration-color: #7f7f7f\"> 4 </span>│ loss_fn1                │ JaccardLoss                 │      0 │ train │\n",
       "│<span style=\"color: #7f7f7f; text-decoration-color: #7f7f7f\"> 5 </span>│ loss_fn2                │ FocalLoss                   │      0 │ train │\n",
       "│<span style=\"color: #7f7f7f; text-decoration-color: #7f7f7f\"> 6 </span>│ _default_loss           │ DiceLoss                    │      0 │ train │\n",
       "└───┴─────────────────────────┴─────────────────────────────┴────────┴───────┘\n",
       "</pre>\n"
      ],
      "text/plain": [
       "┏━━━┳━━━━━━━━━━━━━━━━━━━━━━━━━┳━━━━━━━━━━━━━━━━━━━━━━━━━━━━━┳━━━━━━━━┳━━━━━━━┓\n",
       "┃\u001b[1;35m \u001b[0m\u001b[1;35m \u001b[0m\u001b[1;35m \u001b[0m┃\u001b[1;35m \u001b[0m\u001b[1;35mName                   \u001b[0m\u001b[1;35m \u001b[0m┃\u001b[1;35m \u001b[0m\u001b[1;35mType                       \u001b[0m\u001b[1;35m \u001b[0m┃\u001b[1;35m \u001b[0m\u001b[1;35mParams\u001b[0m\u001b[1;35m \u001b[0m┃\u001b[1;35m \u001b[0m\u001b[1;35mMode \u001b[0m\u001b[1;35m \u001b[0m┃\n",
       "┡━━━╇━━━━━━━━━━━━━━━━━━━━━━━━━╇━━━━━━━━━━━━━━━━━━━━━━━━━━━━━╇━━━━━━━━╇━━━━━━━┩\n",
       "│\u001b[2m \u001b[0m\u001b[2m0\u001b[0m\u001b[2m \u001b[0m│ model                   │ Unet                        │ 84.7 M │ train │\n",
       "│\u001b[2m \u001b[0m\u001b[2m1\u001b[0m\u001b[2m \u001b[0m│ model.encoder           │ MixVisionTransformerEncoder │ 81.4 M │ train │\n",
       "│\u001b[2m \u001b[0m\u001b[2m2\u001b[0m\u001b[2m \u001b[0m│ model.decoder           │ UnetDecoder                 │  3.3 M │ train │\n",
       "│\u001b[2m \u001b[0m\u001b[2m3\u001b[0m\u001b[2m \u001b[0m│ model.segmentation_head │ SegmentationHead            │    145 │ train │\n",
       "│\u001b[2m \u001b[0m\u001b[2m4\u001b[0m\u001b[2m \u001b[0m│ loss_fn1                │ JaccardLoss                 │      0 │ train │\n",
       "│\u001b[2m \u001b[0m\u001b[2m5\u001b[0m\u001b[2m \u001b[0m│ loss_fn2                │ FocalLoss                   │      0 │ train │\n",
       "│\u001b[2m \u001b[0m\u001b[2m6\u001b[0m\u001b[2m \u001b[0m│ _default_loss           │ DiceLoss                    │      0 │ train │\n",
       "└───┴─────────────────────────┴─────────────────────────────┴────────┴───────┘\n"
      ]
     },
     "metadata": {},
     "output_type": "display_data"
    },
    {
     "data": {
      "text/html": [
       "<pre style=\"white-space:pre;overflow-x:auto;line-height:normal;font-family:Menlo,'DejaVu Sans Mono',consolas,'Courier New',monospace\"><span style=\"font-weight: bold\">Trainable params</span>: 84.7 M                                                                                           \n",
       "<span style=\"font-weight: bold\">Non-trainable params</span>: 0                                                                                            \n",
       "<span style=\"font-weight: bold\">Total params</span>: 84.7 M                                                                                               \n",
       "<span style=\"font-weight: bold\">Total estimated model params size (MB)</span>: 338                                                                        \n",
       "<span style=\"font-weight: bold\">Modules in train mode</span>: 1086                                                                                        \n",
       "<span style=\"font-weight: bold\">Modules in eval mode</span>: 0                                                                                            \n",
       "</pre>\n"
      ],
      "text/plain": [
       "\u001b[1mTrainable params\u001b[0m: 84.7 M                                                                                           \n",
       "\u001b[1mNon-trainable params\u001b[0m: 0                                                                                            \n",
       "\u001b[1mTotal params\u001b[0m: 84.7 M                                                                                               \n",
       "\u001b[1mTotal estimated model params size (MB)\u001b[0m: 338                                                                        \n",
       "\u001b[1mModules in train mode\u001b[0m: 1086                                                                                        \n",
       "\u001b[1mModules in eval mode\u001b[0m: 0                                                                                            \n"
      ]
     },
     "metadata": {},
     "output_type": "display_data"
    },
    {
     "data": {
      "application/vnd.jupyter.widget-view+json": {
       "model_id": "347c7561c36c4087b985d8167d1416dc",
       "version_major": 2,
       "version_minor": 0
      },
      "text/plain": [
       "Sanity Checking: |          | 0/? [00:00<?, ?it/s]"
      ]
     },
     "metadata": {},
     "output_type": "display_data"
    },
    {
     "data": {
      "application/vnd.jupyter.widget-view+json": {
       "model_id": "10472fabff1843b79b4b9ce2184cd639",
       "version_major": 2,
       "version_minor": 0
      },
      "text/plain": [
       "Training: |          | 0/? [00:00<?, ?it/s]"
      ]
     },
     "metadata": {},
     "output_type": "display_data"
    },
    {
     "data": {
      "application/vnd.jupyter.widget-view+json": {
       "model_id": "651b587e3b0b4803806d393e6c5286ea",
       "version_major": 2,
       "version_minor": 0
      },
      "text/plain": [
       "Validation: |          | 0/? [00:00<?, ?it/s]"
      ]
     },
     "metadata": {},
     "output_type": "display_data"
    },
    {
     "name": "stderr",
     "output_type": "stream",
     "text": [
      "Metric per_image_iou/val improved. New best score: 0.022\n"
     ]
    },
    {
     "data": {
      "application/vnd.jupyter.widget-view+json": {
       "model_id": "d88c794733424eacb1cdc7154165a84d",
       "version_major": 2,
       "version_minor": 0
      },
      "text/plain": [
       "Validation: |          | 0/? [00:00<?, ?it/s]"
      ]
     },
     "metadata": {},
     "output_type": "display_data"
    },
    {
     "name": "stderr",
     "output_type": "stream",
     "text": [
      "Metric per_image_iou/val improved by 0.007 >= min_delta = 0.0. New best score: 0.029\n"
     ]
    },
    {
     "data": {
      "application/vnd.jupyter.widget-view+json": {
       "model_id": "e4f99fb949b74cb9811dd3c04cf0f3da",
       "version_major": 2,
       "version_minor": 0
      },
      "text/plain": [
       "Validation: |          | 0/? [00:00<?, ?it/s]"
      ]
     },
     "metadata": {},
     "output_type": "display_data"
    },
    {
     "name": "stderr",
     "output_type": "stream",
     "text": [
      "Metric per_image_iou/val improved by 0.024 >= min_delta = 0.0. New best score: 0.053\n"
     ]
    },
    {
     "data": {
      "application/vnd.jupyter.widget-view+json": {
       "model_id": "c64e6b5a447749a79bf455d50fbc11f5",
       "version_major": 2,
       "version_minor": 0
      },
      "text/plain": [
       "Validation: |          | 0/? [00:00<?, ?it/s]"
      ]
     },
     "metadata": {},
     "output_type": "display_data"
    },
    {
     "name": "stderr",
     "output_type": "stream",
     "text": [
      "Metric per_image_iou/val improved by 0.097 >= min_delta = 0.0. New best score: 0.149\n"
     ]
    },
    {
     "data": {
      "application/vnd.jupyter.widget-view+json": {
       "model_id": "cb43e4e014a74b36855f84eb0bef895c",
       "version_major": 2,
       "version_minor": 0
      },
      "text/plain": [
       "Validation: |          | 0/? [00:00<?, ?it/s]"
      ]
     },
     "metadata": {},
     "output_type": "display_data"
    },
    {
     "name": "stderr",
     "output_type": "stream",
     "text": [
      "Metric per_image_iou/val improved by 0.061 >= min_delta = 0.0. New best score: 0.211\n"
     ]
    },
    {
     "data": {
      "application/vnd.jupyter.widget-view+json": {
       "model_id": "358a02818cdf47aba6a2282705d5bb94",
       "version_major": 2,
       "version_minor": 0
      },
      "text/plain": [
       "Validation: |          | 0/? [00:00<?, ?it/s]"
      ]
     },
     "metadata": {},
     "output_type": "display_data"
    },
    {
     "name": "stderr",
     "output_type": "stream",
     "text": [
      "Metric per_image_iou/val improved by 0.006 >= min_delta = 0.0. New best score: 0.216\n"
     ]
    },
    {
     "data": {
      "application/vnd.jupyter.widget-view+json": {
       "model_id": "459054dcac97435e8cf8c32bc43b31e4",
       "version_major": 2,
       "version_minor": 0
      },
      "text/plain": [
       "Validation: |          | 0/? [00:00<?, ?it/s]"
      ]
     },
     "metadata": {},
     "output_type": "display_data"
    },
    {
     "name": "stderr",
     "output_type": "stream",
     "text": [
      "Metric per_image_iou/val improved by 0.034 >= min_delta = 0.0. New best score: 0.250\n"
     ]
    },
    {
     "data": {
      "application/vnd.jupyter.widget-view+json": {
       "model_id": "5e78ea47fdb64a069990c602b2ab03f5",
       "version_major": 2,
       "version_minor": 0
      },
      "text/plain": [
       "Validation: |          | 0/? [00:00<?, ?it/s]"
      ]
     },
     "metadata": {},
     "output_type": "display_data"
    },
    {
     "data": {
      "application/vnd.jupyter.widget-view+json": {
       "model_id": "6ba256ada4544d7fa2251aa779caaad2",
       "version_major": 2,
       "version_minor": 0
      },
      "text/plain": [
       "Validation: |          | 0/? [00:00<?, ?it/s]"
      ]
     },
     "metadata": {},
     "output_type": "display_data"
    },
    {
     "name": "stderr",
     "output_type": "stream",
     "text": [
      "Metric per_image_iou/val improved by 0.107 >= min_delta = 0.0. New best score: 0.357\n"
     ]
    },
    {
     "data": {
      "application/vnd.jupyter.widget-view+json": {
       "model_id": "eb372b2a81d04d13a42cdac92deac9a8",
       "version_major": 2,
       "version_minor": 0
      },
      "text/plain": [
       "Validation: |          | 0/? [00:00<?, ?it/s]"
      ]
     },
     "metadata": {},
     "output_type": "display_data"
    },
    {
     "name": "stderr",
     "output_type": "stream",
     "text": [
      "Metric per_image_iou/val improved by 0.001 >= min_delta = 0.0. New best score: 0.358\n"
     ]
    },
    {
     "data": {
      "application/vnd.jupyter.widget-view+json": {
       "model_id": "114b9d499ea54bdf92da1bc4f9e434f5",
       "version_major": 2,
       "version_minor": 0
      },
      "text/plain": [
       "Validation: |          | 0/? [00:00<?, ?it/s]"
      ]
     },
     "metadata": {},
     "output_type": "display_data"
    },
    {
     "name": "stderr",
     "output_type": "stream",
     "text": [
      "Metric per_image_iou/val improved by 0.006 >= min_delta = 0.0. New best score: 0.364\n"
     ]
    },
    {
     "data": {
      "application/vnd.jupyter.widget-view+json": {
       "model_id": "0d19df7e12f74d89aec569bf57a20492",
       "version_major": 2,
       "version_minor": 0
      },
      "text/plain": [
       "Validation: |          | 0/? [00:00<?, ?it/s]"
      ]
     },
     "metadata": {},
     "output_type": "display_data"
    },
    {
     "data": {
      "application/vnd.jupyter.widget-view+json": {
       "model_id": "02854726b2ad41669e8d2e8c92a7d7fb",
       "version_major": 2,
       "version_minor": 0
      },
      "text/plain": [
       "Validation: |          | 0/? [00:00<?, ?it/s]"
      ]
     },
     "metadata": {},
     "output_type": "display_data"
    },
    {
     "data": {
      "application/vnd.jupyter.widget-view+json": {
       "model_id": "775a5f135e9a49cda50c66463e2c6170",
       "version_major": 2,
       "version_minor": 0
      },
      "text/plain": [
       "Validation: |          | 0/? [00:00<?, ?it/s]"
      ]
     },
     "metadata": {},
     "output_type": "display_data"
    },
    {
     "data": {
      "application/vnd.jupyter.widget-view+json": {
       "model_id": "e571c8e1c9314e17b2764e12944bf54d",
       "version_major": 2,
       "version_minor": 0
      },
      "text/plain": [
       "Validation: |          | 0/? [00:00<?, ?it/s]"
      ]
     },
     "metadata": {},
     "output_type": "display_data"
    },
    {
     "data": {
      "application/vnd.jupyter.widget-view+json": {
       "model_id": "00b9d5aa5e6d4776a782d6e1d016b4a8",
       "version_major": 2,
       "version_minor": 0
      },
      "text/plain": [
       "Validation: |          | 0/? [00:00<?, ?it/s]"
      ]
     },
     "metadata": {},
     "output_type": "display_data"
    },
    {
     "name": "stderr",
     "output_type": "stream",
     "text": [
      "Metric per_image_iou/val improved by 0.016 >= min_delta = 0.0. New best score: 0.380\n"
     ]
    },
    {
     "data": {
      "application/vnd.jupyter.widget-view+json": {
       "model_id": "18da445cbc264a5eb372a857455a70d3",
       "version_major": 2,
       "version_minor": 0
      },
      "text/plain": [
       "Validation: |          | 0/? [00:00<?, ?it/s]"
      ]
     },
     "metadata": {},
     "output_type": "display_data"
    },
    {
     "name": "stderr",
     "output_type": "stream",
     "text": [
      "Metric per_image_iou/val improved by 0.012 >= min_delta = 0.0. New best score: 0.391\n"
     ]
    },
    {
     "data": {
      "application/vnd.jupyter.widget-view+json": {
       "model_id": "49487388bad04473a6b79fd507d592ba",
       "version_major": 2,
       "version_minor": 0
      },
      "text/plain": [
       "Validation: |          | 0/? [00:00<?, ?it/s]"
      ]
     },
     "metadata": {},
     "output_type": "display_data"
    },
    {
     "data": {
      "application/vnd.jupyter.widget-view+json": {
       "model_id": "0b2435d917924c13a6846207c1d1e73c",
       "version_major": 2,
       "version_minor": 0
      },
      "text/plain": [
       "Validation: |          | 0/? [00:00<?, ?it/s]"
      ]
     },
     "metadata": {},
     "output_type": "display_data"
    },
    {
     "name": "stderr",
     "output_type": "stream",
     "text": [
      "Metric per_image_iou/val improved by 0.012 >= min_delta = 0.0. New best score: 0.404\n"
     ]
    },
    {
     "data": {
      "application/vnd.jupyter.widget-view+json": {
       "model_id": "044df8c624284b448aaab2b0f0c89ff2",
       "version_major": 2,
       "version_minor": 0
      },
      "text/plain": [
       "Validation: |          | 0/? [00:00<?, ?it/s]"
      ]
     },
     "metadata": {},
     "output_type": "display_data"
    },
    {
     "data": {
      "application/vnd.jupyter.widget-view+json": {
       "model_id": "3d88ba5b95804e1e8c28c604f8833f0c",
       "version_major": 2,
       "version_minor": 0
      },
      "text/plain": [
       "Validation: |          | 0/? [00:00<?, ?it/s]"
      ]
     },
     "metadata": {},
     "output_type": "display_data"
    },
    {
     "name": "stderr",
     "output_type": "stream",
     "text": [
      "Metric per_image_iou/val improved by 0.000 >= min_delta = 0.0. New best score: 0.404\n"
     ]
    },
    {
     "data": {
      "application/vnd.jupyter.widget-view+json": {
       "model_id": "0d2601b27cba44a0a91804328294b429",
       "version_major": 2,
       "version_minor": 0
      },
      "text/plain": [
       "Validation: |          | 0/? [00:00<?, ?it/s]"
      ]
     },
     "metadata": {},
     "output_type": "display_data"
    },
    {
     "name": "stderr",
     "output_type": "stream",
     "text": [
      "Metric per_image_iou/val improved by 0.007 >= min_delta = 0.0. New best score: 0.410\n"
     ]
    },
    {
     "data": {
      "application/vnd.jupyter.widget-view+json": {
       "model_id": "b50475a013bd4d44a49b77d752ebe2f6",
       "version_major": 2,
       "version_minor": 0
      },
      "text/plain": [
       "Validation: |          | 0/? [00:00<?, ?it/s]"
      ]
     },
     "metadata": {},
     "output_type": "display_data"
    },
    {
     "data": {
      "application/vnd.jupyter.widget-view+json": {
       "model_id": "f0b0d69bfcab47c3bf3e7a7318750623",
       "version_major": 2,
       "version_minor": 0
      },
      "text/plain": [
       "Validation: |          | 0/? [00:00<?, ?it/s]"
      ]
     },
     "metadata": {},
     "output_type": "display_data"
    },
    {
     "name": "stderr",
     "output_type": "stream",
     "text": [
      "Metric per_image_iou/val improved by 0.016 >= min_delta = 0.0. New best score: 0.426\n"
     ]
    },
    {
     "data": {
      "application/vnd.jupyter.widget-view+json": {
       "model_id": "d1c051efa5fc4d8488a1681816a2a6f4",
       "version_major": 2,
       "version_minor": 0
      },
      "text/plain": [
       "Validation: |          | 0/? [00:00<?, ?it/s]"
      ]
     },
     "metadata": {},
     "output_type": "display_data"
    },
    {
     "data": {
      "application/vnd.jupyter.widget-view+json": {
       "model_id": "953ce78cfefb40f8b844b27665399af3",
       "version_major": 2,
       "version_minor": 0
      },
      "text/plain": [
       "Validation: |          | 0/? [00:00<?, ?it/s]"
      ]
     },
     "metadata": {},
     "output_type": "display_data"
    },
    {
     "data": {
      "application/vnd.jupyter.widget-view+json": {
       "model_id": "865d27d75c0640e6b181f3f0bb6923b6",
       "version_major": 2,
       "version_minor": 0
      },
      "text/plain": [
       "Validation: |          | 0/? [00:00<?, ?it/s]"
      ]
     },
     "metadata": {},
     "output_type": "display_data"
    },
    {
     "name": "stderr",
     "output_type": "stream",
     "text": [
      "Metric per_image_iou/val improved by 0.004 >= min_delta = 0.0. New best score: 0.430\n"
     ]
    },
    {
     "data": {
      "application/vnd.jupyter.widget-view+json": {
       "model_id": "8e372fae12b34e528f069dc74abab5a1",
       "version_major": 2,
       "version_minor": 0
      },
      "text/plain": [
       "Validation: |          | 0/? [00:00<?, ?it/s]"
      ]
     },
     "metadata": {},
     "output_type": "display_data"
    },
    {
     "data": {
      "application/vnd.jupyter.widget-view+json": {
       "model_id": "6d1943ce02ce4eba98b43e6b486190de",
       "version_major": 2,
       "version_minor": 0
      },
      "text/plain": [
       "Validation: |          | 0/? [00:00<?, ?it/s]"
      ]
     },
     "metadata": {},
     "output_type": "display_data"
    },
    {
     "name": "stderr",
     "output_type": "stream",
     "text": [
      "Metric per_image_iou/val improved by 0.010 >= min_delta = 0.0. New best score: 0.440\n"
     ]
    },
    {
     "data": {
      "application/vnd.jupyter.widget-view+json": {
       "model_id": "f80f3ac0afd249f198ce16380bfcf613",
       "version_major": 2,
       "version_minor": 0
      },
      "text/plain": [
       "Validation: |          | 0/? [00:00<?, ?it/s]"
      ]
     },
     "metadata": {},
     "output_type": "display_data"
    },
    {
     "data": {
      "application/vnd.jupyter.widget-view+json": {
       "model_id": "c938cd5043834163a485e56ca49cf3bb",
       "version_major": 2,
       "version_minor": 0
      },
      "text/plain": [
       "Validation: |          | 0/? [00:00<?, ?it/s]"
      ]
     },
     "metadata": {},
     "output_type": "display_data"
    },
    {
     "data": {
      "application/vnd.jupyter.widget-view+json": {
       "model_id": "a83dd8fa97d64c70a3825a2a97219ea5",
       "version_major": 2,
       "version_minor": 0
      },
      "text/plain": [
       "Validation: |          | 0/? [00:00<?, ?it/s]"
      ]
     },
     "metadata": {},
     "output_type": "display_data"
    },
    {
     "data": {
      "application/vnd.jupyter.widget-view+json": {
       "model_id": "a8bac1add8ad4463af00d6545263c504",
       "version_major": 2,
       "version_minor": 0
      },
      "text/plain": [
       "Validation: |          | 0/? [00:00<?, ?it/s]"
      ]
     },
     "metadata": {},
     "output_type": "display_data"
    },
    {
     "data": {
      "application/vnd.jupyter.widget-view+json": {
       "model_id": "f7d4b6352598453d81f66d0ae44dcda9",
       "version_major": 2,
       "version_minor": 0
      },
      "text/plain": [
       "Validation: |          | 0/? [00:00<?, ?it/s]"
      ]
     },
     "metadata": {},
     "output_type": "display_data"
    },
    {
     "data": {
      "application/vnd.jupyter.widget-view+json": {
       "model_id": "19619aa4331f45148edc17ce67103e43",
       "version_major": 2,
       "version_minor": 0
      },
      "text/plain": [
       "Validation: |          | 0/? [00:00<?, ?it/s]"
      ]
     },
     "metadata": {},
     "output_type": "display_data"
    },
    {
     "data": {
      "application/vnd.jupyter.widget-view+json": {
       "model_id": "678d7016b15a4ef489a485627783bef3",
       "version_major": 2,
       "version_minor": 0
      },
      "text/plain": [
       "Validation: |          | 0/? [00:00<?, ?it/s]"
      ]
     },
     "metadata": {},
     "output_type": "display_data"
    },
    {
     "data": {
      "application/vnd.jupyter.widget-view+json": {
       "model_id": "f37d3cd8d37e4290b93baf79feddbe49",
       "version_major": 2,
       "version_minor": 0
      },
      "text/plain": [
       "Validation: |          | 0/? [00:00<?, ?it/s]"
      ]
     },
     "metadata": {},
     "output_type": "display_data"
    },
    {
     "data": {
      "application/vnd.jupyter.widget-view+json": {
       "model_id": "fa9f2c90afb244469f44b754ce4d9523",
       "version_major": 2,
       "version_minor": 0
      },
      "text/plain": [
       "Validation: |          | 0/? [00:00<?, ?it/s]"
      ]
     },
     "metadata": {},
     "output_type": "display_data"
    },
    {
     "data": {
      "application/vnd.jupyter.widget-view+json": {
       "model_id": "286b23cceb78402aa09f424029327aec",
       "version_major": 2,
       "version_minor": 0
      },
      "text/plain": [
       "Validation: |          | 0/? [00:00<?, ?it/s]"
      ]
     },
     "metadata": {},
     "output_type": "display_data"
    },
    {
     "name": "stderr",
     "output_type": "stream",
     "text": [
      "Monitored metric per_image_iou/val did not improve in the last 10 records. Best score: 0.440. Signaling Trainer to stop.\n"
     ]
    },
    {
     "data": {
      "text/html": [
       "<pre style=\"white-space:pre;overflow-x:auto;line-height:normal;font-family:Menlo,'DejaVu Sans Mono',consolas,'Courier New',monospace\"><span style=\"color: #000080; text-decoration-color: #000080\">Teardown called, cleaning up datasets...</span>\n",
       "</pre>\n"
      ],
      "text/plain": [
       "\u001b[34mTeardown called, cleaning up datasets\u001b[0m\u001b[34m...\u001b[0m\n"
      ]
     },
     "metadata": {},
     "output_type": "display_data"
    }
   ],
   "source": [
    "logger = TensorBoardLogger(paths.tensorboard_log_dir, name=f\"smp_{ENCODER_NAME}_{ARCH}\", version=VERSION)\n",
    "\n",
    "trainer = L.Trainer(\n",
    "    max_epochs=100,\n",
    "    enable_progress_bar=True,\n",
    "    logger=logger,\n",
    "    callbacks=[model_sum_callback,lr_monitor, early_stop_callback, checkpoint_callback],\n",
    "    log_every_n_steps=5,\n",
    ")\n",
    "trainer.fit(model, datamodule=data_module)"
   ]
  }
 ],
 "metadata": {
  "kernelspec": {
   "display_name": "CVers",
   "language": "python",
   "name": "python3"
  },
  "language_info": {
   "codemirror_mode": {
    "name": "ipython",
    "version": 3
   },
   "file_extension": ".py",
   "mimetype": "text/x-python",
   "name": "python",
   "nbconvert_exporter": "python",
   "pygments_lexer": "ipython3",
   "version": "3.11.9"
  }
 },
 "nbformat": 4,
 "nbformat_minor": 5
}
